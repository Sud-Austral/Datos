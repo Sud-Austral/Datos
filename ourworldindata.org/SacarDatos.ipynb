{
 "cells": [
  {
   "cell_type": "code",
   "execution_count": 8,
   "metadata": {},
   "outputs": [
    {
     "name": "stdout",
     "output_type": "stream",
     "text": [
      "On branch master\n",
      "Your branch is up to date with 'origin/master'.\n",
      "\n",
      "Changes not staged for commit:\n",
      "  (use \"git add <file>...\" to update what will be committed)\n",
      "  (use \"git checkout -- <file>...\" to discard changes in working directory)\n",
      "\n",
      "\tmodified:   ourworldindata.org/SacarDatos.ipynb\n",
      "\n",
      "Untracked files:\n",
      "  (use \"git add <file>...\" to include in what will be committed)\n",
      "\n",
      "\tourworldindata.org/tests-vs-confirmed-cases-covid-1931-03-2020_14-15-30.csv\n",
      "\tourworldindata.org/total-deaths-covid-19.csv\n",
      "\tourworldindata.org/total-deaths-covid-1931-03-2020_14-15-30.csv\n",
      "\n",
      "no changes added to commit (use \"git add\" and/or \"git commit -a\")\n"
     ]
    },
    {
     "data": {
      "text/plain": [
       "[<git.remote.PushInfo at 0x258d41903a8>]"
      ]
     },
     "execution_count": 8,
     "metadata": {},
     "output_type": "execute_result"
    }
   ],
   "source": [
    "from selenium import webdriver\n",
    "from selenium.webdriver.common.keys import Keys\n",
    "import time\n",
    "import sys\n",
    "from datetime import datetime\n",
    "from selenium.webdriver.firefox.firefox_profile import FirefoxProfile\n",
    "from selenium.webdriver.firefox.options import Options\n",
    "from os import remove\n",
    "import shutil\n",
    "import git\n",
    "\n",
    "now = datetime.now()\n",
    "try:\n",
    "    remove(\"C:/Users/limc_/Downloads/tests-vs-confirmed-cases-covid-19.csv\")\n",
    "    remove(\"C:/Users/limc_/Downloads/total-deaths-covid-19.csv\")\n",
    "except:\n",
    "    pass\n",
    "download_folder = \"C:/Users/limc_/Documents/GitHub/Datos\"\n",
    "options = Options()\n",
    "options.set_preference(\"browser.download.dir\", download_folder)\n",
    "#options.set_preference(\"browser.download.folderList\", 2)\n",
    "options.set_preference(\"browser.download.manager.showWhenStarting\", False)\n",
    "options.set_preference(\"browser.helperApps.neverAsk.saveToDisk\", \"text/csv\") #, \"application/json\")\n",
    "#browser = webdriver.WebDriver(firefox_profile=profile)\n",
    "#driver = webdriver.WebDriver(firefox_profile=profile)\n",
    "driver = webdriver.Firefox(options=options)\n",
    "driver.set_page_load_timeout(\"60\")\n",
    "driver.get(\"https://ourworldindata.org/grapher/tests-vs-confirmed-cases-covid-19\")\n",
    "\n",
    "time.sleep(2)\n",
    "driver.find_element_by_xpath(\"/html/body/main/figure/div/div[3]/div/nav/ul/li[2]/a\").click()\n",
    "time.sleep(1)\n",
    "driver.find_element_by_xpath(\"/html/body/main/figure/div/div[4]/div/a\").click()\n",
    "time.sleep(1)\n",
    "\n",
    "\n",
    "driver.get(\"https://ourworldindata.org/grapher/total-deaths-covid-19\")\n",
    "time.sleep(2)\n",
    "driver.find_element_by_xpath(\"/html/body/main/figure/div/div[3]/div[2]/nav/ul/li[3]/a\").click()\n",
    "time.sleep(1)\n",
    "driver.find_element_by_xpath(\"/html/body/main/figure/div/div[4]/div/a\").click()\n",
    "time.sleep(1)                 \n",
    "                              \n",
    "driver.close()\n",
    "\n",
    "shutil.copy('C:/Users/limc_/Downloads/tests-vs-confirmed-cases-covid-19.csv', 'C:/Users/limc_/Documents/GitHub/Datos/ourworldindata.org/tests-vs-confirmed-cases-covid-19' + now.strftime(\"%d-%m-%Y_%H-%M-%S\") + \".csv\")\n",
    "shutil.copy('C:/Users/limc_/Downloads/tests-vs-confirmed-cases-covid-19.csv', 'C:/Users/limc_/Documents/GitHub/Datos/ourworldindata.org/tests-vs-confirmed-cases-covid-19.csv')\n",
    "shutil.copy('C:/Users/limc_/Downloads/total-deaths-covid-19.csv', 'C:/Users/limc_/Documents/GitHub/Datos/ourworldindata.org/total-deaths-covid-19' + now.strftime(\"%d-%m-%Y_%H-%M-%S\") + \".csv\")\n",
    "shutil.copy('C:/Users/limc_/Downloads/total-deaths-covid-19.csv', 'C:/Users/limc_/Documents/GitHub/Datos/ourworldindata.org/total-deaths-covid-19.csv')\n",
    "\n",
    "\n",
    "repoLocal = git.Repo( 'C:/Users/limc_/Documents/GitHub/Datos' )\n",
    "print(repoLocal.git.status())\n",
    "repoLocal.git.add(\".\")\n",
    "try:\n",
    "    repoLocal.git.commit(m='Update automatico via python')\n",
    "except:\n",
    "    pass\n",
    "\n",
    "origin = repoLocal.remote(name='origin')\n",
    "origin.push()"
   ]
  },
  {
   "cell_type": "code",
   "execution_count": null,
   "metadata": {},
   "outputs": [],
   "source": []
  }
 ],
 "metadata": {
  "kernelspec": {
   "display_name": "Python 3",
   "language": "python",
   "name": "python3"
  },
  "language_info": {
   "codemirror_mode": {
    "name": "ipython",
    "version": 3
   },
   "file_extension": ".py",
   "mimetype": "text/x-python",
   "name": "python",
   "nbconvert_exporter": "python",
   "pygments_lexer": "ipython3",
   "version": "3.7.4"
  }
 },
 "nbformat": 4,
 "nbformat_minor": 2
}
