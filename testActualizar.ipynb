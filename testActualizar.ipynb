{
 "cells": [
  {
   "cell_type": "code",
   "execution_count": 1,
   "metadata": {},
   "outputs": [],
   "source": [
    "import Actualizar as A"
   ]
  },
  {
   "cell_type": "code",
   "execution_count": 2,
   "metadata": {},
   "outputs": [
    {
     "name": "stdout",
     "output_type": "stream",
     "text": [
      "On branch master\n",
      "Your branch is up to date with 'origin/master'.\n",
      "\n",
      "Changes not staged for commit:\n",
      "  (use \"git add <file>...\" to update what will be committed)\n",
      "  (use \"git checkout -- <file>...\" to discard changes in working directory)\n",
      "\n",
      "\tmodified:   ourworldindata.org/daily-cases-covid-19.csv\n",
      "\tmodified:   ourworldindata.org/tests-vs-confirmed-cases-covid-19.csv\n",
      "\tmodified:   ourworldindata.org/total-and-daily-cases-covid-19.csv\n",
      "\tmodified:   ourworldindata.org/total-cases-covid-19.csv\n",
      "\tmodified:   ourworldindata.org/total-daily-covid-deaths-per-million.csv\n",
      "\tmodified:   ourworldindata.org/total-deaths-covid-19.csv\n",
      "\tmodified:   testActualizar.ipynb\n",
      "\n",
      "Untracked files:\n",
      "  (use \"git add <file>...\" to include in what will be committed)\n",
      "\n",
      "\tgeckodriver.exe\n",
      "\tourworldindata.org/covid-19-tests-country06-04-2020_11-50-06.csv\n",
      "\tourworldindata.org/daily-cases-covid-1906-04-2020_11-50-06.csv\n",
      "\tourworldindata.org/hospital-beds-per-1000-people06-04-2020_11-50-06.csv\n",
      "\tourworldindata.org/physicians-per-1000-people06-04-2020_11-50-06.csv\n",
      "\tourworldindata.org/share-of-the-population-that-is-70-years-and-older06-04-2020_11-50-06.csv\n",
      "\tourworldindata.org/tests-vs-confirmed-cases-covid-1906-04-2020_11-50-06.csv\n",
      "\tourworldindata.org/total-and-daily-cases-covid-1906-04-2020_11-50-06.csv\n",
      "\tourworldindata.org/total-cases-covid-1906-04-2020_11-50-06.csv\n",
      "\tourworldindata.org/total-daily-covid-deaths-per-million06-04-2020_11-50-06.csv\n",
      "\tourworldindata.org/total-deaths-covid-1906-04-2020_11-50-06.csv\n",
      "\n",
      "no changes added to commit (use \"git add\" and/or \"git commit -a\")\n"
     ]
    }
   ],
   "source": [
    "A.ourWorldInData()"
   ]
  },
  {
   "cell_type": "code",
   "execution_count": null,
   "metadata": {},
   "outputs": [],
   "source": []
  },
  {
   "cell_type": "code",
   "execution_count": 3,
   "metadata": {},
   "outputs": [],
   "source": [
    "#test.EarlyAlert()"
   ]
  }
 ],
 "metadata": {
  "kernelspec": {
   "display_name": "Python 3",
   "language": "python",
   "name": "python3"
  },
  "language_info": {
   "codemirror_mode": {
    "name": "ipython",
    "version": 3
   },
   "file_extension": ".py",
   "mimetype": "text/x-python",
   "name": "python",
   "nbconvert_exporter": "python",
   "pygments_lexer": "ipython3",
   "version": "3.7.4"
  }
 },
 "nbformat": 4,
 "nbformat_minor": 2
}
