{
 "cells": [
  {
   "cell_type": "code",
   "execution_count": 1,
   "metadata": {},
   "outputs": [
    {
     "name": "stdout",
     "output_type": "stream",
     "text": [
      "On branch master\n",
      "Your branch is up to date with 'origin/master'.\n",
      "\n",
      "Changes not staged for commit:\n",
      "  (use \"git add <file>...\" to update what will be committed)\n",
      "  (use \"git checkout -- <file>...\" to discard changes in working directory)\n",
      "\n",
      "\tmodified:   Actualizar.py\n",
      "\tmodified:   Untitled.ipynb\n",
      "\tmodified:   ourworldindata.org/full-list-total-tests-for-covid-19.csv\n",
      "\tmodified:   testActualizar.ipynb\n",
      "\n",
      "Untracked files:\n",
      "  (use \"git add <file>...\" to include in what will be committed)\n",
      "\n",
      "\tourworldindata.org/07-04-2020_17-15-51covid-19-total-confirmed-cases-vs-total-tests-conducted.csv\n",
      "\tourworldindata.org/07-04-2020_17-15-51daily-cases-covid-19.csv\n",
      "\tourworldindata.org/07-04-2020_17-15-51full-list-total-tests-for-covid-19.csv\n",
      "\tourworldindata.org/07-04-2020_17-15-51hospital-beds-per-1000-people.csv\n",
      "\tourworldindata.org/07-04-2020_17-15-51physicians-per-1000-people.csv\n",
      "\tourworldindata.org/07-04-2020_17-15-51share-of-the-population-that-is-70-years-and-older.csv\n",
      "\tourworldindata.org/07-04-2020_17-15-51total-cases-covid-19.csv\n",
      "\tourworldindata.org/07-04-2020_17-15-51total-daily-covid-deaths-per-million.csv\n",
      "\tourworldindata.org/07-04-2020_17-15-51total-deaths-covid-19.csv\n",
      "\tourworldindata.org/07-04-2020_17-18-35covid-19-total-confirmed-cases-vs-total-tests-conducted.csv\n",
      "\tourworldindata.org/07-04-2020_17-18-35daily-cases-covid-19.csv\n",
      "\tourworldindata.org/07-04-2020_17-18-35full-list-total-tests-for-covid-19.csv\n",
      "\tourworldindata.org/07-04-2020_17-18-35hospital-beds-per-1000-people.csv\n",
      "\tourworldindata.org/07-04-2020_17-18-35physicians-per-1000-people.csv\n",
      "\tourworldindata.org/07-04-2020_17-18-35share-of-the-population-that-is-70-years-and-older.csv\n",
      "\tourworldindata.org/07-04-2020_17-18-35total-cases-covid-19.csv\n",
      "\tourworldindata.org/07-04-2020_17-18-35total-daily-covid-deaths-per-million.csv\n",
      "\tourworldindata.org/07-04-2020_17-18-35total-deaths-covid-19.csv\n",
      "\n",
      "no changes added to commit (use \"git add\" and/or \"git commit -a\")\n"
     ]
    }
   ],
   "source": [
    "import Actualizar as A\n",
    "A.ourWorldInData()"
   ]
  },
  {
   "cell_type": "code",
   "execution_count": null,
   "metadata": {},
   "outputs": [],
   "source": []
  }
 ],
 "metadata": {
  "kernelspec": {
   "display_name": "Python 3",
   "language": "python",
   "name": "python3"
  },
  "language_info": {
   "codemirror_mode": {
    "name": "ipython",
    "version": 3
   },
   "file_extension": ".py",
   "mimetype": "text/x-python",
   "name": "python",
   "nbconvert_exporter": "python",
   "pygments_lexer": "ipython3",
   "version": "3.7.4"
  }
 },
 "nbformat": 4,
 "nbformat_minor": 2
}
