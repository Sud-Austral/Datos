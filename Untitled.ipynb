{
 "cells": [
  {
   "cell_type": "code",
   "execution_count": 1,
   "metadata": {},
   "outputs": [
    {
     "name": "stdout",
     "output_type": "stream",
     "text": [
      "Comenzo...\n",
      "On branch master\n",
      "Your branch is up to date with 'origin/master'.\n",
      "\n",
      "Changes not staged for commit:\n",
      "  (use \"git add <file>...\" to update what will be committed)\n",
      "  (use \"git checkout -- <file>...\" to discard changes in working directory)\n",
      "\n",
      "\tmodified:   Untitled1.ipynb\n",
      "\n",
      "no changes added to commit (use \"git add\" and/or \"git commit -a\")\n",
      "Chile completo...\n",
      "On branch master\n",
      "Your branch is up to date with 'origin/master'.\n",
      "\n",
      "nothing to commit, working tree clean\n",
      "Error de GITHUB\n",
      "Hopkins diario completo...\n",
      "On branch master\n",
      "Your branch is up to date with 'origin/master'.\n",
      "\n",
      "Changes not staged for commit:\n",
      "  (use \"git add <file>...\" to update what will be committed)\n",
      "  (use \"git checkout -- <file>...\" to discard changes in working directory)\n",
      "\n",
      "\tmodified:   Untitled.ipynb\n",
      "\n",
      "no changes added to commit (use \"git add\" and/or \"git commit -a\")\n",
      "Hopkins serie (acumulado) completo...\n",
      "On branch master\n",
      "Your branch is up to date with 'origin/master'.\n",
      "\n",
      "Untracked files:\n",
      "  (use \"git add <file>...\" to include in what will be committed)\n",
      "\n",
      "\tecdc.europa/ecCurrent_Coronavirus_Cases_and_Deaths.07-04-2020_01-10-23csv\n",
      "\n",
      "nothing added to commit but untracked files present (use \"git add\" to track)\n",
      "ECDC Europa completo...\n",
      "On branch master\n",
      "Your branch is up to date with 'origin/master'.\n",
      "\n",
      "Changes not staged for commit:\n",
      "  (use \"git add <file>...\" to update what will be committed)\n",
      "  (use \"git checkout -- <file>...\" to discard changes in working directory)\n",
      "\n",
      "\tmodified:   worldometers.info/worldometers.csv\n",
      "\n",
      "no changes added to commit (use \"git add\" and/or \"git commit -a\")\n",
      "WORLDMETER completo...\n",
      "On branch master\n",
      "Your branch is up to date with 'origin/master'.\n",
      "\n",
      "Changes not staged for commit:\n",
      "  (use \"git add <file>...\" to update what will be committed)\n",
      "  (use \"git checkout -- <file>...\" to discard changes in working directory)\n",
      "\n",
      "\tmodified:   Untitled.ipynb\n",
      "\n",
      "Untracked files:\n",
      "  (use \"git add <file>...\" to include in what will be committed)\n",
      "\n",
      "\tUntitled4.ipynb\n",
      "\tourworldindata.org/07-04-2020_01-10-54covid-19-total-confirmed-cases-vs-total-tests-conducted(8).csv\n",
      "\tourworldindata.org/07-04-2020_01-10-54daily-cases-covid-19.csv\n",
      "\tourworldindata.org/07-04-2020_01-10-54full-list-total-tests-for-covid-19.csv\n",
      "\tourworldindata.org/07-04-2020_01-10-54hospital-beds-per-1000-people.csv\n",
      "\tourworldindata.org/07-04-2020_01-10-54physicians-per-1000-people.csv\n",
      "\tourworldindata.org/07-04-2020_01-10-54share-of-the-population-that-is-70-years-and-older.csv\n",
      "\tourworldindata.org/07-04-2020_01-10-54total-cases-covid-19.csv\n",
      "\tourworldindata.org/07-04-2020_01-10-54total-daily-covid-deaths-per-million.csv\n",
      "\tourworldindata.org/07-04-2020_01-10-54total-deaths-covid-19.csv\n",
      "\n",
      "no changes added to commit (use \"git add\" and/or \"git commit -a\")\n",
      "OurWorldInData completo...\n",
      "On branch master\n",
      "Your branch is up to date with 'origin/master'.\n",
      "\n",
      "Changes not staged for commit:\n",
      "  (use \"git add <file>...\" to update what will be committed)\n",
      "  (use \"git checkout -- <file>...\" to discard changes in working directory)\n",
      "\n",
      "\tmodified:   EarlyAlert/Current_Coronavirus_Cases_and_Deaths.csv\n",
      "\n",
      "Untracked files:\n",
      "  (use \"git add <file>...\" to include in what will be committed)\n",
      "\n",
      "\tEarlyAlert/Current_Coronavirus_Cases_and_Deaths.07-04-2020_01-50-54csv\n",
      "\n",
      "no changes added to commit (use \"git add\" and/or \"git commit -a\")\n",
      "EarlyAlert completo...\n",
      "On branch master\n",
      "Your branch is up to date with 'origin/master'.\n",
      "\n",
      "nothing to commit, working tree clean\n",
      "Error de GITHUB\n",
      "KoBoToolbox completo...\n"
     ]
    }
   ],
   "source": [
    "import Actualizar\n",
    "Actualizar.UpdateDatabase()"
   ]
  },
  {
   "cell_type": "code",
   "execution_count": null,
   "metadata": {},
   "outputs": [
    {
     "name": "stdout",
     "output_type": "stream",
     "text": [
      "Comenzo...\n",
      "On branch master\n",
      "Your branch is up to date with 'origin/master'.\n",
      "\n",
      "nothing to commit, working tree clean\n",
      "Error de GITHUB\n",
      "Chile completo...\n",
      "On branch master\n",
      "Your branch is up to date with 'origin/master'.\n",
      "\n",
      "nothing to commit, working tree clean\n",
      "Error de GITHUB\n",
      "Hopkins diario completo...\n"
     ]
    }
   ],
   "source": [
    "while True:\n",
    "    Actualizar.UpdateDatabase()"
   ]
  },
  {
   "cell_type": "code",
   "execution_count": null,
   "metadata": {},
   "outputs": [],
   "source": []
  },
  {
   "cell_type": "code",
   "execution_count": null,
   "metadata": {},
   "outputs": [],
   "source": []
  }
 ],
 "metadata": {
  "kernelspec": {
   "display_name": "Python 3",
   "language": "python",
   "name": "python3"
  },
  "language_info": {
   "codemirror_mode": {
    "name": "ipython",
    "version": 3
   },
   "file_extension": ".py",
   "mimetype": "text/x-python",
   "name": "python",
   "nbconvert_exporter": "python",
   "pygments_lexer": "ipython3",
   "version": "3.7.4"
  }
 },
 "nbformat": 4,
 "nbformat_minor": 2
}
