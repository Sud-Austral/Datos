{
 "cells": [
  {
   "cell_type": "code",
   "execution_count": 4,
   "metadata": {},
   "outputs": [],
   "source": [
    "from selenium import webdriver\n",
    "from selenium.webdriver.common.keys import Keys\n",
    "import time\n",
    "import requests\n",
    "import json  \n",
    "import codecs\n",
    "import pandas as pd\n",
    "import os\n",
    "import shutil\n",
    "from datetime import datetime, timedelta, date\n",
    "from selenium.webdriver.firefox.firefox_profile import FirefoxProfile\n",
    "from selenium.webdriver.firefox.options import Options\n",
    "from os import remove\n",
    "import git\n",
    "import datetime\n",
    "import numpy as np\n",
    "\n",
    "def verificarColumnas(data, referencia):\n",
    "    ruta = \"GrupoControl/\"\n",
    "    df = data\n",
    "    ref = pd.read_csv(ruta + referencia)\n",
    "    existe = False\n",
    "    columna = 0    \n",
    "    #Eliminar Columnas que sobran    \n",
    "    for col in df.columns:        \n",
    "        for colRef in ref.columns:\n",
    "            if col == colRef:\n",
    "                #print(\"existe la columna\" + col)\n",
    "                existe = True\n",
    "        if existe == False:\n",
    "            del df[col]\n",
    "            #df.to_csv(csvPorVerificar, index = False)\n",
    "            print(\"se Eliminó la columna \" + col)\n",
    "        existe = False   \n",
    "    #Agregar columnas faltantes    \n",
    "    for colRef in ref.columns:        \n",
    "        for col in df.columns:\n",
    "            if col == colRef:\n",
    "                #print(\"existe la columna\" + col)\n",
    "                existe = True\n",
    "        if existe == False:\n",
    "            df.insert(columna,colRef,'')\n",
    "            #df.to_csv(csvPorVerificar, index = False)\n",
    "            print(\"se agregó la columna \" + colRef)\n",
    "        columna+=1\n",
    "        existe = False\n",
    "    return df"
   ]
  },
  {
   "cell_type": "code",
   "execution_count": 29,
   "metadata": {},
   "outputs": [
    {
     "data": {
      "text/plain": [
       "(5572, 14)"
      ]
     },
     "execution_count": 29,
     "metadata": {},
     "output_type": "execute_result"
    }
   ],
   "source": [
    "def cambiaFecha(texto):\n",
    "    if(type(texto) == datetime):\n",
    "        return texto.strftime(\"%m-%d-%Y\")\n",
    "    else:\n",
    "        return texto\n",
    "\n",
    "data = pd.read_excel(\"Chile/covid19_chile.xlsx\", sheet_name=\"Sheet1\")\n",
    "data\n",
    "\n",
    "url_chile = \"https://raw.githubusercontent.com/ivanMSC/COVID19_Chile/master/covid19_chile.csv\"\n",
    "pd.read_csv(url_chile).to_csv(\"Chile/covid19_chile.csv\", index=False)\n",
    "url_comunas = \"https://raw.githubusercontent.com/ivanMSC/COVID19_Chile/master/covid19_comunas.csv\"\n",
    "pd.read_csv(url_chile).to_csv(\"Chile/covid19_comunas.csv\", index=False)\n",
    "url_old = \"https://raw.githubusercontent.com/ivanMSC/COVID19_Chile/master/old/covid19_chile.csv\"\n",
    "pd.read_csv(url_chile).to_csv(\"Chile/covid19_chile_old.csv\", index=False)    \n",
    "#data = pd.read_excel(\"Chile/covid19_chile.xlsx\")\n",
    "data = pd.read_excel(\"Chile/covid19_chile.xlsx\", sheet_name=\"Sheet1\")\n",
    "try:\n",
    "    del data[\"Unnamed: 14\"]\n",
    "    del data[\"Unnamed: 15\"]\n",
    "    del data[\"Unnamed: 16\"]\n",
    "except:\n",
    "    pass\n",
    "\n",
    "data[\"Fecha\"] = data[\"Fecha\"].apply(cambiaFecha)\n",
    "ola = verificarColumnas(data,\"covid19_chile.csv\")\n",
    "ola.shape"
   ]
  },
  {
   "cell_type": "code",
   "execution_count": 19,
   "metadata": {},
   "outputs": [],
   "source": [
    "\n",
    "excel = pd.read_excel(\"GrupoControl/covid19_chile.xlsx\", sheet_name=\"Sheet1\")\n",
    "excel.head(2).to_csv(\"GrupoControl/covid19_chile.csv\", index=False)"
   ]
  },
  {
   "cell_type": "code",
   "execution_count": 23,
   "metadata": {},
   "outputs": [],
   "source": [
    "aux = pd.read_csv(\"GrupoControl/covid19_chile.csv\")\n",
    "del aux[\"Unnamed: 14\"]\n",
    "del aux[\"Unnamed: 15\"]\n",
    "del aux[\"Unnamed: 16\"]\n",
    "aux.to_csv(\"GrupoControl/covid19_chile.csv\", index=False)"
   ]
  },
  {
   "cell_type": "code",
   "execution_count": 24,
   "metadata": {},
   "outputs": [
    {
     "data": {
      "text/html": [
       "<div>\n",
       "<style scoped>\n",
       "    .dataframe tbody tr th:only-of-type {\n",
       "        vertical-align: middle;\n",
       "    }\n",
       "\n",
       "    .dataframe tbody tr th {\n",
       "        vertical-align: top;\n",
       "    }\n",
       "\n",
       "    .dataframe thead th {\n",
       "        text-align: right;\n",
       "    }\n",
       "</style>\n",
       "<table border=\"1\" class=\"dataframe\">\n",
       "  <thead>\n",
       "    <tr style=\"text-align: right;\">\n",
       "      <th></th>\n",
       "      <th>ID</th>\n",
       "      <th>Fecha</th>\n",
       "      <th>Region_Numero</th>\n",
       "      <th>País</th>\n",
       "      <th>Region</th>\n",
       "      <th>Sexo</th>\n",
       "      <th>Edad</th>\n",
       "      <th>Centro_de_Salud</th>\n",
       "      <th>Comuna</th>\n",
       "      <th>lat</th>\n",
       "      <th>lon</th>\n",
       "      <th>Tipo_de_caso</th>\n",
       "      <th>lat_comuna</th>\n",
       "      <th>lon_comuna</th>\n",
       "    </tr>\n",
       "  </thead>\n",
       "  <tbody>\n",
       "    <tr>\n",
       "      <th>0</th>\n",
       "      <td>1</td>\n",
       "      <td>23-03-2020</td>\n",
       "      <td>1.0</td>\n",
       "      <td>Chile</td>\n",
       "      <td>Tarapacá</td>\n",
       "      <td>Masculino</td>\n",
       "      <td>47.0</td>\n",
       "      <td>NaN</td>\n",
       "      <td>Iquique</td>\n",
       "      <td>NaN</td>\n",
       "      <td>NaN</td>\n",
       "      <td>Confirmado</td>\n",
       "      <td>NaN</td>\n",
       "      <td>NaN</td>\n",
       "    </tr>\n",
       "    <tr>\n",
       "      <th>1</th>\n",
       "      <td>2</td>\n",
       "      <td>23-03-2020</td>\n",
       "      <td>1.0</td>\n",
       "      <td>Chile</td>\n",
       "      <td>Tarapacá</td>\n",
       "      <td>Masculino</td>\n",
       "      <td>31.0</td>\n",
       "      <td>NaN</td>\n",
       "      <td>Iquique</td>\n",
       "      <td>NaN</td>\n",
       "      <td>NaN</td>\n",
       "      <td>Confirmado</td>\n",
       "      <td>NaN</td>\n",
       "      <td>NaN</td>\n",
       "    </tr>\n",
       "  </tbody>\n",
       "</table>\n",
       "</div>"
      ],
      "text/plain": [
       "   ID       Fecha  Region_Numero   País    Region        Sexo  Edad  \\\n",
       "0   1  23-03-2020            1.0  Chile  Tarapacá   Masculino  47.0   \n",
       "1   2  23-03-2020            1.0  Chile  Tarapacá  Masculino   31.0   \n",
       "\n",
       "   Centro_de_Salud   Comuna  lat  lon Tipo_de_caso  lat_comuna  lon_comuna  \n",
       "0              NaN  Iquique  NaN  NaN   Confirmado         NaN         NaN  \n",
       "1              NaN  Iquique  NaN  NaN   Confirmado         NaN         NaN  "
      ]
     },
     "execution_count": 24,
     "metadata": {},
     "output_type": "execute_result"
    }
   ],
   "source": [
    "aux\n"
   ]
  },
  {
   "cell_type": "code",
   "execution_count": null,
   "metadata": {},
   "outputs": [],
   "source": []
  }
 ],
 "metadata": {
  "kernelspec": {
   "display_name": "Python 3",
   "language": "python",
   "name": "python3"
  },
  "language_info": {
   "codemirror_mode": {
    "name": "ipython",
    "version": 3
   },
   "file_extension": ".py",
   "mimetype": "text/x-python",
   "name": "python",
   "nbconvert_exporter": "python",
   "pygments_lexer": "ipython3",
   "version": "3.7.4"
  }
 },
 "nbformat": 4,
 "nbformat_minor": 2
}
