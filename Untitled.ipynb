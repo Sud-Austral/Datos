{
 "cells": [
  {
   "cell_type": "code",
   "execution_count": null,
   "metadata": {},
   "outputs": [],
   "source": [
    "from selenium import webdriver\n",
    "from selenium.webdriver.common.keys import Keys\n",
    "import time\n",
    "import requests\n",
    "import json  \n",
    "import codecs\n",
    "import pandas as pd\n",
    "import os\n",
    "import shutil\n",
    "from datetime import datetime, timedelta, date\n",
    "from selenium.webdriver.firefox.firefox_profile import FirefoxProfile\n",
    "from selenium.webdriver.firefox.options import Options\n",
    "from os import remove\n",
    "import git\n",
    "import datetime\n",
    "import numpy as np\n",
    "\n",
    "def verificarColumnas(data, referencia):\n",
    "    ruta = \"GrupoControl/\"\n",
    "    df = data\n",
    "    ref = pd.read_csv(ruta + referencia)\n",
    "    existe = False\n",
    "    columna = 0    \n",
    "    #Eliminar Columnas que sobran    \n",
    "    for col in df.columns:        \n",
    "        for colRef in ref.columns:\n",
    "            if col == colRef:\n",
    "                #print(\"existe la columna\" + col)\n",
    "                existe = True\n",
    "        if existe == False:\n",
    "            del df[col]\n",
    "            #df.to_csv(csvPorVerificar, index = False)\n",
    "            print(\"se Eliminó la columna \" + col)\n",
    "        existe = False   \n",
    "    #Agregar columnas faltantes    \n",
    "    for colRef in ref.columns:        \n",
    "        for col in df.columns:\n",
    "            if col == colRef:\n",
    "                #print(\"existe la columna\" + col)\n",
    "                existe = True\n",
    "        if existe == False:\n",
    "            df.insert(columna,colRef,'')\n",
    "            #df.to_csv(csvPorVerificar, index = False)\n",
    "            print(\"se agregó la columna \" + colRef)\n",
    "        columna+=1\n",
    "        existe = False\n",
    "    return df"
   ]
  },
  {
   "cell_type": "code",
   "execution_count": null,
   "metadata": {},
   "outputs": [],
   "source": [
    "\n",
    "url  = 'https://services9.arcgis.com/Rha9bYQCF0JEy8bJ/ArcGIS/rest/services/Current_Coronavirus_Cases_and_Deaths/FeatureServer/0/1?f=pjson'\n",
    "response = requests.get(url)\n",
    "decoded_data=codecs.decode(response.content, 'utf-8-sig')\n",
    "d = json.loads(decoded_data)\n",
    "#print(d[\"feature\"][\"attributes\"])\n",
    "flag = True\n",
    "n = 1\n",
    "salida = []\n",
    "while flag:\n",
    "    try:\n",
    "        url  = 'https://services9.arcgis.com/Rha9bYQCF0JEy8bJ/ArcGIS/rest/services/Current_Coronavirus_Cases_and_Deaths/FeatureServer/0/'+str(n)+'?f=pjson'\n",
    "        response = requests.get(url)\n",
    "        decoded_data=codecs.decode(response.content, 'utf-8-sig')\n",
    "        d = json.loads(decoded_data)\n",
    "        #print(d[\"feature\"][\"attributes\"])\n",
    "        salida.append(d[\"feature\"][\"attributes\"])\n",
    "        n += 1\n",
    "    except:\n",
    "        flag = False\n",
    "data = pd.DataFrame.from_dict(salida)\n",
    "\n",
    "ola = verificarColumnas(data,\"Current_Coronavirus_Cases_and_Deaths.csv\")\n",
    "ola\n"
   ]
  },
  {
   "cell_type": "code",
   "execution_count": null,
   "metadata": {},
   "outputs": [],
   "source": [
    "data "
   ]
  },
  {
   "cell_type": "code",
   "execution_count": null,
   "metadata": {},
   "outputs": [],
   "source": [
    "aux = pd.read_csv(\"GrupoControl/covid19_chile.csv\")\n",
    "del aux[\"Unnamed: 14\"]\n",
    "del aux[\"Unnamed: 15\"]\n",
    "del aux[\"Unnamed: 16\"]\n",
    "aux.to_csv(\"GrupoControl/covid19_chile.csv\", index=False)"
   ]
  },
  {
   "cell_type": "code",
   "execution_count": null,
   "metadata": {},
   "outputs": [],
   "source": [
    "aux\n"
   ]
  },
  {
   "cell_type": "code",
   "execution_count": 1,
   "metadata": {},
   "outputs": [
    {
     "ename": "NameError",
     "evalue": "name 'getKeys' is not defined",
     "output_type": "error",
     "traceback": [
      "\u001b[1;31m---------------------------------------------------------------------------\u001b[0m",
      "\u001b[1;31mNameError\u001b[0m                                 Traceback (most recent call last)",
      "\u001b[1;32m<ipython-input-1-448343d391e6>\u001b[0m in \u001b[0;36m<module>\u001b[1;34m\u001b[0m\n\u001b[1;32m----> 1\u001b[1;33m \u001b[1;32mimport\u001b[0m \u001b[0mServidor\u001b[0m \u001b[1;32mas\u001b[0m \u001b[0mS\u001b[0m\u001b[1;33m\u001b[0m\u001b[1;33m\u001b[0m\u001b[0m\n\u001b[0m\u001b[0;32m      2\u001b[0m \u001b[0mS\u001b[0m\u001b[1;33m.\u001b[0m\u001b[0mdatasetFinalTweet\u001b[0m\u001b[1;33m(\u001b[0m\u001b[1;33m)\u001b[0m\u001b[1;33m.\u001b[0m\u001b[0mhead\u001b[0m\u001b[1;33m(\u001b[0m\u001b[1;33m)\u001b[0m\u001b[1;33m\u001b[0m\u001b[1;33m\u001b[0m\u001b[0m\n",
      "\u001b[1;32m~\\Documents\\GitHub\\Datos\\Servidor.py\u001b[0m in \u001b[0;36m<module>\u001b[1;34m\u001b[0m\n\u001b[0;32m   1064\u001b[0m     \u001b[1;32mreturn\u001b[0m \u001b[0msalida\u001b[0m\u001b[1;33m\u001b[0m\u001b[1;33m\u001b[0m\u001b[0m\n\u001b[0;32m   1065\u001b[0m \u001b[1;33m\u001b[0m\u001b[0m\n\u001b[1;32m-> 1066\u001b[1;33m \u001b[1;32mdef\u001b[0m \u001b[0mget_tweetConFecha\u001b[0m\u001b[1;33m(\u001b[0m\u001b[0muser\u001b[0m\u001b[1;33m,\u001b[0m \u001b[0mapi\u001b[0m \u001b[1;33m=\u001b[0m \u001b[0mAPITWEET\u001b[0m\u001b[1;33m(\u001b[0m\u001b[1;33m)\u001b[0m\u001b[1;33m)\u001b[0m\u001b[1;33m:\u001b[0m\u001b[1;33m\u001b[0m\u001b[1;33m\u001b[0m\u001b[0m\n\u001b[0m\u001b[0;32m   1067\u001b[0m     \u001b[1;32mreturn\u001b[0m \u001b[0mlist\u001b[0m\u001b[1;33m(\u001b[0m\u001b[0mapi\u001b[0m\u001b[1;33m.\u001b[0m\u001b[0muser_timeline\u001b[0m\u001b[1;33m(\u001b[0m\u001b[0mscreen_name\u001b[0m \u001b[1;33m=\u001b[0m \u001b[0muser\u001b[0m\u001b[1;33m,\u001b[0m \u001b[0mcount\u001b[0m\u001b[1;33m=\u001b[0m \u001b[1;36m10\u001b[0m\u001b[1;33m)\u001b[0m\u001b[1;33m)\u001b[0m\u001b[1;33m\u001b[0m\u001b[1;33m\u001b[0m\u001b[0m\n\u001b[0;32m   1068\u001b[0m \u001b[1;33m\u001b[0m\u001b[0m\n",
      "\u001b[1;32m~\\Documents\\GitHub\\Datos\\Servidor.py\u001b[0m in \u001b[0;36mAPITWEET\u001b[1;34m()\u001b[0m\n\u001b[0;32m   1005\u001b[0m \u001b[1;32mdef\u001b[0m \u001b[0mAPITWEET\u001b[0m\u001b[1;33m(\u001b[0m\u001b[1;33m)\u001b[0m\u001b[1;33m:\u001b[0m\u001b[1;33m\u001b[0m\u001b[1;33m\u001b[0m\u001b[0m\n\u001b[0;32m   1006\u001b[0m     \u001b[1;31m# Declaramos nuestras Twitter API Keys:\u001b[0m\u001b[1;33m\u001b[0m\u001b[1;33m\u001b[0m\u001b[1;33m\u001b[0m\u001b[0m\n\u001b[1;32m-> 1007\u001b[1;33m     \u001b[0mkeys\u001b[0m \u001b[1;33m=\u001b[0m \u001b[0mgetKeys\u001b[0m\u001b[1;33m(\u001b[0m\u001b[1;33m)\u001b[0m\u001b[1;33m\u001b[0m\u001b[1;33m\u001b[0m\u001b[0m\n\u001b[0m\u001b[0;32m   1008\u001b[0m     \u001b[1;31m#ACCESS_TOKEN = '1230251564616515586-2KqPsCG2mIJp3irRjENgHpCfQUxTUg'\u001b[0m\u001b[1;33m\u001b[0m\u001b[1;33m\u001b[0m\u001b[1;33m\u001b[0m\u001b[0m\n\u001b[0;32m   1009\u001b[0m     \u001b[1;31m#ACCESS_TOKEN_SECRET = '6PJfMtYGY7w6csiIX9m1S5jFEKNZ3hE9PVkHKeN1S14iM'\u001b[0m\u001b[1;33m\u001b[0m\u001b[1;33m\u001b[0m\u001b[1;33m\u001b[0m\u001b[0m\n",
      "\u001b[1;31mNameError\u001b[0m: name 'getKeys' is not defined"
     ]
    }
   ],
   "source": [
    "import Servidor as S\n",
    "S.datasetFinalTweet().head()"
   ]
  },
  {
   "cell_type": "code",
   "execution_count": null,
   "metadata": {},
   "outputs": [],
   "source": []
  }
 ],
 "metadata": {
  "kernelspec": {
   "display_name": "Python 3",
   "language": "python",
   "name": "python3"
  },
  "language_info": {
   "codemirror_mode": {
    "name": "ipython",
    "version": 3
   },
   "file_extension": ".py",
   "mimetype": "text/x-python",
   "name": "python",
   "nbconvert_exporter": "python",
   "pygments_lexer": "ipython3",
   "version": "3.7.6"
  }
 },
 "nbformat": 4,
 "nbformat_minor": 2
}
