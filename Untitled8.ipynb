{
 "cells": [
  {
   "cell_type": "code",
   "execution_count": null,
   "metadata": {},
   "outputs": [
    {
     "name": "stdout",
     "output_type": "stream",
     "text": [
      "Comenzo...\n",
      "Twiter completos...\n",
      "Productos avanzados completos...\n",
      "https://raw.githubusercontent.com/MinCiencia/Datos-COVID19/master/input/InformeEpidemiologico/CasosActivosPorComuna.csv\n",
      "https://raw.githubusercontent.com/MinCiencia/Datos-COVID19/master/input/InformeEpidemiologico/CasosActualesPorComuna.csv\n",
      "https://raw.githubusercontent.com/MinCiencia/Datos-COVID19/master/input/InformeEpidemiologico/CasosAcumuladosPorComuna.csv\n",
      "https://raw.githubusercontent.com/MinCiencia/Datos-COVID19/master/input/InformeEpidemiologico/CasosGeneroEtario.csv\n",
      "https://raw.githubusercontent.com/MinCiencia/Datos-COVID19/master/input/InformeEpidemiologico/FechaInicioSintomas.csv\n",
      "https://raw.githubusercontent.com/MinCiencia/Datos-COVID19/master/input/InformeEpidemiologico/SemanasEpidemiologicas.csv\n",
      "https://raw.githubusercontent.com/MinCiencia/Datos-COVID19/master/input/InformeEpidemiologico/TasaDeIncidencia.csv\n",
      "https://raw.githubusercontent.com/MinCiencia/Datos-COVID19/master/input/InformeEpidemiologico/FechaInicioSintomas_reportadosSEREMI.csv\n",
      "https://raw.githubusercontent.com/MinCiencia/Datos-COVID19/master/input/InformeSituacionCOVID19/HospitalizadosGeneroEtario_Acumulado.csv\n",
      "https://raw.githubusercontent.com/MinCiencia/Datos-COVID19/master/input/InformeSituacionCOVID19/HospitalizadosUCI_Acumulado.csv\n",
      "https://raw.githubusercontent.com/MinCiencia/Datos-COVID19/master/input/InformeSituacionCOVID19/SintomasCasosConfirmados.csv\n",
      "https://raw.githubusercontent.com/MinCiencia/Datos-COVID19/master/input/InformeSituacionCOVID19/SintomasHospitalizados.csv\n",
      "https://raw.githubusercontent.com/MinCiencia/Datos-COVID19/master/input/ReporteDiario/CamasHospital_Diario.csv\n",
      "https://raw.githubusercontent.com/MinCiencia/Datos-COVID19/master/input/ReporteDiario/FallecidosEtario.csv\n",
      "https://raw.githubusercontent.com/MinCiencia/Datos-COVID19/master/input/ReporteDiario/HospitalizadosUCIEtario.csv\n",
      "https://raw.githubusercontent.com/MinCiencia/Datos-COVID19/master/input/ReporteDiario/NumeroVentiladores.csv\n",
      "https://raw.githubusercontent.com/MinCiencia/Datos-COVID19/master/input/ReporteDiario/PCR.csv\n",
      "https://raw.githubusercontent.com/MinCiencia/Datos-COVID19/master/input/ReporteDiario/PCREstablecimiento.csv\n",
      "https://raw.githubusercontent.com/MinCiencia/Datos-COVID19/master/input/ReporteDiario/PacientesCriticos.csv\n",
      "https://raw.githubusercontent.com/MinCiencia/Datos-COVID19/master/input/ReporteDiario/UCI.csv\n",
      "3 carpetas del MinSal completos...\n",
      "Cargar datos de la organización completo...\n",
      "Bing News completo...\n",
      "Error a cargar a Minsal\n",
      "Farmacias completo...\n",
      "Chile completo...\n",
      "Hopkins diario completo...\n",
      "Hopkins serie (acumulado) completo...\n",
      "se Eliminó la columna continentExp\n",
      "Error de GITHUB\n",
      "ECDC Europa completo...\n",
      "WORLDMETER completo...\n",
      "Error a cargar a OurWorldInData\n",
      "EarlyAlert completo...\n",
      "Error de GITHUB\n",
      "KoBoToolbox completo...\n"
     ]
    }
   ],
   "source": [
    "import Servidor as S\n",
    "import time\n",
    "while True:\n",
    "    S.UpdateDatabase()\n",
    "    time.sleep(1800)\n"
   ]
  },
  {
   "cell_type": "code",
   "execution_count": null,
   "metadata": {},
   "outputs": [],
   "source": [
    "import requests\n",
    "import json  \n",
    "import codecs\n",
    "import pandas as pd\n",
    "\n",
    "url  = \"https://farmanet.minsal.cl/index.php/ws/getLocales\"\n",
    "response = requests.get(url)\n",
    "#d = json.loads(response.content)\n",
    "#data = pd.DataFrame.from_dict(d)\n",
    "#data.to_csv(\"Farmacia/Farmacias.csv\", index=False)\n",
    "#url  = \"https://farmanet.minsal.cl/index.php/ws/getLocalesTurnos\"\n",
    "#response = requests.get(url)\n",
    "#d = json.loads(response.content)\n",
    "#data = pd.DataFrame.from_dict(d)\n",
    "#data.to_csv(\"Farmacia/FarmaciasTurno.csv\", index=False)"
   ]
  },
  {
   "cell_type": "code",
   "execution_count": null,
   "metadata": {},
   "outputs": [],
   "source": [
    "response"
   ]
  },
  {
   "cell_type": "code",
   "execution_count": null,
   "metadata": {},
   "outputs": [],
   "source": []
  }
 ],
 "metadata": {
  "kernelspec": {
   "display_name": "Python 3",
   "language": "python",
   "name": "python3"
  },
  "language_info": {
   "codemirror_mode": {
    "name": "ipython",
    "version": 3
   },
   "file_extension": ".py",
   "mimetype": "text/x-python",
   "name": "python",
   "nbconvert_exporter": "python",
   "pygments_lexer": "ipython3",
   "version": "3.7.6"
  }
 },
 "nbformat": 4,
 "nbformat_minor": 4
}
