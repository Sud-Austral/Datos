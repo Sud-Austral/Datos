{
 "cells": [
  {
   "cell_type": "code",
   "execution_count": null,
   "metadata": {},
   "outputs": [],
   "source": [
    "import Servidor as S\n",
    "import time\n",
    "while True:\n",
    "    S.UpdateDatabase()\n",
    "    time.sleep(1800)\n"
   ]
  },
  {
   "cell_type": "code",
   "execution_count": null,
   "metadata": {},
   "outputs": [],
   "source": [
    "import requests\n",
    "import json  \n",
    "import codecs\n",
    "import pandas as pd\n",
    "\n",
    "url  = \"https://farmanet.minsal.cl/index.php/ws/getLocales\"\n",
    "response = requests.get(url)\n",
    "#d = json.loads(response.content)\n",
    "#data = pd.DataFrame.from_dict(d)\n",
    "#data.to_csv(\"Farmacia/Farmacias.csv\", index=False)\n",
    "#url  = \"https://farmanet.minsal.cl/index.php/ws/getLocalesTurnos\"\n",
    "#response = requests.get(url)\n",
    "#d = json.loads(response.content)\n",
    "#data = pd.DataFrame.from_dict(d)\n",
    "#data.to_csv(\"Farmacia/FarmaciasTurno.csv\", index=False)"
   ]
  },
  {
   "cell_type": "code",
   "execution_count": null,
   "metadata": {},
   "outputs": [],
   "source": [
    "response"
   ]
  },
  {
   "cell_type": "code",
   "execution_count": null,
   "metadata": {},
   "outputs": [],
   "source": [
    "import time\n",
    "import datetime"
   ]
  },
  {
   "cell_type": "code",
   "execution_count": null,
   "metadata": {},
   "outputs": [],
   "source": [
    "now = datetime.datetime.now()\n",
    "hora = now.strftime(\"%H:%M\")\n",
    "print(hora)"
   ]
  },
  {
   "cell_type": "code",
   "execution_count": 1,
   "metadata": {},
   "outputs": [],
   "source": [
    "import Servidor as S"
   ]
  },
  {
   "cell_type": "code",
   "execution_count": null,
   "metadata": {},
   "outputs": [
    {
     "name": "stdout",
     "output_type": "stream",
     "text": [
      "11/05/2020, 23:26:08\n"
     ]
    }
   ],
   "source": [
    "S.Ciclo()"
   ]
  },
  {
   "cell_type": "code",
   "execution_count": null,
   "metadata": {},
   "outputs": [],
   "source": []
  }
 ],
 "metadata": {
  "kernelspec": {
   "display_name": "Python 3",
   "language": "python",
   "name": "python3"
  },
  "language_info": {
   "codemirror_mode": {
    "name": "ipython",
    "version": 3
   },
   "file_extension": ".py",
   "mimetype": "text/x-python",
   "name": "python",
   "nbconvert_exporter": "python",
   "pygments_lexer": "ipython3",
   "version": "3.7.6"
  }
 },
 "nbformat": 4,
 "nbformat_minor": 4
}
