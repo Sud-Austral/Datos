{
 "cells": [
  {
   "cell_type": "code",
   "execution_count": null,
   "metadata": {},
   "outputs": [
    {
     "name": "stdout",
     "output_type": "stream",
     "text": [
      "Comenzo...\n",
      "Twiter completos...\n",
      "Productos avanzados completos...\n",
      "3 carpetas del MinSal completos...\n",
      "Cargar datos de la organización completo...\n",
      "Bing News completo...\n",
      "Minsal completo...\n",
      "Error a cargar a Farmacias\n",
      "Chile completo...\n",
      "Error de GITHUB\n",
      "Hopkins diario completo...\n",
      "Hopkins serie (acumulado) completo...\n"
     ]
    }
   ],
   "source": [
    "import Servidor as S\n",
    "import time\n",
    "while True:\n",
    "    S.UpdateDatabase()\n",
    "    time.sleep(1800)\n"
   ]
  },
  {
   "cell_type": "code",
   "execution_count": 3,
   "metadata": {},
   "outputs": [],
   "source": [
    "import requests\n",
    "import json  \n",
    "import codecs\n",
    "import pandas as pd\n",
    "\n",
    "url  = \"https://farmanet.minsal.cl/index.php/ws/getLocales\"\n",
    "response = requests.get(url)\n",
    "#d = json.loads(response.content)\n",
    "#data = pd.DataFrame.from_dict(d)\n",
    "#data.to_csv(\"Farmacia/Farmacias.csv\", index=False)\n",
    "#url  = \"https://farmanet.minsal.cl/index.php/ws/getLocalesTurnos\"\n",
    "#response = requests.get(url)\n",
    "#d = json.loads(response.content)\n",
    "#data = pd.DataFrame.from_dict(d)\n",
    "#data.to_csv(\"Farmacia/FarmaciasTurno.csv\", index=False)"
   ]
  },
  {
   "cell_type": "code",
   "execution_count": 4,
   "metadata": {},
   "outputs": [
    {
     "data": {
      "text/plain": [
       "<Response [500]>"
      ]
     },
     "execution_count": 4,
     "metadata": {},
     "output_type": "execute_result"
    }
   ],
   "source": [
    "response"
   ]
  },
  {
   "cell_type": "code",
   "execution_count": null,
   "metadata": {},
   "outputs": [],
   "source": []
  }
 ],
 "metadata": {
  "kernelspec": {
   "display_name": "Python 3",
   "language": "python",
   "name": "python3"
  },
  "language_info": {
   "codemirror_mode": {
    "name": "ipython",
    "version": 3
   },
   "file_extension": ".py",
   "mimetype": "text/x-python",
   "name": "python",
   "nbconvert_exporter": "python",
   "pygments_lexer": "ipython3",
   "version": "3.7.6"
  }
 },
 "nbformat": 4,
 "nbformat_minor": 4
}
