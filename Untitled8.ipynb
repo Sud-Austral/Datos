{
 "cells": [
  {
   "cell_type": "code",
   "execution_count": null,
   "metadata": {},
   "outputs": [],
   "source": [
    "import Servidor as S\n",
    "import time\n",
    "while True:\n",
    "    S.UpdateDatabase()\n",
    "    time.sleep(1800)\n"
   ]
  },
  {
   "cell_type": "code",
   "execution_count": null,
   "metadata": {},
   "outputs": [],
   "source": [
    "import requests\n",
    "import json  \n",
    "import codecs\n",
    "import pandas as pd\n",
    "\n",
    "url  = \"https://farmanet.minsal.cl/index.php/ws/getLocales\"\n",
    "response = requests.get(url)\n",
    "#d = json.loads(response.content)\n",
    "#data = pd.DataFrame.from_dict(d)\n",
    "#data.to_csv(\"Farmacia/Farmacias.csv\", index=False)\n",
    "#url  = \"https://farmanet.minsal.cl/index.php/ws/getLocalesTurnos\"\n",
    "#response = requests.get(url)\n",
    "#d = json.loads(response.content)\n",
    "#data = pd.DataFrame.from_dict(d)\n",
    "#data.to_csv(\"Farmacia/FarmaciasTurno.csv\", index=False)"
   ]
  },
  {
   "cell_type": "code",
   "execution_count": null,
   "metadata": {},
   "outputs": [],
   "source": [
    "response"
   ]
  },
  {
   "cell_type": "code",
   "execution_count": null,
   "metadata": {},
   "outputs": [],
   "source": [
    "import time\n",
    "import datetime"
   ]
  },
  {
   "cell_type": "code",
   "execution_count": null,
   "metadata": {},
   "outputs": [],
   "source": [
    "now = datetime.datetime.now()\n",
    "hora = now.strftime(\"%H:%M\")\n",
    "print(hora)"
   ]
  },
  {
   "cell_type": "code",
   "execution_count": 1,
   "metadata": {},
   "outputs": [],
   "source": [
    "import Servidor as S"
   ]
  },
  {
   "cell_type": "code",
   "execution_count": null,
   "metadata": {},
   "outputs": [
    {
     "name": "stdout",
     "output_type": "stream",
     "text": [
      "13/05/2020, 14:55:25\n",
      "13/05/2020, 15:05:25\n",
      "Comenzo...\n",
      "Twiter completos...\n",
      "Productos avanzados completos...\n",
      "https://raw.githubusercontent.com/MinCiencia/Datos-COVID19/master/input/InformeEpidemiologico/CasosActivosPorComuna.csv\n",
      "https://raw.githubusercontent.com/MinCiencia/Datos-COVID19/master/input/InformeEpidemiologico/CasosActualesPorComuna.csv\n",
      "https://raw.githubusercontent.com/MinCiencia/Datos-COVID19/master/input/InformeEpidemiologico/CasosAcumuladosPorComuna.csv\n",
      "https://raw.githubusercontent.com/MinCiencia/Datos-COVID19/master/input/InformeEpidemiologico/CasosGeneroEtario.csv\n",
      "https://raw.githubusercontent.com/MinCiencia/Datos-COVID19/master/input/InformeEpidemiologico/FechaInicioSintomas.csv\n",
      "Error al cargar 3 carpetas del MinSal\n",
      "Cargar datos de la organización completo...\n",
      "Bing News completo...\n",
      "Minsal completo...\n",
      "Farmacias completo...\n",
      "Chile completo...\n",
      "Hopkins diario completo...\n",
      "Hopkins serie (acumulado) completo...\n",
      "se Eliminó la columna continentExp\n",
      "ECDC Europa completo...\n",
      "WORLDMETER completo...\n",
      "Error a cargar a OurWorldInData\n"
     ]
    }
   ],
   "source": [
    "S.Ciclo()"
   ]
  },
  {
   "cell_type": "code",
   "execution_count": null,
   "metadata": {},
   "outputs": [],
   "source": [
    "S.UpdateDatabase()"
   ]
  },
  {
   "cell_type": "code",
   "execution_count": null,
   "metadata": {},
   "outputs": [],
   "source": []
  },
  {
   "cell_type": "code",
   "execution_count": null,
   "metadata": {},
   "outputs": [],
   "source": []
  }
 ],
 "metadata": {
  "kernelspec": {
   "display_name": "Python 3",
   "language": "python",
   "name": "python3"
  },
  "language_info": {
   "codemirror_mode": {
    "name": "ipython",
    "version": 3
   },
   "file_extension": ".py",
   "mimetype": "text/x-python",
   "name": "python",
   "nbconvert_exporter": "python",
   "pygments_lexer": "ipython3",
   "version": "3.7.6"
  }
 },
 "nbformat": 4,
 "nbformat_minor": 4
}
