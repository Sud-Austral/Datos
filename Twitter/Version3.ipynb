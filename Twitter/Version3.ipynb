{
 "cells": [
  {
   "cell_type": "code",
   "execution_count": 16,
   "metadata": {},
   "outputs": [],
   "source": [
    "from tweepy.streaming import StreamListener\n",
    "from tweepy import OAuthHandler\n",
    "from tweepy import Stream\n",
    "import re\n",
    "import time\n",
    "import tweepy\n",
    "import json\n",
    "import pandas as pd\n",
    "import datetime\n",
    "\n",
    "def APITWEET():\n",
    "    # Declaramos nuestras Twitter API Keys:\n",
    "    ACCESS_TOKEN = '1230251564616515586-2KqPsCG2mIJp3irRjENgHpCfQUxTUg'\n",
    "    ACCESS_TOKEN_SECRET = '6PJfMtYGY7w6csiIX9m1S5jFEKNZ3hE9PVkHKeN1S14iM'\n",
    "    CONSUMER_KEY = 'koO4XqTuWFr5ADGcE8kjIkVoU'\n",
    "    CONSUMER_SECRET = '3F4sk9qU8zbKBROuLPUUj1uvE2YuhseXPe0ahMQoivg4icN5bL'\n",
    "    auth = tweepy.OAuthHandler(CONSUMER_KEY, CONSUMER_SECRET)\n",
    "    auth.set_access_token(ACCESS_TOKEN, ACCESS_TOKEN_SECRET)\n",
    "    api = tweepy.API(auth)\n",
    "    return api\n",
    "#Desuso\n",
    "def get_stuff(nombre=None):\n",
    "    api = APITWEET()\n",
    "    stuff = tweepy.Cursor(api.user_timeline, screen_name = nombre, include_rts = True)\n",
    "    return stuff\n",
    "#Desuso\n",
    "def get_tweets(stuff, n):\n",
    "    #for status in stuff.items(n):\n",
    "        #print(status.created_at, status.author.screen_name, status.text)\n",
    "        #print(status)\n",
    "        #return status\n",
    "    #return stuff.items(n)\n",
    "    return list(stuff.items(n))\n",
    "    #return stuff.page()\n",
    "\n",
    "def FechaTweeter(palabra):\n",
    "    anio = int(palabra[-4:])\n",
    "    meses = {\n",
    "        \"Jan\":1,\n",
    "        \"Feb\":2,\n",
    "        \"Mar\":3,\n",
    "        \"Apr\":4,\n",
    "        \"May\":5,\n",
    "        \"Jun\":6,\n",
    "        \"Jul\":7,\n",
    "        \"Aug\":8,\n",
    "        \"Sep\":9,\n",
    "        \"Oct\":10,\n",
    "        \"Nov\":11,\n",
    "        \"Dec\":12\n",
    "    }\n",
    "    mes = meses[palabra[4:7]]\n",
    "    dia = int(palabra[8:10])\n",
    "    hora = int(palabra[11:13]) \n",
    "    minuto = int(palabra[14:16])\n",
    "    segundo = int(palabra[17:19])\n",
    "    return datetime.datetime(anio,mes,dia,hora,minuto,segundo) - datetime.timedelta(hours = 4)\n",
    "\n",
    "def depurarFuenteTweet(palabra):\n",
    "    salida = palabra.replace('<a href=\"https://about.twitter.com/products/tweetdeck\" rel=\"nofollow\">','').replace(\"</a>\",\"\")\n",
    "    salida = salida.replace('<a href=\"http://twitter.com/download/iphone\" rel=\"nofollow\">',\"\")\n",
    "    salida = salida.replace('<a href=\"https://studio.twitter.com\" rel=\"nofollow\">',\"\")\n",
    "    salida = salida.replace('<a href=\"https://mobile.twitter.com\" rel=\"nofollow\">',\"\")\n",
    "    return salida\n",
    "\n",
    "def get_tweetConFecha(user, api = APITWEET()):\n",
    "    return list(api.user_timeline(screen_name = user, count= 10))\n",
    "\n",
    "def definirDatasetPorCuenta(cuenta):\n",
    "#lista = get_tweetConFecha(\"colmedchile\")\n",
    "    lista = get_tweetConFecha(cuenta)\n",
    "    salida = []\n",
    "    for i in lista:  #get_tweetConFecha(\"colmedchile\"):\n",
    "        jsonObject = i._json.copy()\n",
    "        datos = {\n",
    "                    \"Contenido\" : jsonObject[\"text\"], \n",
    "                    \"IR\" : \"https://twitter.com/i/web/status/\" + jsonObject[\"id_str\"], \n",
    "                    \"Fecha\" : FechaTweeter(jsonObject[\"created_at\"]).strftime(\"%d/%m/%Y %H:%M:%S\"),\n",
    "                    \"Dispositivo\" : depurarFuenteTweet(jsonObject[\"source\"]),\n",
    "                    \"Likes\" : jsonObject[\"favorite_count\"],\n",
    "                    \"Retweets\" : jsonObject[\"retweet_count\"],\n",
    "                    \"Entidad\" : jsonObject[\"user\"][\"name\"],\n",
    "                    \"Hora\" : FechaTweeter(jsonObject[\"created_at\"]).strftime(\"%H:%M:%S\"),\n",
    "                    \"Foto\": jsonObject[\"user\"][\"profile_image_url\"].replace(\"_normal.\",\".\")\n",
    "                }\n",
    "        salida.append(datos.copy())\n",
    "    data = pd.DataFrame(salida)\n",
    "    return data\n",
    "\n",
    "def datasetFinalTweet():\n",
    "    cuentas = [\n",
    "                \"colmedchile\",\n",
    "                \"ministeriosalud\",\n",
    "                \"opsoms\",\n",
    "                \"ispch\",\n",
    "                \"SuperDeSalud\"\n",
    "                ]\n",
    "    salida = []\n",
    "    for i in cuentas:\n",
    "        salida.append(definirDatasetPorCuenta(i))\n",
    "    data = pd.concat(salida)\n",
    "    data.to_csv(\"Tweet.csv\", index=False)\n",
    "    return data\n",
    "    \n",
    "\n",
    "#tweepy.Cursor(api.search, q='#मराठी OR #माझाक्लिक OR #म')\n",
    "#tweepy.Cursor(api.friends)\n",
    "#tweepy.Cursor(api.home_timeline)\n",
    "#tweepy.Cursor(api.search, url)\n",
    "#tweepy.Cursor(api.friends, user_id=user_id, count=200).items()\n",
    "#tweepy.Cursor(api.mentions_timeline, user_id=user_id, count=200).items()\n",
    "#######https://developer.twitter.com/en/docs/tweets/data-dictionary/overview/tweet-object"
   ]
  },
  {
   "cell_type": "code",
   "execution_count": null,
   "metadata": {},
   "outputs": [],
   "source": [
    "datasetFinalTweet().head(50)"
   ]
  },
  {
   "cell_type": "code",
   "execution_count": 7,
   "metadata": {},
   "outputs": [],
   "source": [
    "lista = get_tweetConFecha(\"ministeriosalud\")"
   ]
  },
  {
   "cell_type": "code",
   "execution_count": 8,
   "metadata": {},
   "outputs": [
    {
     "data": {
      "text/plain": [
       "Status(_api=<tweepy.api.API object at 0x0000028E68D65E48>, _json={'created_at': 'Mon Apr 27 13:18:55 +0000 2020', 'id': 1254761949990027266, 'id_str': '1254761949990027266', 'text': 'RT @SaludOccidente: Nuevo stock de Elementos de Protección Personal (EPP) se distribuye a establecimientos de la Red @SaludOccidente. La en…', 'truncated': False, 'entities': {'hashtags': [], 'symbols': [], 'user_mentions': [{'screen_name': 'SaludOccidente', 'name': 'Servicio de Salud Occidente', 'id': 627937872, 'id_str': '627937872', 'indices': [3, 18]}, {'screen_name': 'SaludOccidente', 'name': 'Servicio de Salud Occidente', 'id': 627937872, 'id_str': '627937872', 'indices': [117, 132]}], 'urls': []}, 'source': '<a href=\"https://mobile.twitter.com\" rel=\"nofollow\">Twitter Web App</a>', 'in_reply_to_status_id': None, 'in_reply_to_status_id_str': None, 'in_reply_to_user_id': None, 'in_reply_to_user_id_str': None, 'in_reply_to_screen_name': None, 'user': {'id': 153825949, 'id_str': '153825949', 'name': 'Ministerio de Salud', 'screen_name': 'ministeriosalud', 'location': 'Chile', 'description': 'Cuenta oficial del Ministerio de Salud del @GobiernoDeChile. Ministro @jmanalich. Subsec Salud Pública @pdazan. Subsec Redes Asistenciales @arturozunigaj', 'url': 'https://t.co/nvmZqECuuN', 'entities': {'url': {'urls': [{'url': 'https://t.co/nvmZqECuuN', 'expanded_url': 'http://www.minsal.cl', 'display_url': 'minsal.cl', 'indices': [0, 23]}]}, 'description': {'urls': []}}, 'protected': False, 'followers_count': 367568, 'friends_count': 2489, 'listed_count': 860, 'created_at': 'Wed Jun 09 16:38:56 +0000 2010', 'favourites_count': 20525, 'utc_offset': None, 'time_zone': None, 'geo_enabled': True, 'verified': True, 'statuses_count': 49732, 'lang': None, 'contributors_enabled': False, 'is_translator': False, 'is_translation_enabled': False, 'profile_background_color': 'E5E5E5', 'profile_background_image_url': 'http://abs.twimg.com/images/themes/theme19/bg.gif', 'profile_background_image_url_https': 'https://abs.twimg.com/images/themes/theme19/bg.gif', 'profile_background_tile': False, 'profile_image_url': 'http://pbs.twimg.com/profile_images/1240679830183649288/S94zI3Yu_normal.jpg', 'profile_image_url_https': 'https://pbs.twimg.com/profile_images/1240679830183649288/S94zI3Yu_normal.jpg', 'profile_banner_url': 'https://pbs.twimg.com/profile_banners/153825949/1584461283', 'profile_link_color': '0069AB', 'profile_sidebar_border_color': '000000', 'profile_sidebar_fill_color': 'C0DFEC', 'profile_text_color': '333333', 'profile_use_background_image': True, 'has_extended_profile': True, 'default_profile': False, 'default_profile_image': False, 'following': False, 'follow_request_sent': False, 'notifications': False, 'translator_type': 'none'}, 'geo': None, 'coordinates': None, 'place': None, 'contributors': None, 'retweeted_status': {'created_at': 'Mon Apr 27 13:06:39 +0000 2020', 'id': 1254758859744456706, 'id_str': '1254758859744456706', 'text': 'Nuevo stock de Elementos de Protección Personal (EPP) se distribuye a establecimientos de la Red @SaludOccidente. L… https://t.co/wNJiKWltAp', 'truncated': True, 'entities': {'hashtags': [], 'symbols': [], 'user_mentions': [{'screen_name': 'SaludOccidente', 'name': 'Servicio de Salud Occidente', 'id': 627937872, 'id_str': '627937872', 'indices': [97, 112]}], 'urls': [{'url': 'https://t.co/wNJiKWltAp', 'expanded_url': 'https://twitter.com/i/web/status/1254758859744456706', 'display_url': 'twitter.com/i/web/status/1…', 'indices': [117, 140]}]}, 'source': '<a href=\"http://twitter.com/download/iphone\" rel=\"nofollow\">Twitter for iPhone</a>', 'in_reply_to_status_id': None, 'in_reply_to_status_id_str': None, 'in_reply_to_user_id': None, 'in_reply_to_user_id_str': None, 'in_reply_to_screen_name': None, 'user': {'id': 627937872, 'id_str': '627937872', 'name': 'Servicio de Salud Occidente', 'screen_name': 'SaludOccidente', 'location': '', 'description': 'Estructurando y coordinando la Red Asistencial para otorgar salud con calidad, oportunidad, equidad y eficiencia a los habitantes de la zona poniente de la RM.', 'url': None, 'entities': {'description': {'urls': []}}, 'protected': False, 'followers_count': 2901, 'friends_count': 2057, 'listed_count': 11, 'created_at': 'Fri Jul 06 00:00:58 +0000 2012', 'favourites_count': 1056, 'utc_offset': None, 'time_zone': None, 'geo_enabled': True, 'verified': False, 'statuses_count': 8212, 'lang': None, 'contributors_enabled': False, 'is_translator': False, 'is_translation_enabled': False, 'profile_background_color': 'C0DEED', 'profile_background_image_url': 'http://abs.twimg.com/images/themes/theme1/bg.png', 'profile_background_image_url_https': 'https://abs.twimg.com/images/themes/theme1/bg.png', 'profile_background_tile': False, 'profile_image_url': 'http://pbs.twimg.com/profile_images/1188821296869773312/01UmbLO7_normal.png', 'profile_image_url_https': 'https://pbs.twimg.com/profile_images/1188821296869773312/01UmbLO7_normal.png', 'profile_banner_url': 'https://pbs.twimg.com/profile_banners/627937872/1584641802', 'profile_link_color': '0084B4', 'profile_sidebar_border_color': 'C0DEED', 'profile_sidebar_fill_color': 'DDEEF6', 'profile_text_color': '333333', 'profile_use_background_image': True, 'has_extended_profile': False, 'default_profile': False, 'default_profile_image': False, 'following': False, 'follow_request_sent': False, 'notifications': False, 'translator_type': 'none'}, 'geo': None, 'coordinates': None, 'place': None, 'contributors': None, 'is_quote_status': False, 'retweet_count': 8, 'favorite_count': 14, 'favorited': False, 'retweeted': False, 'possibly_sensitive': False, 'lang': 'es'}, 'is_quote_status': False, 'retweet_count': 8, 'favorite_count': 0, 'favorited': False, 'retweeted': False, 'lang': 'es'}, created_at=datetime.datetime(2020, 4, 27, 13, 18, 55), id=1254761949990027266, id_str='1254761949990027266', text='RT @SaludOccidente: Nuevo stock de Elementos de Protección Personal (EPP) se distribuye a establecimientos de la Red @SaludOccidente. La en…', truncated=False, entities={'hashtags': [], 'symbols': [], 'user_mentions': [{'screen_name': 'SaludOccidente', 'name': 'Servicio de Salud Occidente', 'id': 627937872, 'id_str': '627937872', 'indices': [3, 18]}, {'screen_name': 'SaludOccidente', 'name': 'Servicio de Salud Occidente', 'id': 627937872, 'id_str': '627937872', 'indices': [117, 132]}], 'urls': []}, source='Twitter Web App', source_url='https://mobile.twitter.com', in_reply_to_status_id=None, in_reply_to_status_id_str=None, in_reply_to_user_id=None, in_reply_to_user_id_str=None, in_reply_to_screen_name=None, author=User(_api=<tweepy.api.API object at 0x0000028E68D65E48>, _json={'id': 153825949, 'id_str': '153825949', 'name': 'Ministerio de Salud', 'screen_name': 'ministeriosalud', 'location': 'Chile', 'description': 'Cuenta oficial del Ministerio de Salud del @GobiernoDeChile. Ministro @jmanalich. Subsec Salud Pública @pdazan. Subsec Redes Asistenciales @arturozunigaj', 'url': 'https://t.co/nvmZqECuuN', 'entities': {'url': {'urls': [{'url': 'https://t.co/nvmZqECuuN', 'expanded_url': 'http://www.minsal.cl', 'display_url': 'minsal.cl', 'indices': [0, 23]}]}, 'description': {'urls': []}}, 'protected': False, 'followers_count': 367568, 'friends_count': 2489, 'listed_count': 860, 'created_at': 'Wed Jun 09 16:38:56 +0000 2010', 'favourites_count': 20525, 'utc_offset': None, 'time_zone': None, 'geo_enabled': True, 'verified': True, 'statuses_count': 49732, 'lang': None, 'contributors_enabled': False, 'is_translator': False, 'is_translation_enabled': False, 'profile_background_color': 'E5E5E5', 'profile_background_image_url': 'http://abs.twimg.com/images/themes/theme19/bg.gif', 'profile_background_image_url_https': 'https://abs.twimg.com/images/themes/theme19/bg.gif', 'profile_background_tile': False, 'profile_image_url': 'http://pbs.twimg.com/profile_images/1240679830183649288/S94zI3Yu_normal.jpg', 'profile_image_url_https': 'https://pbs.twimg.com/profile_images/1240679830183649288/S94zI3Yu_normal.jpg', 'profile_banner_url': 'https://pbs.twimg.com/profile_banners/153825949/1584461283', 'profile_link_color': '0069AB', 'profile_sidebar_border_color': '000000', 'profile_sidebar_fill_color': 'C0DFEC', 'profile_text_color': '333333', 'profile_use_background_image': True, 'has_extended_profile': True, 'default_profile': False, 'default_profile_image': False, 'following': False, 'follow_request_sent': False, 'notifications': False, 'translator_type': 'none'}, id=153825949, id_str='153825949', name='Ministerio de Salud', screen_name='ministeriosalud', location='Chile', description='Cuenta oficial del Ministerio de Salud del @GobiernoDeChile. Ministro @jmanalich. Subsec Salud Pública @pdazan. Subsec Redes Asistenciales @arturozunigaj', url='https://t.co/nvmZqECuuN', entities={'url': {'urls': [{'url': 'https://t.co/nvmZqECuuN', 'expanded_url': 'http://www.minsal.cl', 'display_url': 'minsal.cl', 'indices': [0, 23]}]}, 'description': {'urls': []}}, protected=False, followers_count=367568, friends_count=2489, listed_count=860, created_at=datetime.datetime(2010, 6, 9, 16, 38, 56), favourites_count=20525, utc_offset=None, time_zone=None, geo_enabled=True, verified=True, statuses_count=49732, lang=None, contributors_enabled=False, is_translator=False, is_translation_enabled=False, profile_background_color='E5E5E5', profile_background_image_url='http://abs.twimg.com/images/themes/theme19/bg.gif', profile_background_image_url_https='https://abs.twimg.com/images/themes/theme19/bg.gif', profile_background_tile=False, profile_image_url='http://pbs.twimg.com/profile_images/1240679830183649288/S94zI3Yu_normal.jpg', profile_image_url_https='https://pbs.twimg.com/profile_images/1240679830183649288/S94zI3Yu_normal.jpg', profile_banner_url='https://pbs.twimg.com/profile_banners/153825949/1584461283', profile_link_color='0069AB', profile_sidebar_border_color='000000', profile_sidebar_fill_color='C0DFEC', profile_text_color='333333', profile_use_background_image=True, has_extended_profile=True, default_profile=False, default_profile_image=False, following=False, follow_request_sent=False, notifications=False, translator_type='none'), user=User(_api=<tweepy.api.API object at 0x0000028E68D65E48>, _json={'id': 153825949, 'id_str': '153825949', 'name': 'Ministerio de Salud', 'screen_name': 'ministeriosalud', 'location': 'Chile', 'description': 'Cuenta oficial del Ministerio de Salud del @GobiernoDeChile. Ministro @jmanalich. Subsec Salud Pública @pdazan. Subsec Redes Asistenciales @arturozunigaj', 'url': 'https://t.co/nvmZqECuuN', 'entities': {'url': {'urls': [{'url': 'https://t.co/nvmZqECuuN', 'expanded_url': 'http://www.minsal.cl', 'display_url': 'minsal.cl', 'indices': [0, 23]}]}, 'description': {'urls': []}}, 'protected': False, 'followers_count': 367568, 'friends_count': 2489, 'listed_count': 860, 'created_at': 'Wed Jun 09 16:38:56 +0000 2010', 'favourites_count': 20525, 'utc_offset': None, 'time_zone': None, 'geo_enabled': True, 'verified': True, 'statuses_count': 49732, 'lang': None, 'contributors_enabled': False, 'is_translator': False, 'is_translation_enabled': False, 'profile_background_color': 'E5E5E5', 'profile_background_image_url': 'http://abs.twimg.com/images/themes/theme19/bg.gif', 'profile_background_image_url_https': 'https://abs.twimg.com/images/themes/theme19/bg.gif', 'profile_background_tile': False, 'profile_image_url': 'http://pbs.twimg.com/profile_images/1240679830183649288/S94zI3Yu_normal.jpg', 'profile_image_url_https': 'https://pbs.twimg.com/profile_images/1240679830183649288/S94zI3Yu_normal.jpg', 'profile_banner_url': 'https://pbs.twimg.com/profile_banners/153825949/1584461283', 'profile_link_color': '0069AB', 'profile_sidebar_border_color': '000000', 'profile_sidebar_fill_color': 'C0DFEC', 'profile_text_color': '333333', 'profile_use_background_image': True, 'has_extended_profile': True, 'default_profile': False, 'default_profile_image': False, 'following': False, 'follow_request_sent': False, 'notifications': False, 'translator_type': 'none'}, id=153825949, id_str='153825949', name='Ministerio de Salud', screen_name='ministeriosalud', location='Chile', description='Cuenta oficial del Ministerio de Salud del @GobiernoDeChile. Ministro @jmanalich. Subsec Salud Pública @pdazan. Subsec Redes Asistenciales @arturozunigaj', url='https://t.co/nvmZqECuuN', entities={'url': {'urls': [{'url': 'https://t.co/nvmZqECuuN', 'expanded_url': 'http://www.minsal.cl', 'display_url': 'minsal.cl', 'indices': [0, 23]}]}, 'description': {'urls': []}}, protected=False, followers_count=367568, friends_count=2489, listed_count=860, created_at=datetime.datetime(2010, 6, 9, 16, 38, 56), favourites_count=20525, utc_offset=None, time_zone=None, geo_enabled=True, verified=True, statuses_count=49732, lang=None, contributors_enabled=False, is_translator=False, is_translation_enabled=False, profile_background_color='E5E5E5', profile_background_image_url='http://abs.twimg.com/images/themes/theme19/bg.gif', profile_background_image_url_https='https://abs.twimg.com/images/themes/theme19/bg.gif', profile_background_tile=False, profile_image_url='http://pbs.twimg.com/profile_images/1240679830183649288/S94zI3Yu_normal.jpg', profile_image_url_https='https://pbs.twimg.com/profile_images/1240679830183649288/S94zI3Yu_normal.jpg', profile_banner_url='https://pbs.twimg.com/profile_banners/153825949/1584461283', profile_link_color='0069AB', profile_sidebar_border_color='000000', profile_sidebar_fill_color='C0DFEC', profile_text_color='333333', profile_use_background_image=True, has_extended_profile=True, default_profile=False, default_profile_image=False, following=False, follow_request_sent=False, notifications=False, translator_type='none'), geo=None, coordinates=None, place=None, contributors=None, retweeted_status=Status(_api=<tweepy.api.API object at 0x0000028E68D65E48>, _json={'created_at': 'Mon Apr 27 13:06:39 +0000 2020', 'id': 1254758859744456706, 'id_str': '1254758859744456706', 'text': 'Nuevo stock de Elementos de Protección Personal (EPP) se distribuye a establecimientos de la Red @SaludOccidente. L… https://t.co/wNJiKWltAp', 'truncated': True, 'entities': {'hashtags': [], 'symbols': [], 'user_mentions': [{'screen_name': 'SaludOccidente', 'name': 'Servicio de Salud Occidente', 'id': 627937872, 'id_str': '627937872', 'indices': [97, 112]}], 'urls': [{'url': 'https://t.co/wNJiKWltAp', 'expanded_url': 'https://twitter.com/i/web/status/1254758859744456706', 'display_url': 'twitter.com/i/web/status/1…', 'indices': [117, 140]}]}, 'source': '<a href=\"http://twitter.com/download/iphone\" rel=\"nofollow\">Twitter for iPhone</a>', 'in_reply_to_status_id': None, 'in_reply_to_status_id_str': None, 'in_reply_to_user_id': None, 'in_reply_to_user_id_str': None, 'in_reply_to_screen_name': None, 'user': {'id': 627937872, 'id_str': '627937872', 'name': 'Servicio de Salud Occidente', 'screen_name': 'SaludOccidente', 'location': '', 'description': 'Estructurando y coordinando la Red Asistencial para otorgar salud con calidad, oportunidad, equidad y eficiencia a los habitantes de la zona poniente de la RM.', 'url': None, 'entities': {'description': {'urls': []}}, 'protected': False, 'followers_count': 2901, 'friends_count': 2057, 'listed_count': 11, 'created_at': 'Fri Jul 06 00:00:58 +0000 2012', 'favourites_count': 1056, 'utc_offset': None, 'time_zone': None, 'geo_enabled': True, 'verified': False, 'statuses_count': 8212, 'lang': None, 'contributors_enabled': False, 'is_translator': False, 'is_translation_enabled': False, 'profile_background_color': 'C0DEED', 'profile_background_image_url': 'http://abs.twimg.com/images/themes/theme1/bg.png', 'profile_background_image_url_https': 'https://abs.twimg.com/images/themes/theme1/bg.png', 'profile_background_tile': False, 'profile_image_url': 'http://pbs.twimg.com/profile_images/1188821296869773312/01UmbLO7_normal.png', 'profile_image_url_https': 'https://pbs.twimg.com/profile_images/1188821296869773312/01UmbLO7_normal.png', 'profile_banner_url': 'https://pbs.twimg.com/profile_banners/627937872/1584641802', 'profile_link_color': '0084B4', 'profile_sidebar_border_color': 'C0DEED', 'profile_sidebar_fill_color': 'DDEEF6', 'profile_text_color': '333333', 'profile_use_background_image': True, 'has_extended_profile': False, 'default_profile': False, 'default_profile_image': False, 'following': False, 'follow_request_sent': False, 'notifications': False, 'translator_type': 'none'}, 'geo': None, 'coordinates': None, 'place': None, 'contributors': None, 'is_quote_status': False, 'retweet_count': 8, 'favorite_count': 14, 'favorited': False, 'retweeted': False, 'possibly_sensitive': False, 'lang': 'es'}, created_at=datetime.datetime(2020, 4, 27, 13, 6, 39), id=1254758859744456706, id_str='1254758859744456706', text='Nuevo stock de Elementos de Protección Personal (EPP) se distribuye a establecimientos de la Red @SaludOccidente. L… https://t.co/wNJiKWltAp', truncated=True, entities={'hashtags': [], 'symbols': [], 'user_mentions': [{'screen_name': 'SaludOccidente', 'name': 'Servicio de Salud Occidente', 'id': 627937872, 'id_str': '627937872', 'indices': [97, 112]}], 'urls': [{'url': 'https://t.co/wNJiKWltAp', 'expanded_url': 'https://twitter.com/i/web/status/1254758859744456706', 'display_url': 'twitter.com/i/web/status/1…', 'indices': [117, 140]}]}, source='Twitter for iPhone', source_url='http://twitter.com/download/iphone', in_reply_to_status_id=None, in_reply_to_status_id_str=None, in_reply_to_user_id=None, in_reply_to_user_id_str=None, in_reply_to_screen_name=None, author=User(_api=<tweepy.api.API object at 0x0000028E68D65E48>, _json={'id': 627937872, 'id_str': '627937872', 'name': 'Servicio de Salud Occidente', 'screen_name': 'SaludOccidente', 'location': '', 'description': 'Estructurando y coordinando la Red Asistencial para otorgar salud con calidad, oportunidad, equidad y eficiencia a los habitantes de la zona poniente de la RM.', 'url': None, 'entities': {'description': {'urls': []}}, 'protected': False, 'followers_count': 2901, 'friends_count': 2057, 'listed_count': 11, 'created_at': 'Fri Jul 06 00:00:58 +0000 2012', 'favourites_count': 1056, 'utc_offset': None, 'time_zone': None, 'geo_enabled': True, 'verified': False, 'statuses_count': 8212, 'lang': None, 'contributors_enabled': False, 'is_translator': False, 'is_translation_enabled': False, 'profile_background_color': 'C0DEED', 'profile_background_image_url': 'http://abs.twimg.com/images/themes/theme1/bg.png', 'profile_background_image_url_https': 'https://abs.twimg.com/images/themes/theme1/bg.png', 'profile_background_tile': False, 'profile_image_url': 'http://pbs.twimg.com/profile_images/1188821296869773312/01UmbLO7_normal.png', 'profile_image_url_https': 'https://pbs.twimg.com/profile_images/1188821296869773312/01UmbLO7_normal.png', 'profile_banner_url': 'https://pbs.twimg.com/profile_banners/627937872/1584641802', 'profile_link_color': '0084B4', 'profile_sidebar_border_color': 'C0DEED', 'profile_sidebar_fill_color': 'DDEEF6', 'profile_text_color': '333333', 'profile_use_background_image': True, 'has_extended_profile': False, 'default_profile': False, 'default_profile_image': False, 'following': False, 'follow_request_sent': False, 'notifications': False, 'translator_type': 'none'}, id=627937872, id_str='627937872', name='Servicio de Salud Occidente', screen_name='SaludOccidente', location='', description='Estructurando y coordinando la Red Asistencial para otorgar salud con calidad, oportunidad, equidad y eficiencia a los habitantes de la zona poniente de la RM.', url=None, entities={'description': {'urls': []}}, protected=False, followers_count=2901, friends_count=2057, listed_count=11, created_at=datetime.datetime(2012, 7, 6, 0, 0, 58), favourites_count=1056, utc_offset=None, time_zone=None, geo_enabled=True, verified=False, statuses_count=8212, lang=None, contributors_enabled=False, is_translator=False, is_translation_enabled=False, profile_background_color='C0DEED', profile_background_image_url='http://abs.twimg.com/images/themes/theme1/bg.png', profile_background_image_url_https='https://abs.twimg.com/images/themes/theme1/bg.png', profile_background_tile=False, profile_image_url='http://pbs.twimg.com/profile_images/1188821296869773312/01UmbLO7_normal.png', profile_image_url_https='https://pbs.twimg.com/profile_images/1188821296869773312/01UmbLO7_normal.png', profile_banner_url='https://pbs.twimg.com/profile_banners/627937872/1584641802', profile_link_color='0084B4', profile_sidebar_border_color='C0DEED', profile_sidebar_fill_color='DDEEF6', profile_text_color='333333', profile_use_background_image=True, has_extended_profile=False, default_profile=False, default_profile_image=False, following=False, follow_request_sent=False, notifications=False, translator_type='none'), user=User(_api=<tweepy.api.API object at 0x0000028E68D65E48>, _json={'id': 627937872, 'id_str': '627937872', 'name': 'Servicio de Salud Occidente', 'screen_name': 'SaludOccidente', 'location': '', 'description': 'Estructurando y coordinando la Red Asistencial para otorgar salud con calidad, oportunidad, equidad y eficiencia a los habitantes de la zona poniente de la RM.', 'url': None, 'entities': {'description': {'urls': []}}, 'protected': False, 'followers_count': 2901, 'friends_count': 2057, 'listed_count': 11, 'created_at': 'Fri Jul 06 00:00:58 +0000 2012', 'favourites_count': 1056, 'utc_offset': None, 'time_zone': None, 'geo_enabled': True, 'verified': False, 'statuses_count': 8212, 'lang': None, 'contributors_enabled': False, 'is_translator': False, 'is_translation_enabled': False, 'profile_background_color': 'C0DEED', 'profile_background_image_url': 'http://abs.twimg.com/images/themes/theme1/bg.png', 'profile_background_image_url_https': 'https://abs.twimg.com/images/themes/theme1/bg.png', 'profile_background_tile': False, 'profile_image_url': 'http://pbs.twimg.com/profile_images/1188821296869773312/01UmbLO7_normal.png', 'profile_image_url_https': 'https://pbs.twimg.com/profile_images/1188821296869773312/01UmbLO7_normal.png', 'profile_banner_url': 'https://pbs.twimg.com/profile_banners/627937872/1584641802', 'profile_link_color': '0084B4', 'profile_sidebar_border_color': 'C0DEED', 'profile_sidebar_fill_color': 'DDEEF6', 'profile_text_color': '333333', 'profile_use_background_image': True, 'has_extended_profile': False, 'default_profile': False, 'default_profile_image': False, 'following': False, 'follow_request_sent': False, 'notifications': False, 'translator_type': 'none'}, id=627937872, id_str='627937872', name='Servicio de Salud Occidente', screen_name='SaludOccidente', location='', description='Estructurando y coordinando la Red Asistencial para otorgar salud con calidad, oportunidad, equidad y eficiencia a los habitantes de la zona poniente de la RM.', url=None, entities={'description': {'urls': []}}, protected=False, followers_count=2901, friends_count=2057, listed_count=11, created_at=datetime.datetime(2012, 7, 6, 0, 0, 58), favourites_count=1056, utc_offset=None, time_zone=None, geo_enabled=True, verified=False, statuses_count=8212, lang=None, contributors_enabled=False, is_translator=False, is_translation_enabled=False, profile_background_color='C0DEED', profile_background_image_url='http://abs.twimg.com/images/themes/theme1/bg.png', profile_background_image_url_https='https://abs.twimg.com/images/themes/theme1/bg.png', profile_background_tile=False, profile_image_url='http://pbs.twimg.com/profile_images/1188821296869773312/01UmbLO7_normal.png', profile_image_url_https='https://pbs.twimg.com/profile_images/1188821296869773312/01UmbLO7_normal.png', profile_banner_url='https://pbs.twimg.com/profile_banners/627937872/1584641802', profile_link_color='0084B4', profile_sidebar_border_color='C0DEED', profile_sidebar_fill_color='DDEEF6', profile_text_color='333333', profile_use_background_image=True, has_extended_profile=False, default_profile=False, default_profile_image=False, following=False, follow_request_sent=False, notifications=False, translator_type='none'), geo=None, coordinates=None, place=None, contributors=None, is_quote_status=False, retweet_count=8, favorite_count=14, favorited=False, retweeted=False, possibly_sensitive=False, lang='es'), is_quote_status=False, retweet_count=8, favorite_count=0, favorited=False, retweeted=False, lang='es')"
      ]
     },
     "execution_count": 8,
     "metadata": {},
     "output_type": "execute_result"
    }
   ],
   "source": [
    "lista[0]"
   ]
  },
  {
   "cell_type": "code",
   "execution_count": 14,
   "metadata": {},
   "outputs": [
    {
     "name": "stdout",
     "output_type": "stream",
     "text": [
      "Twitter Web App\n",
      "Twitter for iPhone\n",
      "Twitter Web App\n",
      "Twitter Web App\n",
      "Twitter Web App\n",
      "Twitter Web App\n",
      "Twitter Web App\n",
      "Twitter Web App\n",
      "Twitter Web App\n",
      "Twitter Web App\n",
      "Twitter Web App\n",
      "Twitter Media Studio\n",
      "Twitter for iPhone\n",
      "Twitter for iPhone\n",
      "Twitter for iPhone\n",
      "Twitter Media Studio\n",
      "Twitter for iPhone\n",
      "Twitter for iPhone\n",
      "Twitter Media Studio\n",
      "Twitter Web App\n",
      "Twitter for iPhone\n",
      "Twitter Web App\n",
      "TweetDeck\n",
      "Twitter for iPhone\n",
      "TweetDeck\n",
      "Twitter for iPhone\n",
      "Twitter for iPhone\n",
      "TweetDeck\n",
      "TweetDeck\n",
      "Twitter for iPhone\n",
      "TweetDeck\n",
      "Twitter for iPhone\n",
      "TweetDeck\n",
      "TweetDeck\n",
      "TweetDeck\n",
      "TweetDeck\n",
      "TweetDeck\n",
      "TweetDeck\n",
      "TweetDeck\n",
      "TweetDeck\n"
     ]
    }
   ],
   "source": [
    "for i in datasetFinalTweet()[\"Dispositivo\"]:\n",
    "    print(i)"
   ]
  },
  {
   "cell_type": "code",
   "execution_count": 15,
   "metadata": {},
   "outputs": [
    {
     "data": {
      "text/plain": [
       "40"
      ]
     },
     "execution_count": 15,
     "metadata": {},
     "output_type": "execute_result"
    }
   ],
   "source": [
    "len(datasetFinalTweet()[\"Dispositivo\"])"
   ]
  },
  {
   "cell_type": "code",
   "execution_count": 12,
   "metadata": {},
   "outputs": [],
   "source": [
    "#\"opsoms\",\n",
    "#                \"ispch\",\n",
    "#                \"SuperDeSalud\"\n",
    "lista = get_tweetConFecha(\"opsoms\")"
   ]
  },
  {
   "cell_type": "code",
   "execution_count": 15,
   "metadata": {},
   "outputs": [
    {
     "data": {
      "text/plain": [
       "'http://pbs.twimg.com/profile_images/1096094749902028801/ijbQWupW.png'"
      ]
     },
     "execution_count": 15,
     "metadata": {},
     "output_type": "execute_result"
    }
   ],
   "source": [
    "lista[1]._json[\"user\"][\"profile_image_url\"].replace(\"_normal.\",\".\")"
   ]
  },
  {
   "cell_type": "code",
   "execution_count": null,
   "metadata": {},
   "outputs": [],
   "source": [
    "http://pbs.twimg.com/profile_images/2284174872         /7df3h38zabcvjylnyfe3_bigger.png\n",
    "http://pbs.twimg.com/profile_images/1245851467891736576/TayMmMjI_bigger.jpg"
   ]
  }
 ],
 "metadata": {
  "kernelspec": {
   "display_name": "Python 3",
   "language": "python",
   "name": "python3"
  },
  "language_info": {
   "codemirror_mode": {
    "name": "ipython",
    "version": 3
   },
   "file_extension": ".py",
   "mimetype": "text/x-python",
   "name": "python",
   "nbconvert_exporter": "python",
   "pygments_lexer": "ipython3",
   "version": "3.7.4"
  }
 },
 "nbformat": 4,
 "nbformat_minor": 2
}
