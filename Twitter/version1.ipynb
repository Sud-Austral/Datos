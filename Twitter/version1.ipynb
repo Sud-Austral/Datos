{
 "cells": [
  {
   "cell_type": "code",
   "execution_count": 6,
   "metadata": {},
   "outputs": [],
   "source": [
    "from tweepy.streaming import StreamListener\n",
    "from tweepy import OAuthHandler\n",
    "from tweepy import Stream\n",
    "import re\n",
    "import time\n",
    "import tweepy\n",
    "import json\n",
    "im\n",
    "\n",
    "def APITWEET():\n",
    "    # Declaramos nuestras Twitter API Keys:\n",
    "    ACCESS_TOKEN = '1230251564616515586-2KqPsCG2mIJp3irRjENgHpCfQUxTUg'\n",
    "    ACCESS_TOKEN_SECRET = '6PJfMtYGY7w6csiIX9m1S5jFEKNZ3hE9PVkHKeN1S14iM'\n",
    "    CONSUMER_KEY = 'koO4XqTuWFr5ADGcE8kjIkVoU'\n",
    "    CONSUMER_SECRET = '3F4sk9qU8zbKBROuLPUUj1uvE2YuhseXPe0ahMQoivg4icN5bL'\n",
    "    auth = tweepy.OAuthHandler(CONSUMER_KEY, CONSUMER_SECRET)\n",
    "    auth.set_access_token(ACCESS_TOKEN, ACCESS_TOKEN_SECRET)\n",
    "    api = tweepy.API(auth)\n",
    "    return api\n",
    "\n",
    "def get_stuff(nombre=None):\n",
    "    api = APITWEET()\n",
    "    stuff = tweepy.Cursor(api.user_timeline, screen_name = nombre, include_rts = True)\n",
    "    return stuff\n",
    "\n",
    "def get_tweets(stuff, n):\n",
    "    #for status in stuff.items(n):\n",
    "        #print(status.created_at, status.author.screen_name, status.text)\n",
    "        #print(status)\n",
    "        #return status\n",
    "    #return stuff.items(n)\n",
    "    return list(stuff.items(n))\n",
    "\n",
    "#tweepy.Cursor(api.search, q='#मराठी OR #माझाक्लिक OR #म')\n",
    "#tweepy.Cursor(api.friends)\n",
    "#tweepy.Cursor(api.home_timeline)\n",
    "#tweepy.Cursor(api.search, url)\n",
    "#tweepy.Cursor(api.friends, user_id=user_id, count=200).items()\n",
    "#tweepy.Cursor(api.mentions_timeline, user_id=user_id, count=200).items()\n",
    "#######https://developer.twitter.com/en/docs/tweets/data-dictionary/overview/tweet-object"
   ]
  },
  {
   "cell_type": "code",
   "execution_count": 2,
   "metadata": {},
   "outputs": [],
   "source": [
    "stuff = get_stuff(\"colmedchile\")\n",
    "aux = get_tweets(stuff,1000)"
   ]
  },
  {
   "cell_type": "code",
   "execution_count": 3,
   "metadata": {},
   "outputs": [
    {
     "data": {
      "text/plain": [
       "list"
      ]
     },
     "execution_count": 3,
     "metadata": {},
     "output_type": "execute_result"
    }
   ],
   "source": [
    "salida = []\n",
    "for i in aux:\n",
    "    jsonaux = i._json.copy()\n",
    "    jsonaux.update(jsonaux[\"user\"].copy())\n",
    "    salida.append(jsonaux.copy())\n",
    "    \n",
    "    "
   ]
  },
  {
   "cell_type": "code",
   "execution_count": 5,
   "metadata": {},
   "outputs": [
    {
     "data": {
      "text/plain": [
       "dict"
      ]
     },
     "execution_count": 5,
     "metadata": {},
     "output_type": "execute_result"
    }
   ],
   "source": [
    "type(aux[0]._json)"
   ]
  },
  {
   "cell_type": "code",
   "execution_count": null,
   "metadata": {},
   "outputs": [],
   "source": []
  }
 ],
 "metadata": {
  "kernelspec": {
   "display_name": "Python 3",
   "language": "python",
   "name": "python3"
  },
  "language_info": {
   "codemirror_mode": {
    "name": "ipython",
    "version": 3
   },
   "file_extension": ".py",
   "mimetype": "text/x-python",
   "name": "python",
   "nbconvert_exporter": "python",
   "pygments_lexer": "ipython3",
   "version": "3.7.4"
  }
 },
 "nbformat": 4,
 "nbformat_minor": 2
}
