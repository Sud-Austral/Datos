{
 "cells": [
  {
   "cell_type": "code",
   "execution_count": null,
   "metadata": {},
   "outputs": [],
   "source": [
    "import pandas as pd\n",
    "from datetime import datetime\n",
    "\n",
    "\n",
    "now = datetime.now()\n",
    "url= \"https://opendata.ecdc.europa.eu/covid19/casedistribution/csv/\"\n",
    "data = pd.read_csv(url)\n",
    "\n",
    "\n",
    "data.to_csv(\"Current_Coronavirus_Cases_and_Deaths.csv\", index=False)\n",
    "data.to_csv(\"Current_Coronavirus_Cases_and_Deaths.\" + now.strftime(\"%d-%m-%Y_%H-%M-%S\") + \"csv\", index=False)"
   ]
  }
 ],
 "metadata": {
  "kernelspec": {
   "display_name": "Python 3",
   "language": "python",
   "name": "python3"
  },
  "language_info": {
   "codemirror_mode": {
    "name": "ipython",
    "version": 3
   },
   "file_extension": ".py",
   "mimetype": "text/x-python",
   "name": "python",
   "nbconvert_exporter": "python",
   "pygments_lexer": "ipython3",
   "version": "3.7.4"
  }
 },
 "nbformat": 4,
 "nbformat_minor": 2
}
