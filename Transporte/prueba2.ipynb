{
 "cells": [
  {
   "cell_type": "code",
   "execution_count": 40,
   "metadata": {},
   "outputs": [],
   "source": [
    "import requests\n",
    "import pandas as pd\n",
    "import json\n",
    "import codecs\n",
    "\n",
    "\n",
    "url  = 'https://api.scltrans.it/v1/routes/?limit=500'\n",
    "response = requests.get(url)\n",
    "#decoded_data=codecs.decode(response.content, 'utf-8-sig')\n",
    "d = json.loads(response.content)\n",
    "\n",
    "data_dict = pd.DataFrame(d[\"results\"])\n",
    "salida = []\n",
    "\n",
    "for i in data_dict.iterrows():\n",
    "    diccionario = i[1].to_dict()\n",
    "    for j in diccionario[\"directions\"]:\n",
    "        aux = diccionario\n",
    "        for k in j.keys():\n",
    "            aux[k] = j[k]\n",
    "            #print(aux[k])\n",
    "        #print(aux)\n",
    "        salida.append(aux.copy())\n",
    "    #print(salida[0])\n",
    "    #print(salida[1])\n",
    "        \n",
    "data_final=pd.DataFrame.from_dict(salida)\n",
    "data_final.to_csv(\"Rutas.csv\", index=False)"
   ]
  },
  {
   "cell_type": "code",
   "execution_count": null,
   "metadata": {},
   "outputs": [],
   "source": [
    "dataframes = []\n",
    "\n",
    "# https://api.scltrans.it/v1/routes/502/directions\n",
    "def incluirRuta(texto):\n",
    "    return \"https://api.scltrans.it/v1/routes/\" + str(texto) + \"/directions\"\n",
    "for rutas in pd.read_csv(\"Rutas.csv\")[\"route_id\"]:\n",
    "    response = requests.get(incluirRuta(rutas))\n",
    "\n",
    "    d = json.loads(response.content)\n",
    "    data_dict = pd.DataFrame(d[\"results\"])\n",
    "    salida = []\n",
    "    for i in data_dict.iterrows():\n",
    "        diccionario = i[1].to_dict()\n",
    "        for j in diccionario[\"stop_times\"]:\n",
    "            aux = diccionario\n",
    "            for k in j.keys():\n",
    "                aux[k] = j[k]\n",
    "            salida.append(aux.copy())       \n",
    "    data_dict2=pd.DataFrame.from_dict(salida)\n",
    "    data_dict2.tail(1) #.to_csv(\"Rutas.csv\", index=False)\n",
    "\n",
    "    salida = []\n",
    "\n",
    "    for i in data_dict2.iterrows():\n",
    "        diccionario = i[1].to_dict()\n",
    "        for j in diccionario[\"shape\"]:\n",
    "            aux = diccionario\n",
    "            for k in j.keys():\n",
    "                aux[k] = j[k]\n",
    "                #print(aux[k])\n",
    "            #print(aux)\n",
    "            salida.append(aux.copy())\n",
    "\n",
    "    data_dict3=pd.DataFrame.from_dict(salida)\n",
    "\n",
    "    for i in data_dict2.iterrows():\n",
    "        diccionario = i[1].to_dict()\n",
    "        aux = diccionario\n",
    "        for k in diccionario[\"stop\"].keys():\n",
    "            aux[k] = diccionario[\"stop\"][k]\n",
    "        for k in diccionario[\"trip\"].keys():\n",
    "            aux[k] = diccionario[\"trip\"][k]\n",
    "        for k in diccionario[\"frequency\"].keys():\n",
    "            aux[k] = diccionario[\"frequency\"][k]\n",
    "        salida.append(aux.copy())\n",
    "    dataframes.append(pd.DataFrame.from_dict(salida))\n",
    "    #data_final=pd.DataFrame.from_dict(salida)\n",
    "data_final = pd.concat(dataframes)\n",
    "data_final.to_csv(\"Direcciones.csv\",index=False)\n",
    "#data_final.shape\n"
   ]
  },
  {
   "cell_type": "code",
   "execution_count": null,
   "metadata": {},
   "outputs": [],
   "source": [
    "data_final.shape"
   ]
  },
  {
   "cell_type": "code",
   "execution_count": null,
   "metadata": {},
   "outputs": [],
   "source": []
  }
 ],
 "metadata": {
  "kernelspec": {
   "display_name": "Python 3",
   "language": "python",
   "name": "python3"
  },
  "language_info": {
   "codemirror_mode": {
    "name": "ipython",
    "version": 3
   },
   "file_extension": ".py",
   "mimetype": "text/x-python",
   "name": "python",
   "nbconvert_exporter": "python",
   "pygments_lexer": "ipython3",
   "version": "3.7.4"
  }
 },
 "nbformat": 4,
 "nbformat_minor": 2
}
