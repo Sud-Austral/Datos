{
 "cells": [
  {
   "cell_type": "code",
   "execution_count": 44,
   "metadata": {},
   "outputs": [
    {
     "ename": "TypeError",
     "evalue": "'float' object is not subscriptable",
     "output_type": "error",
     "traceback": [
      "\u001b[1;31m---------------------------------------------------------------------------\u001b[0m",
      "\u001b[1;31mTypeError\u001b[0m                                 Traceback (most recent call last)",
      "\u001b[1;32m<ipython-input-44-e5ae1433354b>\u001b[0m in \u001b[0;36m<module>\u001b[1;34m\u001b[0m\n\u001b[0;32m     27\u001b[0m \u001b[0mdata_ayer\u001b[0m \u001b[1;33m=\u001b[0m \u001b[0mdata\u001b[0m\u001b[1;33m[\u001b[0m\u001b[1;36m1\u001b[0m\u001b[1;33m]\u001b[0m     \u001b[1;31m#.to_csv(\"worldometersAYER.csv\", index=False)\u001b[0m\u001b[1;33m\u001b[0m\u001b[1;33m\u001b[0m\u001b[0m\n\u001b[0;32m     28\u001b[0m \u001b[1;33m\u001b[0m\u001b[0m\n\u001b[1;32m---> 29\u001b[1;33m \u001b[0mdata_hoy\u001b[0m\u001b[1;33m[\u001b[0m\u001b[1;34m\"Primer caso\"\u001b[0m\u001b[1;33m]\u001b[0m \u001b[1;33m=\u001b[0m \u001b[0mdata_hoy\u001b[0m\u001b[1;33m[\u001b[0m\u001b[1;34m\"Reported1st case\"\u001b[0m\u001b[1;33m]\u001b[0m\u001b[1;33m.\u001b[0m\u001b[0mapply\u001b[0m\u001b[1;33m(\u001b[0m\u001b[0mcambioFecha\u001b[0m\u001b[1;33m)\u001b[0m\u001b[1;33m\u001b[0m\u001b[1;33m\u001b[0m\u001b[0m\n\u001b[0m\u001b[0;32m     30\u001b[0m \u001b[0mdata_ayer\u001b[0m\u001b[1;33m[\u001b[0m\u001b[1;34m\"Primer caso\"\u001b[0m\u001b[1;33m]\u001b[0m \u001b[1;33m=\u001b[0m \u001b[0mdata_ayer\u001b[0m\u001b[1;33m[\u001b[0m\u001b[1;34m\"Reported1st case\"\u001b[0m\u001b[1;33m]\u001b[0m\u001b[1;33m.\u001b[0m\u001b[0mapply\u001b[0m\u001b[1;33m(\u001b[0m\u001b[0mcambioFecha\u001b[0m\u001b[1;33m)\u001b[0m\u001b[1;33m\u001b[0m\u001b[1;33m\u001b[0m\u001b[0m\n\u001b[0;32m     31\u001b[0m \u001b[1;33m\u001b[0m\u001b[0m\n",
      "\u001b[1;32mC:\\ProgramData\\Anaconda3\\lib\\site-packages\\pandas\\core\\series.py\u001b[0m in \u001b[0;36mapply\u001b[1;34m(self, func, convert_dtype, args, **kwds)\u001b[0m\n\u001b[0;32m   3846\u001b[0m             \u001b[1;32melse\u001b[0m\u001b[1;33m:\u001b[0m\u001b[1;33m\u001b[0m\u001b[1;33m\u001b[0m\u001b[0m\n\u001b[0;32m   3847\u001b[0m                 \u001b[0mvalues\u001b[0m \u001b[1;33m=\u001b[0m \u001b[0mself\u001b[0m\u001b[1;33m.\u001b[0m\u001b[0mastype\u001b[0m\u001b[1;33m(\u001b[0m\u001b[0mobject\u001b[0m\u001b[1;33m)\u001b[0m\u001b[1;33m.\u001b[0m\u001b[0mvalues\u001b[0m\u001b[1;33m\u001b[0m\u001b[1;33m\u001b[0m\u001b[0m\n\u001b[1;32m-> 3848\u001b[1;33m                 \u001b[0mmapped\u001b[0m \u001b[1;33m=\u001b[0m \u001b[0mlib\u001b[0m\u001b[1;33m.\u001b[0m\u001b[0mmap_infer\u001b[0m\u001b[1;33m(\u001b[0m\u001b[0mvalues\u001b[0m\u001b[1;33m,\u001b[0m \u001b[0mf\u001b[0m\u001b[1;33m,\u001b[0m \u001b[0mconvert\u001b[0m\u001b[1;33m=\u001b[0m\u001b[0mconvert_dtype\u001b[0m\u001b[1;33m)\u001b[0m\u001b[1;33m\u001b[0m\u001b[1;33m\u001b[0m\u001b[0m\n\u001b[0m\u001b[0;32m   3849\u001b[0m \u001b[1;33m\u001b[0m\u001b[0m\n\u001b[0;32m   3850\u001b[0m         \u001b[1;32mif\u001b[0m \u001b[0mlen\u001b[0m\u001b[1;33m(\u001b[0m\u001b[0mmapped\u001b[0m\u001b[1;33m)\u001b[0m \u001b[1;32mand\u001b[0m \u001b[0misinstance\u001b[0m\u001b[1;33m(\u001b[0m\u001b[0mmapped\u001b[0m\u001b[1;33m[\u001b[0m\u001b[1;36m0\u001b[0m\u001b[1;33m]\u001b[0m\u001b[1;33m,\u001b[0m \u001b[0mSeries\u001b[0m\u001b[1;33m)\u001b[0m\u001b[1;33m:\u001b[0m\u001b[1;33m\u001b[0m\u001b[1;33m\u001b[0m\u001b[0m\n",
      "\u001b[1;32mpandas\\_libs\\lib.pyx\u001b[0m in \u001b[0;36mpandas._libs.lib.map_infer\u001b[1;34m()\u001b[0m\n",
      "\u001b[1;32m<ipython-input-44-e5ae1433354b>\u001b[0m in \u001b[0;36mcambioFecha\u001b[1;34m(texto)\u001b[0m\n\u001b[0;32m     16\u001b[0m         \u001b[0mmes\u001b[0m \u001b[1;33m=\u001b[0m \u001b[1;36m12\u001b[0m\u001b[1;33m\u001b[0m\u001b[1;33m\u001b[0m\u001b[0m\n\u001b[0;32m     17\u001b[0m     \u001b[1;31m#datetime.date(2019, 12, 4)\u001b[0m\u001b[1;33m\u001b[0m\u001b[1;33m\u001b[0m\u001b[1;33m\u001b[0m\u001b[0m\n\u001b[1;32m---> 18\u001b[1;33m     \u001b[0mdia\u001b[0m \u001b[1;33m=\u001b[0m \u001b[0mint\u001b[0m\u001b[1;33m(\u001b[0m\u001b[0mtexto\u001b[0m\u001b[1;33m[\u001b[0m\u001b[1;36m4\u001b[0m\u001b[1;33m:\u001b[0m\u001b[1;36m7\u001b[0m\u001b[1;33m]\u001b[0m\u001b[1;33m)\u001b[0m\u001b[1;33m\u001b[0m\u001b[1;33m\u001b[0m\u001b[0m\n\u001b[0m\u001b[0;32m     19\u001b[0m     \u001b[0msalida\u001b[0m \u001b[1;33m=\u001b[0m \u001b[0mdatetime\u001b[0m\u001b[1;33m.\u001b[0m\u001b[0mdate\u001b[0m\u001b[1;33m(\u001b[0m\u001b[1;36m2020\u001b[0m\u001b[1;33m,\u001b[0m\u001b[0mmes\u001b[0m\u001b[1;33m,\u001b[0m\u001b[0mdia\u001b[0m\u001b[1;33m)\u001b[0m\u001b[1;33m\u001b[0m\u001b[1;33m\u001b[0m\u001b[0m\n\u001b[0;32m     20\u001b[0m     \u001b[1;32mreturn\u001b[0m \u001b[0msalida\u001b[0m\u001b[1;33m\u001b[0m\u001b[1;33m\u001b[0m\u001b[0m\n",
      "\u001b[1;31mTypeError\u001b[0m: 'float' object is not subscriptable"
     ]
    }
   ],
   "source": [
    "import pandas as pd\n",
    "import requests\n",
    "import git\n",
    "from datetime import date\n",
    "\n",
    "           \n",
    "def cambioFecha(texto):\n",
    "    \"\"\"\"\"\"\n",
    "    traductor ={\n",
    "        \"Jan\" : 1,\n",
    "        \"Feb\" : 2,\n",
    "        \"Mar\" : 3\n",
    "    }\n",
    "    try:\n",
    "        mes = traductor[texto[:3]]\n",
    "    except:\n",
    "        mes = 12\n",
    "    #datetime.date(2019, 12, 4)\n",
    "    dia = int(texto[4:7])\n",
    "    salida = datetime.date(2020,mes,dia)\n",
    "    return salida\n",
    "\n",
    "url  = 'https://www.worldometers.info/coronavirus/'\n",
    "response = requests.get(url)\n",
    "#print(response.content)\n",
    "data = pd.read_html(response.content)\n",
    "data_hoy = data[0]     #.to_csv(\"worldometers.csv\", index=False)\n",
    "data_ayer = data[1]     #.to_csv(\"worldometersAYER.csv\", index=False)\n",
    "\n",
    "data_hoy[\"Primer caso\"] = data_hoy[\"Reported1st case\"].apply(cambioFecha)\n",
    "data_ayer[\"Primer caso\"] = data_ayer[\"Reported1st case\"].apply(cambioFecha)\n",
    "\n",
    "data_hoy.to_csv(\"worldometers.csv\", index=False)\n",
    "data_ayer.to_csv(\"worldometersAYER.csv\", index=False)\n",
    "\n",
    "repoLocal = git.Repo('C:/Users/limc_/Documents/GitHub/Datos' )\n",
    "print(repoLocal.git.status())\n",
    "#repoLocal.git.add(\".\")\n",
    "repoLocal.git.add(\".\")\n",
    "try:\n",
    "    repoLocal.git.commit(m='Update automatico via python')\n",
    "except:\n",
    "    pass\n",
    "\n",
    "origin = repoLocal.remote(name='origin')\n",
    "origin.push()"
   ]
  },
  {
   "cell_type": "code",
   "execution_count": 34,
   "metadata": {},
   "outputs": [
    {
     "data": {
      "text/plain": [
       "datetime.date(2020, 1, 4)"
      ]
     },
     "execution_count": 34,
     "metadata": {},
     "output_type": "execute_result"
    }
   ],
   "source": [
    "datetime.date(2020,1,int(\"04\"))"
   ]
  },
  {
   "cell_type": "code",
   "execution_count": 46,
   "metadata": {},
   "outputs": [
    {
     "name": "stdout",
     "output_type": "stream",
     "text": [
      "2020-01-20\n",
      "2020-01-29\n",
      "2020-01-30\n",
      "2020-01-26\n",
      "2020-01-23\n",
      "2020-02-18\n",
      "2020-01-30\n",
      "2020-02-24\n",
      "2020-02-03\n",
      "2020-02-26\n",
      "2020-03-09\n",
      "2020-02-24\n",
      "2020-01-19\n",
      "2020-01-24\n",
      "2020-03-01\n",
      "2020-02-24\n",
      "2020-02-20\n",
      "2020-01-30\n",
      "2020-01-24\n",
      "2020-02-25\n",
      "2020-02-29\n",
      "2020-02-28\n",
      "2020-02-26\n",
      "2020-03-02\n",
      "2020-01-24\n",
      "2020-01-30\n",
      "2020-02-25\n",
      "2020-03-03\n",
      "2020-01-29\n",
      "2020-02-28\n",
      "2020-01-14\n",
      "2020-02-28\n",
      "2020-02-25\n",
      "2020-01-12\n",
      "2020-03-01\n",
      "2020-03-01\n",
      "2020-01-29\n",
      "2020-01-28\n",
      "2020-03-04\n",
      "2020-02-25\n",
      "2020-02-27\n",
      "2020-02-27\n",
      "2020-03-09\n",
      "2020-02-29\n",
      "2020-03-05\n",
      "2020-03-05\n",
      "2020-03-02\n",
      "2020-01-22\n",
      "2020-02-24\n",
      "2020-03-05\n",
      "2020-03-03\n",
      "2020-02-28\n",
      "2020-02-26\n",
      "2020-01-22\n",
      "2020-02-24\n",
      "2020-02-04\n",
      "2020-02-13\n",
      "2020-02-27\n",
      "2020-02-21\n",
      "2020-03-02\n",
      "2020-01-28\n",
      "2020-03-01\n",
      "2020-02-27\n",
      "2020-02-29\n",
      "2020-02-23\n",
      "2020-03-03\n",
      "2020-02-20\n",
      "2020-03-04\n",
      "2020-03-01\n",
      "2020-03-06\n",
      "2020-03-05\n",
      "2020-03-01\n",
      "2020-03-01\n",
      "2020-03-12\n",
      "2020-02-27\n",
      "2020-02-25\n",
      "2020-03-06\n",
      "2020-03-04\n",
      "2020-03-12\n",
      "2020-01-20\n",
      "2020-02-23\n",
      "2020-03-01\n",
      "2020-03-08\n",
      "2020-03-08\n",
      "2020-03-07\n",
      "2020-03-10\n",
      "2020-02-26\n",
      "2020-03-05\n",
      "2020-01-22\n",
      "2020-02-23\n",
      "2020-02-23\n",
      "2020-03-11\n",
      "2020-03-01\n",
      "2020-03-06\n",
      "2020-03-10\n",
      "2020-03-10\n",
      "2020-03-14\n",
      "2020-03-03\n",
      "2020-03-10\n",
      "2020-03-08\n",
      "2020-02-27\n",
      "2020-02-27\n",
      "2020-03-17\n",
      "2020-01-26\n",
      "2020-03-12\n",
      "2020-03-04\n",
      "2020-03-08\n",
      "2020-03-04\n",
      "2020-03-16\n",
      "2020-03-09\n",
      "2020-02-25\n",
      "2020-03-12\n",
      "2020-03-17\n",
      "2020-03-09\n",
      "2020-01-26\n",
      "2020-03-13\n",
      "2020-03-11\n",
      "2020-03-12\n",
      "2020-03-13\n",
      "2020-03-06\n",
      "2020-03-02\n",
      "2020-03-02\n",
      "2020-03-18\n",
      "2020-03-19\n",
      "2020-03-12\n",
      "2020-03-07\n",
      "2020-02-27\n",
      "2020-03-06\n",
      "2020-03-20\n",
      "2020-01-21\n",
      "2020-03-12\n",
      "2020-03-09\n",
      "2020-03-10\n",
      "2020-03-05\n",
      "2020-03-17\n",
      "2020-03-18\n",
      "2020-03-16\n",
      "2020-03-18\n",
      "2020-03-17\n",
      "2020-03-24\n",
      "2020-03-17\n",
      "2020-03-12\n",
      "2020-03-12\n",
      "2020-03-15\n",
      "2020-03-14\n",
      "2020-03-06\n",
      "2020-03-12\n",
      "2020-03-17\n",
      "2020-03-19\n",
      "2020-03-17\n",
      "2020-03-22\n",
      "2020-02-29\n",
      "2020-03-14\n",
      "2020-03-13\n",
      "2020-03-20\n",
      "2020-03-12\n",
      "2020-03-09\n",
      "2020-03-13\n",
      "2020-03-12\n",
      "2020-03-11\n",
      "2020-03-21\n",
      "2020-03-12\n",
      "2020-03-21\n",
      "2020-03-15\n",
      "2020-03-23\n",
      "2020-03-23\n",
      "2020-03-13\n",
      "2020-03-12\n",
      "2020-03-15\n",
      "2020-03-21\n",
      "2020-03-13\n",
      "2020-03-19\n",
      "2020-03-24\n",
      "2020-03-21\n",
      "2020-03-24\n",
      "2020-03-19\n",
      "2020-03-12\n",
      "2020-03-12\n",
      "2020-03-18\n",
      "2020-03-19\n",
      "2020-03-12\n",
      "2020-03-05\n",
      "2020-03-15\n",
      "2020-02-29\n",
      "2020-03-22\n",
      "2020-03-18\n",
      "2020-01-23\n",
      "2020-03-18\n",
      "2020-03-17\n",
      "2020-03-15\n",
      "2020-03-29\n",
      "2020-03-16\n",
      "2020-03-05\n",
      "2020-03-22\n",
      "2020-03-24\n",
      "2020-03-14\n",
      "2020-03-26\n",
      "2020-03-25\n",
      "2020-03-30\n",
      "2020-03-31\n",
      "2020-03-19\n",
      "2020-03-10\n",
      "2020-03-30\n",
      "2020-03-20\n",
      "2020-01-10\n"
     ]
    },
    {
     "ename": "TypeError",
     "evalue": "'float' object is not subscriptable",
     "output_type": "error",
     "traceback": [
      "\u001b[1;31m---------------------------------------------------------------------------\u001b[0m",
      "\u001b[1;31mTypeError\u001b[0m                                 Traceback (most recent call last)",
      "\u001b[1;32m<ipython-input-46-f8499ef4ce5b>\u001b[0m in \u001b[0;36m<module>\u001b[1;34m\u001b[0m\n\u001b[0;32m      1\u001b[0m \u001b[1;32mfor\u001b[0m \u001b[0mi\u001b[0m \u001b[1;32min\u001b[0m \u001b[0mdata\u001b[0m\u001b[1;33m[\u001b[0m\u001b[1;36m0\u001b[0m\u001b[1;33m]\u001b[0m\u001b[1;33m[\u001b[0m\u001b[1;34m\"Reported1st case\"\u001b[0m\u001b[1;33m]\u001b[0m\u001b[1;33m:\u001b[0m\u001b[1;33m\u001b[0m\u001b[1;33m\u001b[0m\u001b[0m\n\u001b[1;32m----> 2\u001b[1;33m     \u001b[0mprint\u001b[0m\u001b[1;33m(\u001b[0m\u001b[0mdatetime\u001b[0m\u001b[1;33m.\u001b[0m\u001b[0mdate\u001b[0m\u001b[1;33m(\u001b[0m\u001b[1;36m2020\u001b[0m\u001b[1;33m,\u001b[0m\u001b[0mtraductor\u001b[0m\u001b[1;33m[\u001b[0m\u001b[1;33m(\u001b[0m\u001b[0mi\u001b[0m\u001b[1;33m[\u001b[0m\u001b[1;33m:\u001b[0m\u001b[1;36m3\u001b[0m\u001b[1;33m]\u001b[0m\u001b[1;33m)\u001b[0m\u001b[1;33m]\u001b[0m\u001b[1;33m,\u001b[0m\u001b[0mint\u001b[0m\u001b[1;33m(\u001b[0m\u001b[0mi\u001b[0m\u001b[1;33m[\u001b[0m\u001b[1;36m4\u001b[0m\u001b[1;33m:\u001b[0m\u001b[1;36m7\u001b[0m\u001b[1;33m]\u001b[0m\u001b[1;33m)\u001b[0m\u001b[1;33m)\u001b[0m\u001b[1;33m)\u001b[0m\u001b[1;33m\u001b[0m\u001b[1;33m\u001b[0m\u001b[0m\n\u001b[0m\u001b[0;32m      3\u001b[0m     \u001b[1;31m#print(type(i))\u001b[0m\u001b[1;33m\u001b[0m\u001b[1;33m\u001b[0m\u001b[1;33m\u001b[0m\u001b[0m\n",
      "\u001b[1;31mTypeError\u001b[0m: 'float' object is not subscriptable"
     ]
    }
   ],
   "source": [
    "for i in data[0][\"Reported1st case\"]:\n",
    "    print(datetime.date(2020,traductor[(i[:3])],int(i[4:7])))\n",
    "    #print(type(i))"
   ]
  },
  {
   "cell_type": "code",
   "execution_count": 25,
   "metadata": {},
   "outputs": [
    {
     "data": {
      "text/plain": [
       "'la'"
      ]
     },
     "execution_count": 25,
     "metadata": {},
     "output_type": "execute_result"
    }
   ],
   "source": [
    "texto = \"hola\"\n",
    "texto[2:4]"
   ]
  },
  {
   "cell_type": "code",
   "execution_count": 24,
   "metadata": {},
   "outputs": [
    {
     "data": {
      "text/plain": [
       "4"
      ]
     },
     "execution_count": 24,
     "metadata": {},
     "output_type": "execute_result"
    }
   ],
   "source": [
    "int(\"04\")"
   ]
  },
  {
   "cell_type": "code",
   "execution_count": 38,
   "metadata": {},
   "outputs": [],
   "source": [
    "traductor ={\n",
    "        \"Jan\" : 1,\n",
    "        \"Feb\" : 2,\n",
    "        \"Mar\" : 3\n",
    "    }"
   ]
  },
  {
   "cell_type": "code",
   "execution_count": 32,
   "metadata": {},
   "outputs": [
    {
     "data": {
      "text/plain": [
       "1"
      ]
     },
     "execution_count": 32,
     "metadata": {},
     "output_type": "execute_result"
    }
   ],
   "source": [
    "traductor[\"Jan\"]"
   ]
  },
  {
   "cell_type": "code",
   "execution_count": null,
   "metadata": {},
   "outputs": [],
   "source": []
  }
 ],
 "metadata": {
  "kernelspec": {
   "display_name": "Python 3",
   "language": "python",
   "name": "python3"
  },
  "language_info": {
   "codemirror_mode": {
    "name": "ipython",
    "version": 3
   },
   "file_extension": ".py",
   "mimetype": "text/x-python",
   "name": "python",
   "nbconvert_exporter": "python",
   "pygments_lexer": "ipython3",
   "version": "3.7.4"
  }
 },
 "nbformat": 4,
 "nbformat_minor": 2
}
