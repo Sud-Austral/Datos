{
 "cells": [
  {
   "cell_type": "code",
   "execution_count": 6,
   "metadata": {},
   "outputs": [],
   "source": [
    "import pandas as pd\n",
    "import time\n",
    "\n",
    "\n",
    "\n",
    "\n",
    "\n",
    "def Chile():\n",
    "    url_chile = \"https://raw.githubusercontent.com/ivanMSC/COVID19_Chile/master/covid19_chile.csv\"\n",
    "    pd.read_csv(url_chile).to_csv(\"Chile/covid19_chile.csv\", index=False)\n",
    "\n",
    "    url_comunas = \"https://raw.githubusercontent.com/ivanMSC/COVID19_Chile/master/covid19_comunas.csv\"\n",
    "    pd.read_csv(url_chile).to_csv(\"Chile/covid19_comunas.csv\", index=False)\n",
    "\n",
    "    url_old = \"https://raw.githubusercontent.com/ivanMSC/COVID19_Chile/master/old/covid19_chile.csv\"\n",
    "    pd.read_csv(url_chile).to_csv(\"Chile/covid19_chile_old.csv\", index=False)\n",
    "    return "
   ]
  },
  {
   "cell_type": "code",
   "execution_count": null,
   "metadata": {},
   "outputs": [
    {
     "name": "stdout",
     "output_type": "stream",
     "text": [
      "hola\n",
      "hola\n",
      "hola\n",
      "hola\n",
      "hola\n",
      "hola\n",
      "hola\n",
      "hola\n",
      "hola\n",
      "hola\n",
      "hola\n",
      "hola\n",
      "hola\n",
      "hola\n",
      "hola\n",
      "hola\n",
      "hola\n",
      "hola\n",
      "hola\n",
      "hola\n",
      "hola\n",
      "hola\n",
      "hola\n",
      "hola\n",
      "hola\n",
      "hola\n",
      "hola\n",
      "hola\n",
      "hola\n",
      "hola\n",
      "hola\n",
      "hola\n",
      "hola\n",
      "hola\n",
      "hola\n",
      "hola\n",
      "hola\n",
      "hola\n",
      "hola\n",
      "hola\n",
      "hola\n",
      "hola\n",
      "hola\n",
      "hola\n",
      "hola\n"
     ]
    }
   ],
   "source": [
    "while(True):\n",
    "    Chile()\n",
    "    print(\"hola\")\n",
    "    time.sleep(2)\n",
    "    \n",
    "\n",
    "\n",
    "\n",
    "\n"
   ]
  },
  {
   "cell_type": "code",
   "execution_count": null,
   "metadata": {},
   "outputs": [],
   "source": []
  }
 ],
 "metadata": {
  "kernelspec": {
   "display_name": "Python 3",
   "language": "python",
   "name": "python3"
  },
  "language_info": {
   "codemirror_mode": {
    "name": "ipython",
    "version": 3
   },
   "file_extension": ".py",
   "mimetype": "text/x-python",
   "name": "python",
   "nbconvert_exporter": "python",
   "pygments_lexer": "ipython3",
   "version": "3.7.4"
  }
 },
 "nbformat": 4,
 "nbformat_minor": 2
}
