{
 "cells": [
  {
   "cell_type": "code",
   "execution_count": 9,
   "metadata": {},
   "outputs": [
    {
     "data": {
      "text/plain": [
       "7"
      ]
     },
     "execution_count": 9,
     "metadata": {},
     "output_type": "execute_result"
    }
   ],
   "source": [
    "import requests\n",
    "import pandas as pd\n",
    "\n",
    "url  = 'https://www.worldometers.info/coronavirus/'\n",
    "response = requests.get(url)\n",
    "#print(response.content)\n",
    "data = pd.read_html(response.content)\n",
    "data_hoy = data[0]     #.to_csv(\"worldometers.csv\", index=False)\n",
    "\n",
    "data_aux = pd.read_csv(\"worldometers.info/Historico/worldometers.csv\")\n",
    "for i in data_aux.columns[1:10]:\n",
    "    del data_aux[i]\n",
    "\n",
    "merged_left = pd.merge(left=data_hoy, right=data_aux, how='left', left_on='Country,Other', right_on='Country,Other')\n",
    "merged_left.to_csv(\"worldometers.info/worldometers.csv\", index=False)\n",
    "\n",
    "url  = 'https://www.worldometers.info/world-population/population-by-country/'\n",
    "response = requests.get(url)\n",
    "#print(response.content)\n",
    "data = pd.read_html(response.content)[0]\n",
    "\n",
    "\n",
    "\n",
    "total = (data_hoy[data_hoy[\"Country,Other\"] == \"World\"])[\"TotalCases\"][0]\n",
    "archivo = open(\"Total/total.txt\", \"w\")\n",
    "archivo.write(str(total))\n",
    "\n",
    "    \n",
    "    \n",
    "    \n"
   ]
  },
  {
   "cell_type": "code",
   "execution_count": 11,
   "metadata": {},
   "outputs": [
    {
     "data": {
      "text/plain": [
       "'1374564'"
      ]
     },
     "execution_count": 11,
     "metadata": {},
     "output_type": "execute_result"
    }
   ],
   "source": [
    "str(total)"
   ]
  },
  {
   "cell_type": "code",
   "execution_count": null,
   "metadata": {},
   "outputs": [],
   "source": []
  }
 ],
 "metadata": {
  "kernelspec": {
   "display_name": "Python 3",
   "language": "python",
   "name": "python3"
  },
  "language_info": {
   "codemirror_mode": {
    "name": "ipython",
    "version": 3
   },
   "file_extension": ".py",
   "mimetype": "text/x-python",
   "name": "python",
   "nbconvert_exporter": "python",
   "pygments_lexer": "ipython3",
   "version": "3.7.4"
  }
 },
 "nbformat": 4,
 "nbformat_minor": 4
}
