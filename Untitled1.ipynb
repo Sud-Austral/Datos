{
 "cells": [
  {
   "cell_type": "code",
   "execution_count": 1,
   "metadata": {},
   "outputs": [],
   "source": [
    "import Actualizar as A"
   ]
  },
  {
   "cell_type": "code",
   "execution_count": 2,
   "metadata": {
    "scrolled": true
   },
   "outputs": [
    {
     "name": "stdout",
     "output_type": "stream",
     "text": [
      "On branch master\n",
      "Your branch is up to date with 'origin/master'.\n",
      "\n",
      "Changes not staged for commit:\n",
      "  (use \"git add <file>...\" to update what will be committed)\n",
      "  (use \"git checkout -- <file>...\" to discard changes in working directory)\n",
      "\n",
      "\tmodified:   Actualizar.py\n",
      "\tmodified:   Untitled.ipynb\n",
      "\tmodified:   Untitled1.ipynb\n",
      "\tmodified:   Untitled2.ipynb\n",
      "\n",
      "Untracked files:\n",
      "  (use \"git add <file>...\" to include in what will be committed)\n",
      "\n",
      "\tEarlyAlert/Current_Coronavirus_Cases_and_Deaths.07-04-2020_00-51-58csv\n",
      "\tourworldindata.org/07-04-2020_01-02-04covid-19-total-confirmed-cases-vs-total-tests-conducted(8).csv\n",
      "\tourworldindata.org/07-04-2020_01-02-04daily-cases-covid-19.csv\n",
      "\tourworldindata.org/07-04-2020_01-02-04full-list-total-tests-for-covid-19.csv\n",
      "\tourworldindata.org/07-04-2020_01-02-04hospital-beds-per-1000-people.csv\n",
      "\tourworldindata.org/07-04-2020_01-02-04physicians-per-1000-people.csv\n",
      "\tourworldindata.org/07-04-2020_01-02-04share-of-the-population-that-is-70-years-and-older.csv\n",
      "\tourworldindata.org/07-04-2020_01-02-04total-cases-covid-19.csv\n",
      "\tourworldindata.org/07-04-2020_01-02-04total-daily-covid-deaths-per-million.csv\n",
      "\tourworldindata.org/07-04-2020_01-02-04total-deaths-covid-19.csv\n",
      "\tourworldindata.org/covid-19-total-confirmed-cases-vs-total-tests-conducted(8).csv\n",
      "\tourworldindata.org/full-list-total-tests-for-covid-19.csv\n",
      "\tourworldindata.org/full-list-total-tests-for-covid-1907-04-2020_00-41-01.csv\n",
      "\tourworldindata.org/full-list-total-tests-for-covid-1907-04-2020_00-56-32.csv\n",
      "\tourworldindata.org/total-deaths-covid-1907-04-2020_00-41-01.csv\n",
      "\tourworldindata.org/total-deaths-covid-1907-04-2020_00-56-32.csv\n",
      "\n",
      "no changes added to commit (use \"git add\" and/or \"git commit -a\")\n"
     ]
    }
   ],
   "source": [
    "A.ourWorldInData()"
   ]
  },
  {
   "cell_type": "code",
   "execution_count": null,
   "metadata": {},
   "outputs": [],
   "source": []
  },
  {
   "cell_type": "code",
   "execution_count": null,
   "metadata": {},
   "outputs": [],
   "source": []
  },
  {
   "cell_type": "code",
   "execution_count": null,
   "metadata": {},
   "outputs": [],
   "source": []
  }
 ],
 "metadata": {
  "kernelspec": {
   "display_name": "Python 3",
   "language": "python",
   "name": "python3"
  },
  "language_info": {
   "codemirror_mode": {
    "name": "ipython",
    "version": 3
   },
   "file_extension": ".py",
   "mimetype": "text/x-python",
   "name": "python",
   "nbconvert_exporter": "python",
   "pygments_lexer": "ipython3",
   "version": "3.7.4"
  }
 },
 "nbformat": 4,
 "nbformat_minor": 2
}
