{
 "cells": [
  {
   "cell_type": "code",
   "execution_count": 6,
   "metadata": {},
   "outputs": [],
   "source": [
    "import Servidor as S"
   ]
  },
  {
   "cell_type": "code",
   "execution_count": null,
   "metadata": {},
   "outputs": [
    {
     "name": "stdout",
     "output_type": "stream",
     "text": [
      "Comenzo...\n",
      "Twiter completos...\n",
      "Productos avanzados completos...\n",
      "https://raw.githubusercontent.com/MinCiencia/Datos-COVID19/master/input/InformeEpidemiologico/CasosActivosPorComuna.csv\n",
      "https://raw.githubusercontent.com/MinCiencia/Datos-COVID19/master/input/InformeEpidemiologico/CasosActualesPorComuna.csv\n",
      "https://raw.githubusercontent.com/MinCiencia/Datos-COVID19/master/input/InformeEpidemiologico/CasosAcumuladosPorComuna.csv\n",
      "https://raw.githubusercontent.com/MinCiencia/Datos-COVID19/master/input/InformeEpidemiologico/CasosGeneroEtario.csv\n",
      "https://raw.githubusercontent.com/MinCiencia/Datos-COVID19/master/input/InformeEpidemiologico/FechaInicioSintomas.csv\n",
      "Error al cargar 3 carpetas del MinSal\n",
      "Cargar datos de la organización completo...\n",
      "Bing News completo...\n",
      "Minsal completo...\n",
      "Farmacias completo...\n",
      "Chile completo...\n",
      "Error de GITHUB\n",
      "Hopkins diario completo...\n",
      "Hopkins serie (acumulado) completo...\n",
      "se Eliminó la columna continentExp\n",
      "Error de GITHUB\n",
      "ECDC Europa completo...\n",
      "se Eliminó la columna #\n",
      "se Eliminó la columna Population\n",
      "WORLDMETER completo...\n",
      "se Eliminó la columna Total tests (tests)\n",
      "se agregó la columna Cumulative total tests\n",
      "se Eliminó la columna Total tests\n",
      "se agregó la columna Cumulative total tests\n",
      "OurWorldInData completo...\n",
      "EarlyAlert completo...\n",
      "Error de GITHUB\n",
      "KoBoToolbox completo...\n",
      "**************************************************************************\n",
      "**************************************************************************\n",
      "                            Ciclo completo\n",
      "**************************************************************************\n",
      "**************************************************************************\n",
      "Comenzo...\n",
      "Twiter completos...\n",
      "Productos avanzados completos...\n",
      "https://raw.githubusercontent.com/MinCiencia/Datos-COVID19/master/input/InformeEpidemiologico/CasosActivosPorComuna.csv\n",
      "https://raw.githubusercontent.com/MinCiencia/Datos-COVID19/master/input/InformeEpidemiologico/CasosActualesPorComuna.csv\n",
      "https://raw.githubusercontent.com/MinCiencia/Datos-COVID19/master/input/InformeEpidemiologico/CasosAcumuladosPorComuna.csv\n",
      "https://raw.githubusercontent.com/MinCiencia/Datos-COVID19/master/input/InformeEpidemiologico/CasosGeneroEtario.csv\n",
      "https://raw.githubusercontent.com/MinCiencia/Datos-COVID19/master/input/InformeEpidemiologico/FechaInicioSintomas.csv\n",
      "Error al cargar 3 carpetas del MinSal\n",
      "Cargar datos de la organización completo...\n",
      "Bing News completo...\n",
      "Minsal completo...\n",
      "Farmacias completo...\n",
      "Chile completo...\n",
      "Error de GITHUB\n",
      "Hopkins diario completo...\n",
      "Hopkins serie (acumulado) completo...\n",
      "se Eliminó la columna continentExp\n",
      "Error de GITHUB\n",
      "ECDC Europa completo...\n",
      "se Eliminó la columna #\n",
      "se Eliminó la columna Population\n",
      "WORLDMETER completo...\n"
     ]
    }
   ],
   "source": [
    "S.Ciclo()"
   ]
  },
  {
   "cell_type": "code",
   "execution_count": null,
   "metadata": {},
   "outputs": [],
   "source": []
  }
 ],
 "metadata": {
  "kernelspec": {
   "display_name": "Python 3",
   "language": "python",
   "name": "python3"
  },
  "language_info": {
   "codemirror_mode": {
    "name": "ipython",
    "version": 3
   },
   "file_extension": ".py",
   "mimetype": "text/x-python",
   "name": "python",
   "nbconvert_exporter": "python",
   "pygments_lexer": "ipython3",
   "version": "3.7.6"
  }
 },
 "nbformat": 4,
 "nbformat_minor": 4
}
