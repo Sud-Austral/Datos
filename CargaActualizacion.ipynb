{
 "cells": [
  {
   "cell_type": "code",
   "execution_count": 8,
   "metadata": {},
   "outputs": [],
   "source": [
    "import git\n",
    "import datetime"
   ]
  },
  {
   "cell_type": "code",
   "execution_count": 12,
   "metadata": {},
   "outputs": [
    {
     "name": "stdout",
     "output_type": "stream",
     "text": [
      "2020-04-02 22:07:54 \n"
     ]
    }
   ],
   "source": [
    "repoLocal = git.Repo('C:/Users/limc_/Documents/GitHub/Datos')\n",
    "aux = repoLocal.git.execute('git log -1 --pretty=\"format:%ci\" worldometers.info/worldometersAYER.csv')\n",
    "print(aux[:20])"
   ]
  },
  {
   "cell_type": "code",
   "execution_count": 21,
   "metadata": {},
   "outputs": [],
   "source": [
    "#datetime_object = datetime.datetime.strptime('Jun 1 2005  1:33PM', '%b %d %Y %I:%M%p')\n",
    "#datetime_object = datetime.datetime.strptime('2020-04-02 22:07:54 ', '%Y-%m-%d %H:%M:%S')\n",
    "datetime_object = datetime.datetime.strptime(aux[:19], '%Y-%m-%d %H:%M:%S')"
   ]
  },
  {
   "cell_type": "code",
   "execution_count": 22,
   "metadata": {},
   "outputs": [
    {
     "data": {
      "text/plain": [
       "datetime.datetime(2020, 4, 2, 22, 7, 54)"
      ]
     },
     "execution_count": 22,
     "metadata": {},
     "output_type": "execute_result"
    }
   ],
   "source": [
    "datetime_object"
   ]
  },
  {
   "cell_type": "code",
   "execution_count": 42,
   "metadata": {},
   "outputs": [],
   "source": [
    "archivos = [\n",
    "            \"bing/news/Chile.csv\",\n",
    "            \"Chile/covid19_chile.csv\",\n",
    "            \"Chile/covid19_chile.xlsx\",\n",
    "            \"Chile/MinCiencia/Principal.csv\",\n",
    "            \"Chile/MinCiencia/Producto1.csv\",\n",
    "            \"Chile/MinCiencia/Producto2.csv\",\n",
    "            \"Chile/MinCiencia/Producto3.csv\",\n",
    "            \"Chile/MinCiencia/Producto4.csv\",\n",
    "            \"Chile/MinCiencia/Producto5.csv\",\n",
    "            \"datacovidChile/BASECALCULOCOMUNA.xlsx\",\n",
    "            \"datacovidChile/casosporcomunalistos.xlsx\",\n",
    "            \"datacovidChile/CovidChileV2.xlsx\",\n",
    "            \"datacovidhn/00DATACOVIDTrabajo_HN.xlsx\",\n",
    "            \"datacovidhn/00DATACOVID_HN_CUARENTENA.xlsx\",\n",
    "            \"datacovidhn/ALIMENTACION_HN.xlsx\",\n",
    "            \"datacovidhn/CovidHN.xlsx\",\n",
    "            \"datacovidhn/FARMACIAS_HN.xlsx\",\n",
    "            \"datacovidhn/LOCALIZAHN.xlsx\",\n",
    "            \"datacovidhn/SALUD_HN.xlsx\",\n",
    "            \"datacovidhn/Tabla_INSTALACIONES_Honduras_v1.xlsx\",\n",
    "            \"EarlyAlert/Current_Coronavirus_Cases_and_Deaths.csv\",\n",
    "            \"ecdc.europa/Current_Coronavirus_Cases_and_Deaths.csv\",\n",
    "            \"Farmacia/Farmacias.csv\",\n",
    "            \"Farmacia/FarmaciasTurno.csv\",\n",
    "            \"Johns_Hopkins-covid19/diario/ultimoRegistro.csv\",\n",
    "            \"Johns_Hopkins-covid19/series/acumulado.csv\",\n",
    "            \"ourworldindata.org/covid-19-total-confirmed-cases-vs-total-tests-conducted.csv\",\n",
    "            \"ourworldindata.org/full-list-total-tests-for-covid-19.csv\",\n",
    "            \"ourworldindata.org/total-deaths-covid-19.csv\",\n",
    "            \"ourworldindata.org/total-daily-covid-deaths-per-million.csv\",\n",
    "            \"ourworldindata.org/total-cases-covid-19.csv\",\n",
    "            \"ourworldindata.org/daily-cases-covid-19.csv\",\n",
    "            \"ourworldindata.org/physicians-per-1000-people.csv\",\n",
    "            \"ourworldindata.org/hospital-beds-per-1000-people.csv\",\n",
    "            \"ourworldindata.org/share-of-the-population-that-is-70-years-and-older.csv\",\n",
    "            \"ourworldindata.org/total-and-daily-cases-covid-19.csv\",\n",
    "            \"worldometers.info/worldometers.csv\"\n",
    "            ]\n",
    "\n",
    "def revisarUltimaActualizacion(ruta,gitObject):\n",
    "    return gitObject.git.execute('git log -1 --pretty=\"format:%ci\" ' + ruta)\n",
    "    #return datetime.datetime.strptime(aux[:19], '%Y-%m-%d %H:%M:%S')\n",
    "\n",
    "def definirFecha(ruta,gitObject):\n",
    "    return datetime.datetime.strptime(revisarUltimaActualizacion(ruta,gitObject)[:19], '%Y-%m-%d %H:%M:%S')\n"
   ]
  },
  {
   "cell_type": "code",
   "execution_count": 49,
   "metadata": {},
   "outputs": [
    {
     "name": "stdout",
     "output_type": "stream",
     "text": [
      "2020-04-23 12:37:11\n",
      "Chile.csv\n",
      "2020-04-23 12:37:11\n",
      "covid19_chile.csv\n",
      "2020-04-23 12:37:11\n",
      "covid19_chile.xlsx\n",
      "2020-04-15 14:52:28\n",
      "Principal.csv\n",
      "2020-04-21 19:52:39\n",
      "Producto1.csv\n",
      "2020-04-21 19:52:39\n",
      "Producto2.csv\n",
      "2020-04-23 12:37:11\n",
      "Producto3.csv\n",
      "2020-04-23 12:37:11\n",
      "Producto4.csv\n",
      "2020-04-23 12:37:11\n",
      "Producto5.csv\n",
      "2020-04-23 12:37:11\n",
      "BASECALCULOCOMUNA.xlsx\n",
      "2020-04-23 12:37:11\n",
      "casosporcomunalistos.xlsx\n",
      "2020-04-23 12:37:11\n",
      "CovidChileV2.xlsx\n",
      "2020-04-23 12:37:11\n",
      "00DATACOVIDTrabajo_HN.xlsx\n",
      "2020-04-23 12:37:11\n",
      "00DATACOVID_HN_CUARENTENA.xlsx\n",
      "2020-04-22 13:05:48\n",
      "ALIMENTACION_HN.xlsx\n",
      "2020-04-23 12:37:11\n",
      "CovidHN.xlsx\n",
      "2020-04-22 13:05:48\n",
      "FARMACIAS_HN.xlsx\n",
      "2020-04-23 12:37:11\n",
      "LOCALIZAHN.xlsx\n",
      "2020-04-22 13:05:48\n",
      "SALUD_HN.xlsx\n",
      "2020-04-22 13:05:48\n",
      "Tabla_INSTALACIONES_Honduras_v1.xlsx\n",
      "2020-04-22 20:12:50\n",
      "Current_Coronavirus_Cases_and_Deaths.csv\n",
      "2020-04-23 09:10:22\n",
      "Current_Coronavirus_Cases_and_Deaths.csv\n",
      "2020-04-23 12:37:11\n",
      "Farmacias.csv\n",
      "2020-04-23 12:37:11\n",
      "FarmaciasTurno.csv\n",
      "2020-04-22 20:44:58\n",
      "ultimoRegistro.csv\n",
      "2020-04-22 20:49:41\n",
      "acumulado.csv\n",
      "2020-04-23 09:12:21\n",
      "covid-19-total-confirmed-cases-vs-total-tests-conducted.csv\n",
      "2020-04-22 17:05:10\n",
      "full-list-total-tests-for-covid-19.csv\n",
      "2020-04-23 07:54:29\n",
      "total-deaths-covid-19.csv\n",
      "2020-04-23 07:54:29\n",
      "total-daily-covid-deaths-per-million.csv\n",
      "2020-04-23 09:12:21\n",
      "total-cases-covid-19.csv\n",
      "2020-04-23 09:12:21\n",
      "daily-cases-covid-19.csv\n",
      "2020-03-31 20:04:33\n",
      "physicians-per-1000-people.csv\n",
      "2020-04-03 11:34:57\n",
      "hospital-beds-per-1000-people.csv\n",
      "2020-03-31 20:04:33\n",
      "share-of-the-population-that-is-70-years-and-older.csv\n",
      "2020-04-23 09:12:21\n",
      "total-and-daily-cases-covid-19.csv\n"
     ]
    }
   ],
   "source": [
    "for i in archivos:\n",
    "    #print(revisarUltimaActualizacion(i,repoLocal)+i)\n",
    "    print(definirFecha(i,repoLocal))\n",
    "    print(i.split(\"/\")[-1])"
   ]
  },
  {
   "cell_type": "code",
   "execution_count": 26,
   "metadata": {},
   "outputs": [
    {
     "ename": "GitCommandError",
     "evalue": "Cmd('git') failed due to: exit code(128)\n  cmdline: git log -1 --pretty=\"format:%ci\" datacovidChile/Covid Chile V2.xlsx\n  stderr: 'fatal: ambiguous argument 'datacovidChile/Covid': unknown revision or path not in the working tree.\nUse '--' to separate paths from revisions, like this:\n'git <command> [<revision>...] -- [<file>...]''",
     "output_type": "error",
     "traceback": [
      "\u001b[1;31m---------------------------------------------------------------------------\u001b[0m",
      "\u001b[1;31mGitCommandError\u001b[0m                           Traceback (most recent call last)",
      "\u001b[1;32m<ipython-input-26-29cdd801b610>\u001b[0m in \u001b[0;36m<module>\u001b[1;34m\u001b[0m\n\u001b[1;32m----> 1\u001b[1;33m \u001b[0mrepoLocal\u001b[0m\u001b[1;33m.\u001b[0m\u001b[0mgit\u001b[0m\u001b[1;33m.\u001b[0m\u001b[0mexecute\u001b[0m\u001b[1;33m(\u001b[0m\u001b[1;34m'git log -1 --pretty=\"format:%ci\" datacovidChile/Covid Chile V2.xlsx'\u001b[0m\u001b[1;33m)\u001b[0m\u001b[1;33m\u001b[0m\u001b[1;33m\u001b[0m\u001b[0m\n\u001b[0m",
      "\u001b[1;32mC:\\ProgramData\\Anaconda3\\lib\\site-packages\\git\\cmd.py\u001b[0m in \u001b[0;36mexecute\u001b[1;34m(self, command, istream, with_extended_output, with_exceptions, as_process, output_stream, stdout_as_string, kill_after_timeout, with_stdout, universal_newlines, shell, env, max_chunk_size, **subprocess_kwargs)\u001b[0m\n\u001b[0;32m    820\u001b[0m \u001b[1;33m\u001b[0m\u001b[0m\n\u001b[0;32m    821\u001b[0m         \u001b[1;32mif\u001b[0m \u001b[0mwith_exceptions\u001b[0m \u001b[1;32mand\u001b[0m \u001b[0mstatus\u001b[0m \u001b[1;33m!=\u001b[0m \u001b[1;36m0\u001b[0m\u001b[1;33m:\u001b[0m\u001b[1;33m\u001b[0m\u001b[1;33m\u001b[0m\u001b[0m\n\u001b[1;32m--> 822\u001b[1;33m             \u001b[1;32mraise\u001b[0m \u001b[0mGitCommandError\u001b[0m\u001b[1;33m(\u001b[0m\u001b[0mcommand\u001b[0m\u001b[1;33m,\u001b[0m \u001b[0mstatus\u001b[0m\u001b[1;33m,\u001b[0m \u001b[0mstderr_value\u001b[0m\u001b[1;33m,\u001b[0m \u001b[0mstdout_value\u001b[0m\u001b[1;33m)\u001b[0m\u001b[1;33m\u001b[0m\u001b[1;33m\u001b[0m\u001b[0m\n\u001b[0m\u001b[0;32m    823\u001b[0m \u001b[1;33m\u001b[0m\u001b[0m\n\u001b[0;32m    824\u001b[0m         \u001b[1;32mif\u001b[0m \u001b[0misinstance\u001b[0m\u001b[1;33m(\u001b[0m\u001b[0mstdout_value\u001b[0m\u001b[1;33m,\u001b[0m \u001b[0mbytes\u001b[0m\u001b[1;33m)\u001b[0m \u001b[1;32mand\u001b[0m \u001b[0mstdout_as_string\u001b[0m\u001b[1;33m:\u001b[0m  \u001b[1;31m# could also be output_stream\u001b[0m\u001b[1;33m\u001b[0m\u001b[1;33m\u001b[0m\u001b[0m\n",
      "\u001b[1;31mGitCommandError\u001b[0m: Cmd('git') failed due to: exit code(128)\n  cmdline: git log -1 --pretty=\"format:%ci\" datacovidChile/Covid Chile V2.xlsx\n  stderr: 'fatal: ambiguous argument 'datacovidChile/Covid': unknown revision or path not in the working tree.\nUse '--' to separate paths from revisions, like this:\n'git <command> [<revision>...] -- [<file>...]''"
     ]
    }
   ],
   "source": [
    "repoLocal.git.execute('git log -1 --pretty=\"format:%ci\" datacovidChile/Covid Chile V2.xlsx')"
   ]
  },
  {
   "cell_type": "code",
   "execution_count": null,
   "metadata": {},
   "outputs": [],
   "source": []
  }
 ],
 "metadata": {
  "kernelspec": {
   "display_name": "Python 3",
   "language": "python",
   "name": "python3"
  },
  "language_info": {
   "codemirror_mode": {
    "name": "ipython",
    "version": 3
   },
   "file_extension": ".py",
   "mimetype": "text/x-python",
   "name": "python",
   "nbconvert_exporter": "python",
   "pygments_lexer": "ipython3",
   "version": "3.7.4"
  }
 },
 "nbformat": 4,
 "nbformat_minor": 2
}
