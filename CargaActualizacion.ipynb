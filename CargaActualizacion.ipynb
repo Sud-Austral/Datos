{
 "cells": [
  {
   "cell_type": "code",
   "execution_count": 8,
   "metadata": {},
   "outputs": [],
   "source": [
    "import git\n",
    "import datetime"
   ]
  },
  {
   "cell_type": "code",
   "execution_count": 12,
   "metadata": {},
   "outputs": [
    {
     "name": "stdout",
     "output_type": "stream",
     "text": [
      "2020-04-02 22:07:54 \n"
     ]
    }
   ],
   "source": [
    "repoLocal = git.Repo('C:/Users/limc_/Documents/GitHub/Datos')\n",
    "aux = repoLocal.git.execute('git log -1 --pretty=\"format:%ci\" worldometers.info/worldometersAYER.csv')\n",
    "print(aux[:20])"
   ]
  },
  {
   "cell_type": "code",
   "execution_count": 21,
   "metadata": {},
   "outputs": [],
   "source": [
    "#datetime_object = datetime.datetime.strptime('Jun 1 2005  1:33PM', '%b %d %Y %I:%M%p')\n",
    "#datetime_object = datetime.datetime.strptime('2020-04-02 22:07:54 ', '%Y-%m-%d %H:%M:%S')\n",
    "datetime_object = datetime.datetime.strptime(aux[:19], '%Y-%m-%d %H:%M:%S')"
   ]
  },
  {
   "cell_type": "code",
   "execution_count": 22,
   "metadata": {},
   "outputs": [
    {
     "data": {
      "text/plain": [
       "datetime.datetime(2020, 4, 2, 22, 7, 54)"
      ]
     },
     "execution_count": 22,
     "metadata": {},
     "output_type": "execute_result"
    }
   ],
   "source": [
    "datetime_object"
   ]
  },
  {
   "cell_type": "code",
   "execution_count": 35,
   "metadata": {},
   "outputs": [],
   "source": [
    "archivos = [\n",
    "            \"bing/news/Chile.csv\",\n",
    "            \"Chile/covid19_chile.csv\",\n",
    "            \"Chile/covid19_chile.xlsx\",\n",
    "            \"Chile/MinCiencia/Principal.csv\",\n",
    "            \"Chile/MinCiencia/Producto1.csv\",\n",
    "            \"Chile/MinCiencia/Producto2.csv\",\n",
    "            \"Chile/MinCiencia/Producto3.csv\",\n",
    "            \"Chile/MinCiencia/Producto4.csv\",\n",
    "            \"Chile/MinCiencia/Producto5.csv\",\n",
    "            \"datacovidChile/BASECALCULOCOMUNA.xlsx\",\n",
    "            \"datacovidChile/casosporcomunalistos.xlsx\",\n",
    "            \"datacovidChile/CovidChileV2.xlsx\",\n",
    "            \"datacovidhn/00DATACOVIDTrabajo_HN.xlsx\",\n",
    "            \"00DATACOVID_HN_CUARENTENA.xlsx\",\n",
    "            \"ALIMENTACION_HN.xlsx\",\n",
    "            \"CovidHN.xlsx\",\n",
    "            \"FARMACIAS_HN.xlsx\",\n",
    "            \"LOCALIZAHN.xlsx\",\n",
    "            \"SALUD_HN.xlsx\",\n",
    "            \"Tabla_INSTALACIONES_Honduras_v1.xlsx\",\n",
    "            \"\"\n",
    "            ]\n",
    "\n",
    "def revisarUltimaActualizacion(ruta,gitObject):\n",
    "    return gitObject.git.execute('git log -1 --pretty=\"format:%ci\" ' + ruta)\n",
    "    #return datetime.datetime.strptime(aux[:19], '%Y-%m-%d %H:%M:%S')\n",
    "\n",
    "def definirFecha(ruta,gitObject):\n",
    "    return datetime.datetime.strptime(revisarUltimaActualizacion(ruta,gitObject)[:19], '%Y-%m-%d %H:%M:%S')\n"
   ]
  },
  {
   "cell_type": "code",
   "execution_count": 36,
   "metadata": {},
   "outputs": [
    {
     "name": "stdout",
     "output_type": "stream",
     "text": [
      "2020-04-23 12:37:11\n",
      "2020-04-23 12:37:11\n",
      "2020-04-23 12:37:11\n",
      "2020-04-15 14:52:28\n",
      "2020-04-21 19:52:39\n",
      "2020-04-21 19:52:39\n",
      "2020-04-23 12:37:11\n",
      "2020-04-23 12:37:11\n",
      "2020-04-23 12:37:11\n",
      "2020-04-23 12:37:11\n",
      "2020-04-23 12:37:11\n",
      "2020-04-23 12:37:11\n"
     ]
    }
   ],
   "source": [
    "for i in archivos:\n",
    "    print(definirFecha(i,repoLocal))"
   ]
  },
  {
   "cell_type": "code",
   "execution_count": 26,
   "metadata": {},
   "outputs": [
    {
     "ename": "GitCommandError",
     "evalue": "Cmd('git') failed due to: exit code(128)\n  cmdline: git log -1 --pretty=\"format:%ci\" datacovidChile/Covid Chile V2.xlsx\n  stderr: 'fatal: ambiguous argument 'datacovidChile/Covid': unknown revision or path not in the working tree.\nUse '--' to separate paths from revisions, like this:\n'git <command> [<revision>...] -- [<file>...]''",
     "output_type": "error",
     "traceback": [
      "\u001b[1;31m---------------------------------------------------------------------------\u001b[0m",
      "\u001b[1;31mGitCommandError\u001b[0m                           Traceback (most recent call last)",
      "\u001b[1;32m<ipython-input-26-29cdd801b610>\u001b[0m in \u001b[0;36m<module>\u001b[1;34m\u001b[0m\n\u001b[1;32m----> 1\u001b[1;33m \u001b[0mrepoLocal\u001b[0m\u001b[1;33m.\u001b[0m\u001b[0mgit\u001b[0m\u001b[1;33m.\u001b[0m\u001b[0mexecute\u001b[0m\u001b[1;33m(\u001b[0m\u001b[1;34m'git log -1 --pretty=\"format:%ci\" datacovidChile/Covid Chile V2.xlsx'\u001b[0m\u001b[1;33m)\u001b[0m\u001b[1;33m\u001b[0m\u001b[1;33m\u001b[0m\u001b[0m\n\u001b[0m",
      "\u001b[1;32mC:\\ProgramData\\Anaconda3\\lib\\site-packages\\git\\cmd.py\u001b[0m in \u001b[0;36mexecute\u001b[1;34m(self, command, istream, with_extended_output, with_exceptions, as_process, output_stream, stdout_as_string, kill_after_timeout, with_stdout, universal_newlines, shell, env, max_chunk_size, **subprocess_kwargs)\u001b[0m\n\u001b[0;32m    820\u001b[0m \u001b[1;33m\u001b[0m\u001b[0m\n\u001b[0;32m    821\u001b[0m         \u001b[1;32mif\u001b[0m \u001b[0mwith_exceptions\u001b[0m \u001b[1;32mand\u001b[0m \u001b[0mstatus\u001b[0m \u001b[1;33m!=\u001b[0m \u001b[1;36m0\u001b[0m\u001b[1;33m:\u001b[0m\u001b[1;33m\u001b[0m\u001b[1;33m\u001b[0m\u001b[0m\n\u001b[1;32m--> 822\u001b[1;33m             \u001b[1;32mraise\u001b[0m \u001b[0mGitCommandError\u001b[0m\u001b[1;33m(\u001b[0m\u001b[0mcommand\u001b[0m\u001b[1;33m,\u001b[0m \u001b[0mstatus\u001b[0m\u001b[1;33m,\u001b[0m \u001b[0mstderr_value\u001b[0m\u001b[1;33m,\u001b[0m \u001b[0mstdout_value\u001b[0m\u001b[1;33m)\u001b[0m\u001b[1;33m\u001b[0m\u001b[1;33m\u001b[0m\u001b[0m\n\u001b[0m\u001b[0;32m    823\u001b[0m \u001b[1;33m\u001b[0m\u001b[0m\n\u001b[0;32m    824\u001b[0m         \u001b[1;32mif\u001b[0m \u001b[0misinstance\u001b[0m\u001b[1;33m(\u001b[0m\u001b[0mstdout_value\u001b[0m\u001b[1;33m,\u001b[0m \u001b[0mbytes\u001b[0m\u001b[1;33m)\u001b[0m \u001b[1;32mand\u001b[0m \u001b[0mstdout_as_string\u001b[0m\u001b[1;33m:\u001b[0m  \u001b[1;31m# could also be output_stream\u001b[0m\u001b[1;33m\u001b[0m\u001b[1;33m\u001b[0m\u001b[0m\n",
      "\u001b[1;31mGitCommandError\u001b[0m: Cmd('git') failed due to: exit code(128)\n  cmdline: git log -1 --pretty=\"format:%ci\" datacovidChile/Covid Chile V2.xlsx\n  stderr: 'fatal: ambiguous argument 'datacovidChile/Covid': unknown revision or path not in the working tree.\nUse '--' to separate paths from revisions, like this:\n'git <command> [<revision>...] -- [<file>...]''"
     ]
    }
   ],
   "source": [
    "repoLocal.git.execute('git log -1 --pretty=\"format:%ci\" datacovidChile/Covid Chile V2.xlsx')"
   ]
  },
  {
   "cell_type": "code",
   "execution_count": null,
   "metadata": {},
   "outputs": [],
   "source": []
  }
 ],
 "metadata": {
  "kernelspec": {
   "display_name": "Python 3",
   "language": "python",
   "name": "python3"
  },
  "language_info": {
   "codemirror_mode": {
    "name": "ipython",
    "version": 3
   },
   "file_extension": ".py",
   "mimetype": "text/x-python",
   "name": "python",
   "nbconvert_exporter": "python",
   "pygments_lexer": "ipython3",
   "version": "3.7.4"
  }
 },
 "nbformat": 4,
 "nbformat_minor": 2
}
