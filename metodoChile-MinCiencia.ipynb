{
 "cells": [
  {
   "cell_type": "code",
   "execution_count": 111,
   "metadata": {},
   "outputs": [],
   "source": [
    "import pandas as pd\n",
    "from datetime import datetime\n"
   ]
  },
  {
   "cell_type": "code",
   "execution_count": 112,
   "metadata": {},
   "outputs": [],
   "source": [
    "def columnasAntesFechas(url):\n",
    "    data = pd.read_csv(url)\n",
    "    cantCol=0\n",
    "\n",
    "    for i in data.columns:\n",
    "        try:\n",
    "            fecha = datetime.strptime(i, \"%Y-%m-%d\")\n",
    "            break\n",
    "\n",
    "        except ValueError:\n",
    "            cantCol+=1\n",
    "            \n",
    "    return cantCol\n",
    "              "
   ]
  },
  {
   "cell_type": "code",
   "execution_count": 113,
   "metadata": {},
   "outputs": [],
   "source": [
    "def columnasAntesSE(url):\n",
    "    data = pd.read_csv(url)\n",
    "    cantCol=0\n",
    "\n",
    "    for i in data.columns:\n",
    "        if(\"SE\" in i):\n",
    "            pass\n",
    "        else:\n",
    "            cantCol+=1\n",
    "            \n",
    "    return cantCol\n",
    "              "
   ]
  },
  {
   "cell_type": "code",
   "execution_count": 114,
   "metadata": {},
   "outputs": [],
   "source": [
    "def TransponerFecha(data,key):\n",
    "    try:\n",
    "        del data[\"Tasa\"]\n",
    "    except:\n",
    "        pass\n",
    "    lista = list(data.iterrows())\n",
    "    data_aux = data\n",
    "    salida = []\n",
    "    for i in lista:\n",
    "        aux = {\"aux\": \"\"}\n",
    "        for j in data_aux.columns[:key]:\n",
    "            aux[j] = i[1][j]\n",
    "        for j in data_aux.columns[key : ]:\n",
    "            aux[\"fecha\"] = j\n",
    "            aux[\"Cantidad\"] = i[1][j]\n",
    "            salida.append(aux.copy())\n",
    "    data_salida = pd.DataFrame(salida)\n",
    "    del data_salida[\"aux\"]\n",
    "    return data_salida"
   ]
  },
  {
   "cell_type": "code",
   "execution_count": 115,
   "metadata": {},
   "outputs": [],
   "source": [
    "def TransponerSemanaEpidemiologica(data,key):\n",
    "    try:\n",
    "        del data[\"Tasa\"]\n",
    "    except:\n",
    "        pass\n",
    "    lista = list(data.iterrows())\n",
    "    data_aux = data\n",
    "    salida = []\n",
    "    for i in lista:\n",
    "        aux = {\"aux\": \"\"}\n",
    "        for j in data_aux.columns[:key]:\n",
    "            aux[j] = i[1][j]\n",
    "        for j in data_aux.columns[key : ]:\n",
    "            aux[\"semana epidemiologica\"] = j\n",
    "            aux[\"fecha\"] = i[1][j]\n",
    "            salida.append(aux.copy())\n",
    "    data_salida = pd.DataFrame(salida)\n",
    "    del data_salida[\"aux\"]\n",
    "    return data_salida"
   ]
  },
  {
   "cell_type": "code",
   "execution_count": 116,
   "metadata": {},
   "outputs": [],
   "source": [
    "def organizarMinCienciaInput(): \n",
    "    url = \"https://raw.githubusercontent.com/MinCiencia/Datos-COVID19/master/input/CasosActivosPorComuna.csv\"\n",
    "    key = columnasAntesFechas(url)\n",
    "    resultado = TransponerFecha(pd.read_csv(url),key)\n",
    "    resultado.to_csv(\"Chile/MinCiencia/Input/CasosActivosPorComuna.csv\")\n",
    "    \n",
    "    url = \"https://raw.githubusercontent.com/MinCiencia/Datos-COVID19/master/input/CasosAcumuladosPorComuna.csv\"\n",
    "    key = columnasAntesFechas(url)\n",
    "    resultado = TransponerFecha(pd.read_csv(url),key)\n",
    "    resultado.to_csv(\"Chile/MinCiencia/Input/CasosAcumuladosPorComuna.csv\")\n",
    "    \n",
    "    url = \"https://raw.githubusercontent.com/MinCiencia/Datos-COVID19/master/input/CasosGeneroEtario.csv\"\n",
    "    key = columnasAntesFechas(url)\n",
    "    resultado = TransponerFecha(pd.read_csv(url),key)\n",
    "    resultado.to_csv(\"Chile/MinCiencia/Input/CasosGeneroEtario.csv\")\n",
    "    \n",
    "    url = \"https://raw.githubusercontent.com/MinCiencia/Datos-COVID19/master/input/FallecidosEtario.csv\"\n",
    "    key = columnasAntesFechas(url)\n",
    "    resultado = TransponerFecha(pd.read_csv(url),key)\n",
    "    resultado.to_csv(\"Chile/MinCiencia/Input/FallecidosEtario.csv\")\n",
    "    \n",
    "    url = \"https://raw.githubusercontent.com/MinCiencia/Datos-COVID19/master/input/Fecha_de_inicio_de_Sintomas.csv\"\n",
    "    resultado = pd.read_csv(url)\n",
    "    resultado.to_csv(\"Chile/MinCiencia/Input/Fecha_de_inicio_de_Sintomas.csv\")\n",
    "    \n",
    "    url = \"https://raw.githubusercontent.com/MinCiencia/Datos-COVID19/master/input/HospitalizadosUCIEtario.csv\"\n",
    "    key = columnasAntesFechas(url)\n",
    "    resultado = TransponerFecha(pd.read_csv(url),key)\n",
    "    resultado.to_csv(\"Chile/MinCiencia/Input/HospitalizadosUCIEtario.csv\")\n",
    "    \n",
    "    url = \"https://raw.githubusercontent.com/MinCiencia/Datos-COVID19/master/input/PCR.csv\"\n",
    "    key = columnasAntesFechas(url)\n",
    "    resultado = TransponerFecha(pd.read_csv(url),key)\n",
    "    resultado.to_csv(\"Chile/MinCiencia/Input/PCR.csv\")\n",
    "    \n",
    "    url = \"https://raw.githubusercontent.com/MinCiencia/Datos-COVID19/master/input/PCREstablecimiento.csv\"\n",
    "    key = columnasAntesFechas(url)\n",
    "    resultado = TransponerFecha(pd.read_csv(url),key)\n",
    "    resultado.to_csv(\"Chile/MinCiencia/Input/PCREstablecimiento.csv\")\n",
    "    \n",
    "    url = \"https://raw.githubusercontent.com/MinCiencia/Datos-COVID19/master/input/SemanasEpidemiologicas.csv\"\n",
    "    key = columnasAntesSE(url)\n",
    "    resultado = TransponerSemanaEpidemiologica(pd.read_csv(url),key)\n",
    "    resultado.to_csv(\"Chile/MinCiencia/Input/SemanasEpidemiologicas.csv\")\n",
    "    \n",
    "    url = \"https://raw.githubusercontent.com/MinCiencia/Datos-COVID19/master/input/Tasadeincidencia.csv\"\n",
    "    key = columnasAntesFechas(url)\n",
    "    resultado = TransponerFecha(pd.read_csv(url),key)\n",
    "    resultado.to_csv(\"Chile/MinCiencia/Input/Tasadeincidencia.csv\")\n",
    "    \n",
    "    url = \"https://raw.githubusercontent.com/MinCiencia/Datos-COVID19/master/input/UCI.csv\"\n",
    "    key = columnasAntesFechas(url)\n",
    "    resultado = TransponerFecha(pd.read_csv(url),key)\n",
    "    resultado.to_csv(\"Chile/MinCiencia/Input/UCI.csv\")\n",
    "    \n",
    "    return\n"
   ]
  },
  {
   "cell_type": "code",
   "execution_count": 117,
   "metadata": {},
   "outputs": [],
   "source": [
    "organizarMinCienciaInput()"
   ]
  },
  {
   "cell_type": "code",
   "execution_count": null,
   "metadata": {},
   "outputs": [],
   "source": []
  }
 ],
 "metadata": {
  "kernelspec": {
   "display_name": "Python 3",
   "language": "python",
   "name": "python3"
  },
  "language_info": {
   "codemirror_mode": {
    "name": "ipython",
    "version": 3
   },
   "file_extension": ".py",
   "mimetype": "text/x-python",
   "name": "python",
   "nbconvert_exporter": "python",
   "pygments_lexer": "ipython3",
   "version": "3.7.4"
  }
 },
 "nbformat": 4,
 "nbformat_minor": 4
}
