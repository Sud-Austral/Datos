{
 "cells": [
  {
   "cell_type": "code",
   "execution_count": 21,
   "metadata": {},
   "outputs": [],
   "source": [
    "import pandas as pd\n",
    "import git\n"
   ]
  },
  {
   "cell_type": "code",
   "execution_count": 22,
   "metadata": {},
   "outputs": [],
   "source": [
    "def guardarRepositorio():\n",
    "    #repoLocal = git.Repo( 'C:/Users/mario1/Documents/GitHub/Python/Datos' )\n",
    "    repoLocal = git.Repo('C:/Users/limc_/Documents/GitHub/Datos')\n",
    "    print(repoLocal.git.status())\n",
    "    \n",
    "    try:\n",
    "        repoLocal.git.add(\".\")\n",
    "        repoLocal.git.commit(m='Update automatico via Actualizar ' + datetime.datetime.now().strftime(\"%m-%d-%Y %H-%M-%S\"))\n",
    "        origin = repoLocal.remote(name='origin')\n",
    "        origin.push()\n",
    "    except:\n",
    "        print(\"Error de GITHUB\")\n",
    "    \n",
    "    return"
   ]
  },
  {
   "cell_type": "code",
   "execution_count": 23,
   "metadata": {},
   "outputs": [],
   "source": [
    "def minCiencia():\n",
    "    pd.read_csv(\"https://raw.githubusercontent.com/MinCiencia/Datos-COVID19/master/input/CasosAcumuladosPorComuna.csv\").to_csv(\"Chile/MinCiencia/CasosAcumuladosPorComuna.csv\", index=False)\n",
    "    pd.read_csv(\"https://raw.github.com/MinCiencia/Datos-COVID19/master/input/CasosGeneroEtario.csv\").to_csv(\"Chile/MinCiencia/CasosGeneroEtario.csv\", index=False)\n",
    "    pd.read_csv(\"https://raw.github.com/MinCiencia/Datos-COVID19/master/input/FallecidosEtario.csv\").to_csv(\"Chile/MinCiencia/FallecidosEtario.csv\", index=False)\n",
    "    pd.read_csv(\"https://raw.github.com/MinCiencia/Datos-COVID19/master/input/Fecha_de_inicio_de_Sintomas.csv\").to_csv(\"Chile/MinCiencia/Fecha_de_inicio_de_Sintomas.csv\", index=False)\n",
    "    pd.read_csv(\"https://raw.github.com/MinCiencia/Datos-COVID19/master/input/HospitalizadosUCIEtario.csv\").to_csv(\"Chile/MinCiencia/HospitalizadosUCIEtario.csv\", index=False)\n",
    "    pd.read_csv(\"https://raw.github.com/MinCiencia/Datos-COVID19/master/input/PCR.csv\").to_csv(\"Chile/MinCiencia/PCR.csv\", index=False)\n",
    "    pd.read_csv(\"https://raw.github.com/MinCiencia/Datos-COVID19/master/input/PCREstablecimiento.csv\").to_csv(\"Chile/MinCiencia/PCREstablecimiento.csv\", index=False)\n",
    "    pd.read_csv(\"https://raw.github.com/MinCiencia/Datos-COVID19/master/input/SemanasEpidemiologicas.csv\").to_csv(\"Chile/MinCiencia/SemanasEpidemiologicas.csv\", index=False)\n",
    "    pd.read_csv(\"https://raw.github.com/MinCiencia/Datos-COVID19/master/input/Tasadeincidencia.csv\").to_csv(\"Chile/MinCiencia/Tasadeincidencia.csv\", index=False)\n",
    "    pd.read_csv(\"https://raw.github.com/MinCiencia/Datos-COVID19/master/input/UCI.csv\").to_csv(\"Chile/MinCiencia/UCI.csv\", index=False)\n",
    "    \n",
    "    guardarRepositorio()    \n",
    "    return"
   ]
  },
  {
   "cell_type": "code",
   "execution_count": 24,
   "metadata": {},
   "outputs": [
    {
     "name": "stdout",
     "output_type": "stream",
     "text": [
      "On branch master\n",
      "Your branch is up to date with 'origin/master'.\n",
      "\n",
      "Changes not staged for commit:\n",
      "  (use \"git add <file>...\" to update what will be committed)\n",
      "  (use \"git restore <file>...\" to discard changes in working directory)\n",
      "\tmodified:   metodoChile-MinCiencia.ipynb\n",
      "\n",
      "no changes added to commit (use \"git add\" and/or \"git commit -a\")\n",
      "Error de GITHUB\n"
     ]
    }
   ],
   "source": [
    "minCiencia()"
   ]
  },
  {
   "cell_type": "code",
   "execution_count": null,
   "metadata": {},
   "outputs": [],
   "source": []
  }
 ],
 "metadata": {
  "kernelspec": {
   "display_name": "Python 3",
   "language": "python",
   "name": "python3"
  },
  "language_info": {
   "codemirror_mode": {
    "name": "ipython",
    "version": 3
   },
   "file_extension": ".py",
   "mimetype": "text/x-python",
   "name": "python",
   "nbconvert_exporter": "python",
   "pygments_lexer": "ipython3",
   "version": "3.7.4"
  }
 },
 "nbformat": 4,
 "nbformat_minor": 4
}
