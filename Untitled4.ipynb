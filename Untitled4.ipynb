{
 "cells": [
  {
   "cell_type": "code",
   "execution_count": null,
   "metadata": {},
   "outputs": [],
   "source": [
    "from selenium import webdriver\n",
    "from selenium.webdriver.common.keys import Keys\n",
    "import time\n",
    "import requests\n",
    "import json  \n",
    "import codecs\n",
    "import pandas as pd\n",
    "import os\n",
    "import shutil\n",
    "from datetime import datetime, timedelta, date\n",
    "from selenium.webdriver.firefox.firefox_profile import FirefoxProfile\n",
    "from selenium.webdriver.firefox.options import Options\n",
    "from os import remove\n",
    "import git\n",
    "import datetime\n",
    "\n",
    "download_folder = \"C:/Users/limc_/Documents/GitHub/Datos\"\n",
    "options = Options()\n",
    "options.set_preference(\"browser.download.dir\", download_folder)\n",
    "#options.set_preference(\"browser.download.folderList\", 2)\n",
    "options.set_preference(\"browser.download.manager.showWhenStarting\", False)\n",
    "options.set_preference(\"browser.helperApps.neverAsk.saveToDisk\", \"text/csv\") #, \"application/json\")\n",
    "#browser = webdriver.WebDriver(firefox_profile=profile)\n",
    "#driver = webdriver.WebDriver(firefox_profile=profile)\n",
    "driver = webdriver.Firefox(options=options)\n",
    "driver.set_page_load_timeout(\"60\")\n",
    "driver.get(\"https://onedrive.live.com/view.aspx?resid=9F999E057AD8C646!62083&ithint=file%2cxlsx&authkey=!AHatwZn5tIFkoZE\")\n",
    "\n",
    "\n",
    "//*[@id=\"m_excelWebRenderer_ewaCtl_gridDiv\"]/table\n",
    "\n",
    "\n",
    "\n"
   ]
  }
 ],
 "metadata": {
  "kernelspec": {
   "display_name": "Python 3",
   "language": "python",
   "name": "python3"
  },
  "language_info": {
   "codemirror_mode": {
    "name": "ipython",
    "version": 3
   },
   "file_extension": ".py",
   "mimetype": "text/x-python",
   "name": "python",
   "nbconvert_exporter": "python",
   "pygments_lexer": "ipython3",
   "version": "3.7.4"
  }
 },
 "nbformat": 4,
 "nbformat_minor": 2
}
