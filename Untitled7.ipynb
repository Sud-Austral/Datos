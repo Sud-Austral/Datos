{
 "cells": [
  {
   "cell_type": "code",
   "execution_count": 32,
   "metadata": {},
   "outputs": [
    {
     "name": "stdout",
     "output_type": "stream",
     "text": [
      "{'name': 'Drone video: See Microsoft’s sprawling HQ campus — with no workers in sight during COVID-19 crisis', 'url': 'https://www.geekwire.com/2020/drone-video-see-microsofts-sprawling-hq-campus-no-workers-sight-covid-19-crisis/', 'image': {'thumbnail': {'contentUrl': 'https://www.bing.com/th?id=ON.CC67FCA3C3CA1C7933F74183B4449990&pid=News', 'width': 700, 'height': 393}}, 'description': 'See all special coverage. The pathways and parking lots are empty. No one is seated at the outdoor tables or playing on the soccer field. Life on Microsoft’s sprawling Redmond, Wash., campus has all but disappeared. Coronavirus Live Updates: The latest COVID-19 developments in Seattle and the world of tech A new drone video shared by the ...', 'about': [{'readLink': 'https://api.cognitive.microsoft.com/api/v7/entities/6f139537-5bc1-e0b8-7097-f07441113e28', 'name': 'Crisis'}, {'readLink': 'https://api.cognitive.microsoft.com/api/v7/entities/a093e9b9-90f5-a3d5-c4b8-5855e1b01f85', 'name': 'Microsoft'}], 'provider': [{'_type': 'Organization', 'name': 'GeekWire', 'image': {'thumbnail': {'contentUrl': 'https://www.bing.com/th?id=AR_c873ebf12391119260d05aed584d157e&pid=news'}}}], 'datePublished': '2020-04-11T17:44:00.0000000Z', 'video': {'name': 'Drone video: See Microsoft’s sprawling HQ campus — with no workers in sight during COVID-19 crisis', 'thumbnailUrl': 'https://www.bing.com/th?id=ON.CC67FCA3C3CA1C7933F74183B4449990&pid=News', 'thumbnail': {'width': 480, 'height': 270}}}\n",
      "{'name': 'Microsoft Teams Promises Great Video Calls: No More Typing Or Dog Noises', 'url': 'https://www.forbes.com/sites/davidphelan/2020/04/10/microsoft-teams-will-fix-video-calls-no-more-typing-or-dog-noises/', 'image': {'thumbnail': {'contentUrl': 'https://www.bing.com/th?id=ON.3D799B699C0563B58642DF8DBA9F2869&pid=News', 'width': 700, 'height': 467}}, 'description': 'Video calls are more important than ever when we’re sheltering in place. Microsoft hopes to make the experience better than ever.', 'about': [{'readLink': 'https://api.cognitive.microsoft.com/api/v7/entities/8ded7877-2136-1eb3-7dcc-0ffdaba10027', 'name': 'Noise'}], 'provider': [{'_type': 'Organization', 'name': 'Forbes', 'image': {'thumbnail': {'contentUrl': 'https://www.bing.com/th?id=AR_f798ef715781699feff0f3ea5f101626&pid=news'}}}], 'datePublished': '2020-04-11T05:43:00.0000000Z', 'category': 'ScienceAndTechnology'}\n",
      "{'name': 'Microsoft Says Remote Working is Here for Good', 'url': 'https://www.inc.com/jason-aten/microsoft-says-remote-working-is-here-for-good.html', 'image': {'thumbnail': {'contentUrl': 'https://www.bing.com/th?id=ON.425143E9F01BBEB9BFCE9615FF3F5CB9&pid=News', 'width': 700, 'height': 324}}, 'description': 'One of the biggest questions is what happens when things get back to \"normal?\" Or, maybe more important, what will normal even mean? A report Microsoft released on Thursday suggests remote work is here to stay, and the company has the data to back it up. Some of that data is pretty incredible. For example, Microsoft says it saw an increase of ...', 'provider': [{'_type': 'Organization', 'name': 'Inc', 'image': {'thumbnail': {'contentUrl': 'https://www.bing.com/th?id=AR_feee8e896bc3177f8b7413ef1b913c3d&pid=news'}}}], 'datePublished': '2020-04-11T06:12:00.0000000Z', 'category': 'ScienceAndTechnology'}\n",
      "{'name': 'Now Microsoft Teams video chats can have custom backgrounds too', 'url': 'https://www.msn.com/en-us/finance/other/now-microsoft-teams-video-chats-can-have-custom-backgrounds-too/ar-BB12syQ1', 'image': {'thumbnail': {'contentUrl': 'https://www.bing.com/th?id=ON.53B9C15D6532D9388E208C164808904E&pid=News', 'width': 700, 'height': 445}}, 'description': 'One of the great things about Zoom is the ability to change backgrounds. You can use any image you want to cover up the laundry piling up behind you, for instance, or to ensure your privacy in calls with workmates you don’t really know.', 'provider': [{'_type': 'Organization', 'name': 'Engadget on MSN.com', 'image': {'thumbnail': {'contentUrl': 'https://www.bing.com/th?id=AR_0cfcddaa71cae000b74e3bf52bc84d78&pid=news'}}}], 'datePublished': '2020-04-11T01:57:00.0000000Z', 'category': 'ScienceAndTechnology'}\n",
      "{'name': 'Leaked memo: Microsoft is offering 12 weeks of paid leave for parents as schools remain closed for the academic year', 'url': 'https://www.businessinsider.com/microsoft-paid-parental-leave-coronavirus-2020-4', 'image': {'thumbnail': {'contentUrl': 'https://www.bing.com/th?id=ON.271B6D0BF97183D3DD0822DA39A0C148&pid=News', 'width': 700, 'height': 350}}, 'description': 'Microsoft is offering 12 weeks of paid leave to employees as schools remain closed, according an internal memo reviewed by Business Insider.', 'provider': [{'_type': 'Organization', 'name': 'Business Insider', 'image': {'thumbnail': {'contentUrl': 'https://www.bing.com/th?id=AMMS_b3ffab7279c7b6b448383d03bb5daec1&pid=news'}}}], 'datePublished': '2020-04-11T05:50:00.0000000Z', 'category': 'ScienceAndTechnology'}\n",
      "{'name': 'Microsoft Surface Go 2 could be about to launch', 'url': 'https://www.msn.com/en-gb/money/technology/microsoft-surface-go-2-could-be-about-to-launch/ar-BB12tfL7', 'image': {'thumbnail': {'contentUrl': 'https://www.bing.com/th?id=ON.601E8F782B819FCB8661FB2CDAAECD44&pid=News', 'width': 700, 'height': 367}}, 'description': 'Microsoft’s Surface Go 2 could be about to go on sale, at least according to the latest from the rumor mill. According to insider sources who spoke to MS Power User, Microsoft is about to reveal the Surface Go 2 in the ‘coming weeks’,', 'provider': [{'_type': 'Organization', 'name': 'TechRadar on MSN.com', 'image': {'thumbnail': {'contentUrl': 'https://www.bing.com/th?id=AR_fca1be49a66b6f7213b270e0ec0c1cff&pid=news'}}}], 'datePublished': '2020-04-11T09:01:33.0000000Z', 'category': 'ScienceAndTechnology'}\n",
      "{'name': 'Microsoft Word will soon get the new Private Annotations feature', 'url': 'https://mspoweruser.com/microsoft-word-private-annotations/', 'image': {'thumbnail': {'contentUrl': 'https://www.bing.com/th?id=ON.CDC1EE22153EAE019545B7AC5056173F&pid=News', 'width': 700, 'height': 451}}, 'description': 'Microsoft Word will be soon getting a brand new feature called Private Annotations. When you are working with shared documents, if you want to review and collect your thoughts, you can’t add annotations or scribble using your digital ink pen. Because doing so will make the document messy for all others. To solve this problem, Microsoft is ...', 'provider': [{'_type': 'Organization', 'name': 'MSPoweruser', 'image': {'thumbnail': {'contentUrl': 'https://www.bing.com/th?id=AR_6f9e6de414b90fb237d5f4159386d8ce&pid=news'}}}], 'datePublished': '2020-04-11T08:30:00.0000000Z', 'category': 'ScienceAndTechnology'}\n",
      "{'name': \"Zoom CEO Eric Yuan says any competitor using this moment to 'attack others' has a 'horrible culture,' as Cisco and Microsoft step up their rivalry\", 'url': 'https://www.businessinsider.com/zoom-ceo-eric-yuan-coronavirus-competition-microsoft-cisco-2020-4', 'image': {'thumbnail': {'contentUrl': 'https://www.bing.com/th?id=ON.0215E98A560AB1970110F04CBE8AF9F0&pid=News', 'width': 700, 'height': 350}}, 'description': 'As Zoom gets flamed for privacy issues, CEO Eric Yuan says he welcomes competition but looks down on companies that use this moment to attack others.', 'provider': [{'_type': 'Organization', 'name': 'Business Insider', 'image': {'thumbnail': {'contentUrl': 'https://www.bing.com/th?id=AMMS_b3ffab7279c7b6b448383d03bb5daec1&pid=news'}}}], 'datePublished': '2020-04-10T16:18:00.0000000Z', 'category': 'ScienceAndTechnology'}\n",
      "{'name': 'Microsoft’s Innovative Dual-Screen PC Might Not Arrive This Year After All', 'url': 'https://www.forbes.com/sites/carlypage/2020/04/09/microsofts-first-dual-screen-pc-might-not-arrive-this-year-after-all/', 'image': {'thumbnail': {'contentUrl': 'https://www.bing.com/th?id=ON.EC295DA37C50AC8A6CD8F6B69D7F7294&pid=News', 'width': 700, 'height': 466}}, 'description': 'Microsoft has reportedly pushed back the release of its dual-screen Surface Neo device and Windows 10X operating system.', 'about': [{'readLink': 'https://api.cognitive.microsoft.com/api/v7/entities/a093e9b9-90f5-a3d5-c4b8-5855e1b01f85', 'name': 'Microsoft'}, {'readLink': 'https://api.cognitive.microsoft.com/api/v7/entities/79157ae2-0b2c-a1a4-0a09-c80d20b62db5', 'name': 'Dual'}, {'readLink': 'https://api.cognitive.microsoft.com/api/v7/entities/e8aa4bdd-9acf-5a91-c99f-c49abd74c1e5', 'name': 'Arrive'}], 'provider': [{'_type': 'Organization', 'name': 'Forbes', 'image': {'thumbnail': {'contentUrl': 'https://www.bing.com/th?id=AR_f798ef715781699feff0f3ea5f101626&pid=news'}}}], 'datePublished': '2020-04-11T05:45:00.0000000Z', 'category': 'ScienceAndTechnology'}\n",
      "{'name': 'Microsoft store employees are training and helping customers remotely', 'url': 'https://mspoweruser.com/microsoft-store-employee-training-helping-remotely/', 'image': {'thumbnail': {'contentUrl': 'https://www.bing.com/th?id=ON.AE478054EDDC6375653F092162A0C6C8&pid=News', 'width': 700, 'height': 393}}, 'description': 'The coronavirus pandemic has forced companies to shut down their offices and stores around the work. Last month, Microsoft was one of the companies that announced its decision to close all the stores around the world. The decision was made to protect both employees and customers but it did mean that more than 2,000 stores worldwide were shut ...', 'provider': [{'_type': 'Organization', 'name': 'MSPoweruser', 'image': {'thumbnail': {'contentUrl': 'https://www.bing.com/th?id=AR_6f9e6de414b90fb237d5f4159386d8ce&pid=news'}}}], 'datePublished': '2020-04-11T10:30:00.0000000Z'}\n"
     ]
    }
   ],
   "source": [
    "########### Python 3.2 #############\n",
    "import http.client, urllib.request, urllib.parse, urllib.error, base64, json,codecs\n",
    "\n",
    "headers = {\n",
    "    # Request headers\n",
    "    'Ocp-Apim-Subscription-Key': 'b091fbaeb9f94255b542befc3ecff8b8',\n",
    "}\n",
    "\n",
    "params = urllib.parse.urlencode({\n",
    "    # Request parameters\n",
    "    'q': 'microsoft',\n",
    "    'count': '10',\n",
    "    'offset': '0',\n",
    "    'mkt': 'en-us',\n",
    "    'safeSearch': 'Moderate',\n",
    "})\n",
    "\"\"\"\n",
    "try:\n",
    "    conn = http.client.HTTPSConnection('api.cognitive.microsoft.com')\n",
    "    conn.request(\"GET\", \"/bing/v7.0/news/search?%s\" % params, \"{body}\", headers)\n",
    "    response = conn.getresponse()\n",
    "    #data = response.read()\n",
    "    print(response.content)\n",
    "    conn.close()\n",
    "except Exception as e:\n",
    "    print(\"[Errno {0}] {1}\".format(e.errno, e.strerror))\n",
    "\"\"\"\n",
    "####################################\n",
    "\n",
    "conn = http.client.HTTPSConnection('api.cognitive.microsoft.com')\n",
    "conn.request(\"GET\", \"/bing/v7.0/news/search?%s\" % params, \"{body}\", headers)\n",
    "response = conn.getresponse()\n",
    "#data = response.read()\n",
    "\n",
    "decoded_data=codecs.decode(response.read(), 'utf-8-sig')\n",
    "d = json.loads(decoded_data)\n",
    "\n",
    "\n",
    "#data = str(response.read())\n",
    "for i in d['value']:\n",
    "    print(i)\n",
    "\"\"\"\n",
    "print(d['value'].keys())\n",
    "print(d['value'])\n",
    "\"\"\"\n",
    "conn.close()"
   ]
  },
  {
   "cell_type": "code",
   "execution_count": null,
   "metadata": {},
   "outputs": [],
   "source": []
  }
 ],
 "metadata": {
  "kernelspec": {
   "display_name": "Python 3",
   "language": "python",
   "name": "python3"
  },
  "language_info": {
   "codemirror_mode": {
    "name": "ipython",
    "version": 3
   },
   "file_extension": ".py",
   "mimetype": "text/x-python",
   "name": "python",
   "nbconvert_exporter": "python",
   "pygments_lexer": "ipython3",
   "version": "3.7.4"
  }
 },
 "nbformat": 4,
 "nbformat_minor": 2
}
