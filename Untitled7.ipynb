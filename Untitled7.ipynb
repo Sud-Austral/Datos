{
 "cells": [
  {
   "cell_type": "code",
   "execution_count": 6,
   "metadata": {},
   "outputs": [
    {
     "ename": "SyntaxError",
     "evalue": "positional argument follows keyword argument (<ipython-input-6-bb10b838b77e>, line 10)",
     "output_type": "error",
     "traceback": [
      "\u001b[1;36m  File \u001b[1;32m\"<ipython-input-6-bb10b838b77e>\"\u001b[1;36m, line \u001b[1;32m10\u001b[0m\n\u001b[1;33m    client = WebSearchClient(endpoint=\"YOUR_ENDPOINT\", CognitiveServicesCredentials(subscription_key))\u001b[0m\n\u001b[1;37m                                                      ^\u001b[0m\n\u001b[1;31mSyntaxError\u001b[0m\u001b[1;31m:\u001b[0m positional argument follows keyword argument\n"
     ]
    }
   ],
   "source": [
    "# Import required modules.\n",
    "from azure.cognitiveservices.search.websearch import WebSearchClient\n",
    "from azure.cognitiveservices.search.websearch.models import SafeSearch\n",
    "from msrest.authentication import CognitiveServicesCredentials\n",
    "\n",
    "# Replace with your subscription key.\n",
    "subscription_key = \"YOUR_SUBSCRIPTION_KEY\"\n",
    "\n",
    "# Instantiate the client and replace with your endpoint.\n",
    "client = WebSearchClient(endpoint=\"YOUR_ENDPOINT\", CognitiveServicesCredentials(subscription_key))\n",
    "\n",
    "# Make a request. Replace Yosemite if you'd like.\n",
    "web_data = client.web.search(query=\"Yosemite\")\n",
    "print(\"\\r\\nSearched for Query# \\\" Yosemite \\\"\")\n",
    "\n",
    "'''\n",
    "Web pages\n",
    "If the search response contains web pages, the first result's name and url\n",
    "are printed.\n",
    "'''\n",
    "if hasattr(web_data.web_pages, 'value'):\n",
    "\n",
    "    print(\"\\r\\nWebpage Results#{}\".format(len(web_data.web_pages.value)))\n",
    "\n",
    "    first_web_page = web_data.web_pages.value[0]\n",
    "    print(\"First web page name: {} \".format(first_web_page.name))\n",
    "    print(\"First web page URL: {} \".format(first_web_page.url))\n",
    "\n",
    "else:\n",
    "    print(\"Didn't find any web pages...\")\n",
    "\n",
    "'''\n",
    "Images\n",
    "If the search response contains images, the first result's name and url\n",
    "are printed.\n",
    "'''\n",
    "if hasattr(web_data.images, 'value'):\n",
    "\n",
    "    print(\"\\r\\nImage Results#{}\".format(len(web_data.images.value)))\n",
    "\n",
    "    first_image = web_data.images.value[0]\n",
    "    print(\"First Image name: {} \".format(first_image.name))\n",
    "    print(\"First Image URL: {} \".format(first_image.url))\n",
    "\n",
    "else:\n",
    "    print(\"Didn't find any images...\")\n",
    "\n",
    "'''\n",
    "News\n",
    "If the search response contains news, the first result's name and url\n",
    "are printed.\n",
    "'''\n",
    "if hasattr(web_data.news, 'value'):\n",
    "\n",
    "    print(\"\\r\\nNews Results#{}\".format(len(web_data.news.value)))\n",
    "\n",
    "    first_news = web_data.news.value[0]\n",
    "    print(\"First News name: {} \".format(first_news.name))\n",
    "    print(\"First News URL: {} \".format(first_news.url))\n",
    "\n",
    "else:\n",
    "    print(\"Didn't find any news...\")\n",
    "\n",
    "'''\n",
    "If the search response contains videos, the first result's name and url\n",
    "are printed.\n",
    "'''\n",
    "if hasattr(web_data.videos, 'value'):\n",
    "\n",
    "    print(\"\\r\\nVideos Results#{}\".format(len(web_data.videos.value)))\n",
    "\n",
    "    first_video = web_data.videos.value[0]\n",
    "    print(\"First Videos name: {} \".format(first_video.name))\n",
    "    print(\"First Videos URL: {} \".format(first_video.url))\n",
    "\n",
    "else:\n",
    "    print(\"Didn't find any videos...\")"
   ]
  },
  {
   "cell_type": "code",
   "execution_count": null,
   "metadata": {},
   "outputs": [],
   "source": []
  }
 ],
 "metadata": {
  "kernelspec": {
   "display_name": "Python 3",
   "language": "python",
   "name": "python3"
  },
  "language_info": {
   "codemirror_mode": {
    "name": "ipython",
    "version": 3
   },
   "file_extension": ".py",
   "mimetype": "text/x-python",
   "name": "python",
   "nbconvert_exporter": "python",
   "pygments_lexer": "ipython3",
   "version": "3.7.4"
  }
 },
 "nbformat": 4,
 "nbformat_minor": 2
}
