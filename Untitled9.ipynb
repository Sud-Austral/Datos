{
 "cells": [
  {
   "cell_type": "code",
   "execution_count": null,
   "metadata": {},
   "outputs": [
    {
     "name": "stdout",
     "output_type": "stream",
     "text": [
      "Comenzo...\n",
      "Error a cargar Twiter\n",
      "Productos avanzados completos...\n",
      "Error en Chile/MinCiencia/Input-minCiencia/input/2020-06-15-FechaInicioSintomas.csv\n",
      "Error en Chile/MinCiencia/Input-minCiencia/input/2020-06-15-FechaInicioSintomas_reportadosSEREMI.csv\n",
      "3 carpetas del MinSal completos...\n",
      "Cargar datos de la organización completo...\n",
      "Error a cargar a Bing News\n",
      "Minsal completo...\n",
      "Farmacias completo...\n",
      "Chile completo...\n",
      "se Eliminó la columna Incidence_Rate\n",
      "se Eliminó la columna Case-Fatality_Ratio\n",
      "Hopkins diario completo...\n",
      "Hopkins serie (acumulado) completo...\n",
      "se Eliminó la columna continentExp\n",
      "Error de GITHUB\n",
      "ECDC Europa completo...\n",
      "Error a cargar a Hopkins Worldmeter\n"
     ]
    }
   ],
   "source": [
    "import Servidor as S\n",
    "S.Ciclo()\n"
   ]
  },
  {
   "cell_type": "code",
   "execution_count": null,
   "metadata": {},
   "outputs": [],
   "source": [
    "data = S.minSal3Carpeta()\n"
   ]
  },
  {
   "cell_type": "code",
   "execution_count": null,
   "metadata": {},
   "outputs": [],
   "source": []
  },
  {
   "cell_type": "code",
   "execution_count": null,
   "metadata": {},
   "outputs": [],
   "source": []
  }
 ],
 "metadata": {
  "kernelspec": {
   "display_name": "Python 3",
   "language": "python",
   "name": "python3"
  },
  "language_info": {
   "codemirror_mode": {
    "name": "ipython",
    "version": 3
   },
   "file_extension": ".py",
   "mimetype": "text/x-python",
   "name": "python",
   "nbconvert_exporter": "python",
   "pygments_lexer": "ipython3",
   "version": "3.7.6"
  }
 },
 "nbformat": 4,
 "nbformat_minor": 2
}
