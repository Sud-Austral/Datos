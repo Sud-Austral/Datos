{
 "cells": [
  {
   "cell_type": "code",
   "execution_count": 1,
   "metadata": {},
   "outputs": [
    {
     "name": "stdout",
     "output_type": "stream",
     "text": [
      "{'name': 'Microsoft Rolls Out A Money Management App…And Other Small Business Tech News', 'url': 'https://www.forbes.com/sites/quickerbettertech/2020/04/12/microsoft-rolls-out-a-money-management-appand-other-small-business-tech-news/', 'image': {'thumbnail': {'contentUrl': 'https://www.bing.com/th?id=ON.AA43BA01CC52D8266CE904E973C1A0FB&pid=News', 'width': 700, 'height': 467}}, 'description': 'Here are five things in technology that happened this past week and how they affect your business. Did you miss them?', 'about': [{'readLink': 'https://api.cognitive.microsoft.com/api/v7/entities/a093e9b9-90f5-a3d5-c4b8-5855e1b01f85', 'name': 'Microsoft'}, {'readLink': 'https://api.cognitive.microsoft.com/api/v7/entities/fa721054-524e-4381-1b5b-1a4ecfb71a5c', 'name': 'Small business'}], 'provider': [{'_type': 'Organization', 'name': 'Forbes', 'image': {'thumbnail': {'contentUrl': 'https://www.bing.com/th?id=AR_f798ef715781699feff0f3ea5f101626&pid=news'}}}], 'datePublished': '2020-04-12T12:04:00.0000000Z', 'video': {'name': 'Microsoft Rolls Out A Money Management App…And Other Small Business Tech News', 'thumbnailUrl': 'https://www.bing.com/th?id=ON.AA43BA01CC52D8266CE904E973C1A0FB&pid=News', 'thumbnail': {'width': 480, 'height': 320}}, 'category': 'ScienceAndTechnology'}\n",
      "{'name': \"Microsoft's global internship chief explains the secret to getting hired at the company: Focus on your 'origin story,' not just your resume\", 'url': 'https://www.businessinsider.com/microsoft-recruiting-secret-getting-hired-2020-4', 'image': {'thumbnail': {'contentUrl': 'https://www.bing.com/th?id=ON.86C6AFBA981430838185180DB5E1D96D&pid=News', 'width': 700, 'height': 350}}, 'description': 'Microsoft is still recruiting despite pausing some hiring and moving internships online. The head of its global internships explains how to get hired.', 'provider': [{'_type': 'Organization', 'name': 'Business Insider', 'image': {'thumbnail': {'contentUrl': 'https://www.bing.com/th?id=AMMS_b3ffab7279c7b6b448383d03bb5daec1&pid=news'}}}], 'datePublished': '2020-04-12T12:40:00.0000000Z', 'category': 'ScienceAndTechnology'}\n",
      "{'name': 'Microsoft Suddenly Finds Itself With Two Powerful Options To Service The Growing Demand For Videoconferences', 'url': 'https://www.forbes.com/sites/enriquedans/2020/04/11/microsoft-suddenly-finds-itself-with-two-powerful-options-to-service-the-growing-demand-for-videoconferences/', 'image': {'thumbnail': {'contentUrl': 'https://www.bing.com/th?id=ON.4AB40B449C521EE31DC97F409C4D4D14&pid=News', 'width': 700, 'height': 393}}, 'description': 'The pandemic has found Microsoft not only very well prepared and with its homework done, but even with the possibility of playing two cards, with two options, Skype and Teams, each valid for different audiences and markets.', 'provider': [{'_type': 'Organization', 'name': 'Forbes', 'image': {'thumbnail': {'contentUrl': 'https://www.bing.com/th?id=AR_f798ef715781699feff0f3ea5f101626&pid=news'}}}], 'datePublished': '2020-04-12T12:05:00.0000000Z', 'category': 'ScienceAndTechnology'}\n",
      "{'name': 'Drone video: See Microsoft’s sprawling HQ campus — with no workers in sight during COVID-19 crisis', 'url': 'https://www.geekwire.com/2020/drone-video-see-microsofts-sprawling-hq-campus-no-workers-sight-covid-19-crisis/', 'image': {'thumbnail': {'contentUrl': 'https://www.bing.com/th?id=ON.CC67FCA3C3CA1C7933F74183B4449990&pid=News', 'width': 700, 'height': 393}}, 'description': 'See all special coverage. The pathways and parking lots are empty. No one is seated at the outdoor tables or playing on the soccer field. Life on Microsoft’s sprawling Redmond, Wash., campus has all but disappeared. Coronavirus Live Updates: The latest COVID-19 developments in Seattle and the world of tech A new drone video shared by the ...', 'about': [{'readLink': 'https://api.cognitive.microsoft.com/api/v7/entities/6f139537-5bc1-e0b8-7097-f07441113e28', 'name': 'Crisis'}, {'readLink': 'https://api.cognitive.microsoft.com/api/v7/entities/a093e9b9-90f5-a3d5-c4b8-5855e1b01f85', 'name': 'Microsoft'}], 'provider': [{'_type': 'Organization', 'name': 'GeekWire', 'image': {'thumbnail': {'contentUrl': 'https://www.bing.com/th?id=AR_c873ebf12391119260d05aed584d157e&pid=news'}}}], 'datePublished': '2020-04-12T01:42:00.0000000Z', 'video': {'name': 'Drone video: See Microsoft’s sprawling HQ campus — with no workers in sight during COVID-19 crisis', 'thumbnailUrl': 'https://www.bing.com/th?id=ON.CC67FCA3C3CA1C7933F74183B4449990&pid=News', 'thumbnail': {'width': 480, 'height': 270}}}\n",
      "{'name': 'Deal Alert: Microsoft Surface Book 2 is $559 cheaper today', 'url': 'https://mspoweruser.com/surface-book-2-is-559-cheaper-today/', 'image': {'thumbnail': {'contentUrl': 'https://www.bing.com/th?id=ON.491AFEFB968D2175754B50B8E8F20649&pid=News', 'width': 700, 'height': 415}}, 'description': 'You can now get a Microsoft Surface Book 2 device with Intel Core i7, 13.5-inch display, 16GB RAM and 512GB storage for just $2,071 —that’s $427.63 cheaper than the usual price($2,499). Find the deal here on Amazon. If you want the 15-inch model, that’s even better as you’ll get a massive $559 discount, taking the price of the 15-inch ...', 'provider': [{'_type': 'Organization', 'name': 'MSPoweruser', 'image': {'thumbnail': {'contentUrl': 'https://www.bing.com/th?id=AR_6f9e6de414b90fb237d5f4159386d8ce&pid=news'}}}], 'datePublished': '2020-04-12T16:30:00.0000000Z', 'category': 'ScienceAndTechnology'}\n",
      "{'name': 'Microsoft Teams adds custom background support: How to use it', 'url': 'https://www.msn.com/en-in/finance/news/microsoft-teams-adds-custom-background-support-how-to-use-it/ar-BB12vuuu', 'image': {'thumbnail': {'contentUrl': 'https://www.bing.com/th?id=ON.4FD2A78E9871D6D71DB620747F2F7EBD&pid=News', 'width': 600, 'height': 315}}, 'description': 'Microsoft recently rolled out a new update for its unified communications platform for workplaces called Teams. The new update allows users to select background effects, similar to what controversial video meet app Zoom offers.', 'provider': [{'_type': 'Organization', 'name': 'BGR.in on MSN.com', 'image': {'thumbnail': {'contentUrl': 'https://www.bing.com/th?id=AR_708a50a7ded3ec9d1fead6d54294f3ad&pid=news'}}}], 'datePublished': '2020-04-12T07:26:13.0000000Z', 'video': {'name': 'Amazon Kindle India makes a section of eBooks free for users', 'thumbnailUrl': 'https://www.bing.com/th?id=ON.C02855C35BDD30BDC4C700ECCC65649D&pid=News', 'thumbnail': {'width': 480, 'height': 270}}, 'category': 'ScienceAndTechnology'}\n",
      "{'name': 'Microsoft GroupMe app updated with Skype video chat support', 'url': 'https://mspoweruser.com/microsoft-groupme-app-skype/', 'image': {'thumbnail': {'contentUrl': 'https://www.bing.com/th?id=ON.83E5F600D4EC19A027EFE8B9F8D26F68&pid=News', 'width': 700, 'height': 421}}, 'description': 'Microsoft recently updated the GroupMe app on Android and Windows 10 with a new useful feature. With this update, you can now create a Skype group video call with a single tap inside a GroupMe group chat window. When you tap the Skype icon on the top of the chat window, you will be asked whether you want to create a Skype call link, once you ...', 'provider': [{'_type': 'Organization', 'name': 'MSPoweruser', 'image': {'thumbnail': {'contentUrl': 'https://www.bing.com/th?id=AR_6f9e6de414b90fb237d5f4159386d8ce&pid=news'}}}], 'datePublished': '2020-04-12T11:13:00.0000000Z', 'category': 'ScienceAndTechnology'}\n",
      "{'name': 'Microsoft founder Bill Gates discusses the global fight against the coronavirus', 'url': 'https://www.bbc.co.uk/programmes/p0896rpg', 'image': {'thumbnail': {'contentUrl': 'https://www.bing.com/th?id=ON.9F1ECB1A0EF6BF966DB7DCEAC4912AF0&pid=News', 'width': 700, 'height': 393}}, 'description': 'Copyright © 2020 BBC. The BBC is not responsible for the content of external sites. Read about our approach to external linking.', 'provider': [{'_type': 'Organization', 'name': 'BBC', 'image': {'thumbnail': {'contentUrl': 'https://www.bing.com/th?id=AR_b639c1691c4fa767d85fd87b7042f9e6&pid=news'}}}], 'datePublished': '2020-04-12T06:00:00.0000000Z'}\n",
      "{'name': 'Leaked memo: Microsoft is offering 12 weeks of paid leave for parents as schools remain closed for the academic year', 'url': 'https://www.businessinsider.com/microsoft-paid-parental-leave-coronavirus-2020-4', 'image': {'thumbnail': {'contentUrl': 'https://www.bing.com/th?id=ON.271B6D0BF97183D3DD0822DA39A0C148&pid=News', 'width': 700, 'height': 350}}, 'description': 'Microsoft is offering 12 weeks of paid leave to employees as schools remain closed, according an internal memo reviewed by Business Insider.', 'provider': [{'_type': 'Organization', 'name': 'Business Insider', 'image': {'thumbnail': {'contentUrl': 'https://www.bing.com/th?id=AMMS_b3ffab7279c7b6b448383d03bb5daec1&pid=news'}}}], 'datePublished': '2020-04-11T05:50:00.0000000Z', 'category': 'ScienceAndTechnology'}\n",
      "{'name': 'Microsoft is giving workers 12 weeks of paid parental leave because of school disruptions', 'url': 'https://www.msn.com/en-us/news/other/microsoft-is-giving-workers-12-weeks-of-paid-parental-leave-because-of-school-disruptions/ar-BB12pkH0', 'image': {'thumbnail': {'contentUrl': 'https://www.bing.com/th?id=ON.A3383F6DE677199A0680F7CC2022F1CC&pid=News', 'width': 600, 'height': 315}}, 'description': 'Microsoft is giving its workers an additional three months of paid parental leave to deal with extended school closures due to the coronavirus outbreak.', 'provider': [{'_type': 'Organization', 'name': 'CNN on MSN.com', 'image': {'thumbnail': {'contentUrl': 'https://www.bing.com/th?id=AR_34c0b98797bce395c518158cf055747c&pid=news'}}}], 'datePublished': '2020-04-09T23:47:41.0000000Z', 'category': 'ScienceAndTechnology'}\n"
     ]
    }
   ],
   "source": [
    "########### Python 3.2 #############\n",
    "import http.client, urllib.request, urllib.parse, urllib.error, base64, json,codecs\n",
    "\n",
    "\n",
    "headers = {\n",
    "    # Request headers\n",
    "    'Ocp-Apim-Subscription-Key': 'b091fbaeb9f94255b542befc3ecff8b8',\n",
    "}\n",
    "\n",
    "params = urllib.parse.urlencode({\n",
    "    # Request parameters\n",
    "    'q': 'microsoft',\n",
    "    'count': '10',\n",
    "    'offset': '0',\n",
    "    'mkt': 'en-us',\n",
    "    'safeSearch': 'Moderate',\n",
    "})\n",
    "\"\"\"\n",
    "try:\n",
    "    conn = http.client.HTTPSConnection('api.cognitive.microsoft.com')\n",
    "    conn.request(\"GET\", \"/bing/v7.0/news/search?%s\" % params, \"{body}\", headers)\n",
    "    response = conn.getresponse()\n",
    "    #data = response.read()\n",
    "    print(response.content)\n",
    "    conn.close()\n",
    "except Exception as e:\n",
    "    print(\"[Errno {0}] {1}\".format(e.errno, e.strerror))\n",
    "\"\"\"\n",
    "####################################\n",
    "\n",
    "conn = http.client.HTTPSConnection('api.cognitive.microsoft.com')\n",
    "conn.request(\"GET\", \"/bing/v7.0/news/search?%s\" % params, \"{body}\", headers)\n",
    "response = conn.getresponse()\n",
    "#data = response.read()\n",
    "\n",
    "decoded_data=codecs.decode(response.read(), 'utf-8-sig')\n",
    "d = json.loads(decoded_data)\n",
    "\n",
    "\n",
    "#data = str(response.read())\n",
    "for i in d['value']:\n",
    "    print(i)\n",
    "\"\"\"\n",
    "print(d['value'].keys())\n",
    "print(d['value'])\n",
    "\"\"\"\n",
    "conn.close()"
   ]
  },
  {
   "cell_type": "code",
   "execution_count": null,
   "metadata": {},
   "outputs": [],
   "source": []
  }
 ],
 "metadata": {
  "kernelspec": {
   "display_name": "Python 3",
   "language": "python",
   "name": "python3"
  },
  "language_info": {
   "codemirror_mode": {
    "name": "ipython",
    "version": 3
   },
   "file_extension": ".py",
   "mimetype": "text/x-python",
   "name": "python",
   "nbconvert_exporter": "python",
   "pygments_lexer": "ipython3",
   "version": "3.7.4"
  }
 },
 "nbformat": 4,
 "nbformat_minor": 2
}
