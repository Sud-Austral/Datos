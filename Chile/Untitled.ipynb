{
 "cells": [
  {
   "cell_type": "code",
   "execution_count": 1,
   "metadata": {},
   "outputs": [
    {
     "name": "stdout",
     "output_type": "stream",
     "text": [
      "On branch master\n",
      "Your branch is up to date with 'origin/master'.\n",
      "\n",
      "Changes not staged for commit:\n",
      "  (use \"git add <file>...\" to update what will be committed)\n",
      "  (use \"git checkout -- <file>...\" to discard changes in working directory)\n",
      "\n",
      "\tmodified:   FuncionMuestra.ipynb\n",
      "\n",
      "no changes added to commit (use \"git add\" and/or \"git commit -a\")\n"
     ]
    },
    {
     "data": {
      "text/plain": [
       "[<git.remote.PushInfo at 0x2200125cd08>]"
      ]
     },
     "execution_count": 1,
     "metadata": {},
     "output_type": "execute_result"
    }
   ],
   "source": [
    "import pandas as pd\n",
    "import git\n",
    "url_chile = \"https://raw.githubusercontent.com/ivanMSC/COVID19_Chile/master/covid19_chile.csv\"\n",
    "pd.read_csv(url_chile).to_csv(\"covid19_chile.csv\", index=False)\n",
    "\n",
    "url_comunas = \"https://raw.githubusercontent.com/ivanMSC/COVID19_Chile/master/covid19_comunas.csv\"\n",
    "pd.read_csv(url_chile).to_csv(\"covid19_comunas.csv\", index=False)\n",
    "\n",
    "url_old = \"https://raw.githubusercontent.com/ivanMSC/COVID19_Chile/master/old/covid19_chile.csv\"\n",
    "pd.read_csv(url_chile).to_csv(\"covid19_chile.csv\", index=False)\n",
    "\n",
    "\n",
    "\n",
    "repoLocal = git.Repo( 'C:/Users/limc_/Documents/GitHub/Datos' )\n",
    "print(repoLocal.git.status())\n",
    "repoLocal.git.add(\".\")\n",
    "try:\n",
    "    repoLocal.git.commit(m='Update automatico via python')\n",
    "except:\n",
    "    pass\n",
    "\n",
    "origin = repoLocal.remote(name='origin')\n",
    "origin.push()\n",
    "        "
   ]
  },
  {
   "cell_type": "code",
   "execution_count": null,
   "metadata": {},
   "outputs": [],
   "source": []
  }
 ],
 "metadata": {
  "kernelspec": {
   "display_name": "Python 3",
   "language": "python",
   "name": "python3"
  },
  "language_info": {
   "codemirror_mode": {
    "name": "ipython",
    "version": 3
   },
   "file_extension": ".py",
   "mimetype": "text/x-python",
   "name": "python",
   "nbconvert_exporter": "python",
   "pygments_lexer": "ipython3",
   "version": "3.7.4"
  }
 },
 "nbformat": 4,
 "nbformat_minor": 2
}
