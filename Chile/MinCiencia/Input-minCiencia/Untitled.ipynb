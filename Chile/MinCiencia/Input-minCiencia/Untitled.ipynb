{
 "cells": [
  {
   "cell_type": "code",
   "execution_count": 1,
   "metadata": {},
   "outputs": [],
   "source": [
    "import pandas as pd"
   ]
  },
  {
   "cell_type": "code",
   "execution_count": 6,
   "metadata": {},
   "outputs": [],
   "source": [
    "minsalud = [\n",
    "        #InformeEpidemiologico\n",
    "        \"https://raw.githubusercontent.com/MinCiencia/Datos-COVID19/master/input/InformeEpidemiologico/CasosActivosPorComuna.csv\",\n",
    "        \"https://raw.githubusercontent.com/MinCiencia/Datos-COVID19/master/input/InformeEpidemiologico/CasosActualesPorComuna.csv\",\n",
    "        \"https://raw.githubusercontent.com/MinCiencia/Datos-COVID19/master/input/InformeEpidemiologico/CasosAcumuladosPorComuna.csv\",\n",
    "        \"https://raw.githubusercontent.com/MinCiencia/Datos-COVID19/master/input/InformeEpidemiologico/CasosGeneroEtario.csv\",\n",
    "        \"https://raw.githubusercontent.com/MinCiencia/Datos-COVID19/master/input/InformeEpidemiologico/FechaInicioSintomas.csv\",\n",
    "        \"https://raw.githubusercontent.com/MinCiencia/Datos-COVID19/master/input/InformeEpidemiologico/SemanasEpidemiologicas.csv\",\n",
    "        \"https://raw.githubusercontent.com/MinCiencia/Datos-COVID19/master/input/InformeEpidemiologico/Tasadeincidencia.csv\",\n",
    "        #InformeSituacionCOVID19\n",
    "        \"https://raw.githubusercontent.com/MinCiencia/Datos-COVID19/master/input/InformeSituacionCOVID19/HospitalizadosEtario_Acumulado_Post20200422.csv\",\n",
    "        \"https://raw.githubusercontent.com/MinCiencia/Datos-COVID19/master/input/InformeSituacionCOVID19/HospitalizadosGeneroEtario_Acumulado.csv\",\n",
    "        \"https://raw.githubusercontent.com/MinCiencia/Datos-COVID19/master/input/InformeSituacionCOVID19/HospitalizadosUCI_Acumulado.csv\",\n",
    "        \"https://raw.githubusercontent.com/MinCiencia/Datos-COVID19/master/input/InformeSituacionCOVID19/HospitalizadosUCI_Acumulado_Post20200422.csv\",\n",
    "        \"https://raw.githubusercontent.com/MinCiencia/Datos-COVID19/master/input/InformeSituacionCOVID19/SintomasCasosConfirmados.csv\",\n",
    "        \"https://raw.githubusercontent.com/MinCiencia/Datos-COVID19/master/input/InformeSituacionCOVID19/SintomasHospitalizados.csv\",\n",
    "        #\n",
    "        \"https://raw.githubusercontent.com/MinCiencia/Datos-COVID19/master/input/ReporteDiario/CamasHospital_Diario.csv\",\n",
    "        \"https://raw.githubusercontent.com/MinCiencia/Datos-COVID19/master/input/ReporteDiario/FallecidosEtario.csv\",\n",
    "        \"https://raw.githubusercontent.com/MinCiencia/Datos-COVID19/master/input/ReporteDiario/HospitalizadosUCIEtario.csv\",\n",
    "        \"https://raw.githubusercontent.com/MinCiencia/Datos-COVID19/master/input/ReporteDiario/NumeroVentiladores.csv\",\n",
    "        \"https://raw.githubusercontent.com/MinCiencia/Datos-COVID19/master/input/ReporteDiario/PCR.csv\",\n",
    "        \"https://raw.githubusercontent.com/MinCiencia/Datos-COVID19/master/input/ReporteDiario/PCREstablecimiento.csv\",\n",
    "        \"https://raw.githubusercontent.com/MinCiencia/Datos-COVID19/master/input/ReporteDiario/PacientesCriticos.csv\",\n",
    "        \"https://raw.githubusercontent.com/MinCiencia/Datos-COVID19/master/input/ReporteDiario/UCI.csv\"\n",
    "        ]"
   ]
  },
  {
   "cell_type": "code",
   "execution_count": 7,
   "metadata": {},
   "outputs": [
    {
     "name": "stdout",
     "output_type": "stream",
     "text": [
      "InformeEpidemiologico/CasosActivosPorComuna.csv\n",
      "InformeEpidemiologico/CasosActualesPorComuna.csv\n",
      "InformeEpidemiologico/CasosAcumuladosPorComuna.csv\n",
      "InformeEpidemiologico/CasosGeneroEtario.csv\n",
      "InformeEpidemiologico/FechaInicioSintomas.csv\n",
      "InformeEpidemiologico/SemanasEpidemiologicas.csv\n",
      "InformeEpidemiologico/Tasadeincidencia.csv\n",
      "InformeSituacionCOVID19/HospitalizadosEtario_Acumulado_Post20200422.csv\n",
      "InformeSituacionCOVID19/HospitalizadosGeneroEtario_Acumulado.csv\n",
      "InformeSituacionCOVID19/HospitalizadosUCI_Acumulado.csv\n",
      "InformeSituacionCOVID19/HospitalizadosUCI_Acumulado_Post20200422.csv\n",
      "InformeSituacionCOVID19/SintomasCasosConfirmados.csv\n",
      "InformeSituacionCOVID19/SintomasHospitalizados.csv\n",
      "ReporteDiario/CamasHospital_Diario.csv\n",
      "ReporteDiario/FallecidosEtario.csv\n",
      "ReporteDiario/HospitalizadosUCIEtario.csv\n",
      "ReporteDiario/NumeroVentiladores.csv\n",
      "ReporteDiario/PCR.csv\n",
      "ReporteDiario/PCREstablecimiento.csv\n",
      "ReporteDiario/PacientesCriticos.csv\n",
      "ReporteDiario/UCI.csv\n"
     ]
    }
   ],
   "source": [
    "for i in minsalud:\n",
    "    data = pd.read_csv(i)\n",
    "    archivo = i.split(\"/\")[-2] + \"/\" + i.split(\"/\")[-1]\n",
    "    data.to_csv(archivo, index=False)\n",
    "    print(i.split(\"/\")[-2] + \"/\" + i.split(\"/\")[-1])"
   ]
  },
  {
   "cell_type": "code",
   "execution_count": 8,
   "metadata": {},
   "outputs": [],
   "source": [
    "def minSal3Carpeta():\n",
    "    minsalud = [\n",
    "        #InformeEpidemiologico\n",
    "        \"https://raw.githubusercontent.com/MinCiencia/Datos-COVID19/master/input/InformeEpidemiologico/CasosActivosPorComuna.csv\",\n",
    "        \"https://raw.githubusercontent.com/MinCiencia/Datos-COVID19/master/input/InformeEpidemiologico/CasosActualesPorComuna.csv\",\n",
    "        \"https://raw.githubusercontent.com/MinCiencia/Datos-COVID19/master/input/InformeEpidemiologico/CasosAcumuladosPorComuna.csv\",\n",
    "        \"https://raw.githubusercontent.com/MinCiencia/Datos-COVID19/master/input/InformeEpidemiologico/CasosGeneroEtario.csv\",\n",
    "        \"https://raw.githubusercontent.com/MinCiencia/Datos-COVID19/master/input/InformeEpidemiologico/FechaInicioSintomas.csv\",\n",
    "        \"https://raw.githubusercontent.com/MinCiencia/Datos-COVID19/master/input/InformeEpidemiologico/SemanasEpidemiologicas.csv\",\n",
    "        \"https://raw.githubusercontent.com/MinCiencia/Datos-COVID19/master/input/InformeEpidemiologico/Tasadeincidencia.csv\",\n",
    "        #InformeSituacionCOVID19\n",
    "        \"https://raw.githubusercontent.com/MinCiencia/Datos-COVID19/master/input/InformeSituacionCOVID19/HospitalizadosEtario_Acumulado_Post20200422.csv\",\n",
    "        \"https://raw.githubusercontent.com/MinCiencia/Datos-COVID19/master/input/InformeSituacionCOVID19/HospitalizadosGeneroEtario_Acumulado.csv\",\n",
    "        \"https://raw.githubusercontent.com/MinCiencia/Datos-COVID19/master/input/InformeSituacionCOVID19/HospitalizadosUCI_Acumulado.csv\",\n",
    "        \"https://raw.githubusercontent.com/MinCiencia/Datos-COVID19/master/input/InformeSituacionCOVID19/HospitalizadosUCI_Acumulado_Post20200422.csv\",\n",
    "        \"https://raw.githubusercontent.com/MinCiencia/Datos-COVID19/master/input/InformeSituacionCOVID19/SintomasCasosConfirmados.csv\",\n",
    "        \"https://raw.githubusercontent.com/MinCiencia/Datos-COVID19/master/input/InformeSituacionCOVID19/SintomasHospitalizados.csv\",\n",
    "        #\n",
    "        \"https://raw.githubusercontent.com/MinCiencia/Datos-COVID19/master/input/ReporteDiario/CamasHospital_Diario.csv\",\n",
    "        \"https://raw.githubusercontent.com/MinCiencia/Datos-COVID19/master/input/ReporteDiario/FallecidosEtario.csv\",\n",
    "        \"https://raw.githubusercontent.com/MinCiencia/Datos-COVID19/master/input/ReporteDiario/HospitalizadosUCIEtario.csv\",\n",
    "        \"https://raw.githubusercontent.com/MinCiencia/Datos-COVID19/master/input/ReporteDiario/NumeroVentiladores.csv\",\n",
    "        \"https://raw.githubusercontent.com/MinCiencia/Datos-COVID19/master/input/ReporteDiario/PCR.csv\",\n",
    "        \"https://raw.githubusercontent.com/MinCiencia/Datos-COVID19/master/input/ReporteDiario/PCREstablecimiento.csv\",\n",
    "        \"https://raw.githubusercontent.com/MinCiencia/Datos-COVID19/master/input/ReporteDiario/PacientesCriticos.csv\",\n",
    "        \"https://raw.githubusercontent.com/MinCiencia/Datos-COVID19/master/input/ReporteDiario/UCI.csv\"\n",
    "        ]\n",
    "    #ruta = \"Chile/MinCiencia/Input-minCiencia/\"\n",
    "    ruta = \"\"\n",
    "    for i in minsalud:\n",
    "        data = pd.read_csv(i)\n",
    "        archivo = ruta + i.split(\"/\")[-2] + \"/\" + i.split(\"/\")[-1]\n",
    "        data.to_csv(archivo, index=False)\n",
    "        print(i.split(\"/\")[-2] + \"/\" + i.split(\"/\")[-1])\n",
    "    "
   ]
  },
  {
   "cell_type": "code",
   "execution_count": 9,
   "metadata": {},
   "outputs": [
    {
     "name": "stdout",
     "output_type": "stream",
     "text": [
      "InformeEpidemiologico/CasosActivosPorComuna.csv\n",
      "InformeEpidemiologico/CasosActualesPorComuna.csv\n",
      "InformeEpidemiologico/CasosAcumuladosPorComuna.csv\n",
      "InformeEpidemiologico/CasosGeneroEtario.csv\n",
      "InformeEpidemiologico/FechaInicioSintomas.csv\n",
      "InformeEpidemiologico/SemanasEpidemiologicas.csv\n",
      "InformeEpidemiologico/Tasadeincidencia.csv\n",
      "InformeSituacionCOVID19/HospitalizadosEtario_Acumulado_Post20200422.csv\n",
      "InformeSituacionCOVID19/HospitalizadosGeneroEtario_Acumulado.csv\n",
      "InformeSituacionCOVID19/HospitalizadosUCI_Acumulado.csv\n",
      "InformeSituacionCOVID19/HospitalizadosUCI_Acumulado_Post20200422.csv\n",
      "InformeSituacionCOVID19/SintomasCasosConfirmados.csv\n",
      "InformeSituacionCOVID19/SintomasHospitalizados.csv\n",
      "ReporteDiario/CamasHospital_Diario.csv\n",
      "ReporteDiario/FallecidosEtario.csv\n",
      "ReporteDiario/HospitalizadosUCIEtario.csv\n",
      "ReporteDiario/NumeroVentiladores.csv\n",
      "ReporteDiario/PCR.csv\n",
      "ReporteDiario/PCREstablecimiento.csv\n",
      "ReporteDiario/PacientesCriticos.csv\n",
      "ReporteDiario/UCI.csv\n"
     ]
    }
   ],
   "source": [
    "minSal3Carpeta()"
   ]
  },
  {
   "cell_type": "code",
   "execution_count": null,
   "metadata": {},
   "outputs": [],
   "source": []
  }
 ],
 "metadata": {
  "kernelspec": {
   "display_name": "Python 3",
   "language": "python",
   "name": "python3"
  },
  "language_info": {
   "codemirror_mode": {
    "name": "ipython",
    "version": 3
   },
   "file_extension": ".py",
   "mimetype": "text/x-python",
   "name": "python",
   "nbconvert_exporter": "python",
   "pygments_lexer": "ipython3",
   "version": "3.7.4"
  }
 },
 "nbformat": 4,
 "nbformat_minor": 2
}
