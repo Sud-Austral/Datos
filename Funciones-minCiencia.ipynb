{
 "cells": [
  {
   "cell_type": "code",
   "execution_count": 4,
   "metadata": {},
   "outputs": [],
   "source": [
    "import pandas as pd\n",
    "from datetime import datetime"
   ]
  },
  {
   "cell_type": "code",
   "execution_count": 5,
   "metadata": {},
   "outputs": [],
   "source": [
    "def organizarMinCienciaInput():\n",
    "    url = \"https://raw.githubusercontent.com/MinCiencia/Datos-COVID19/master/input/InformeEpidemiologico/CasosActivosPorComuna.csv\"\n",
    "    resultado = pd.read_csv(url)\n",
    "    resultado.to_csv(\"Chile/MinCiencia/Input-minCiencia/InformeEpidemiologico/CasosActivosPorComuna.csv\")\n",
    "    \n",
    "    url = \"https://raw.githubusercontent.com/MinCiencia/Datos-COVID19/master/input/InformeEpidemiologico/CasosAcumuladosPorComuna.csv\"\n",
    "    resultado = pd.read_csv(url)\n",
    "    resultado.to_csv(\"Chile/MinCiencia/Input-minCiencia/InformeEpidemiologico/CasosAcumuladosPorComuna.csv\")\n",
    "    \n",
    "    url = \"https://raw.githubusercontent.com/MinCiencia/Datos-COVID19/master/input/InformeEpidemiologico/CasosGeneroEtario.csv\"\n",
    "    resultado = pd.read_csv(url)\n",
    "    resultado.to_csv(\"Chile/MinCiencia/Input-minCiencia/InformeEpidemiologico/CasosGeneroEtario.csv\")\n",
    "    \n",
    "    url = \"https://raw.githubusercontent.com/MinCiencia/Datos-COVID19/master/input/InformeEpidemiologico/FechaInicioSintomas.csv\"\n",
    "    resultado = pd.read_csv(url)\n",
    "    resultado.to_csv(\"Chile/MinCiencia/Input-minCiencia/InformeEpidemiologico/FechaInicioSintomas.csv\")\n",
    "    \n",
    "    url = \"https://raw.githubusercontent.com/MinCiencia/Datos-COVID19/master/input/InformeEpidemiologico/SemanasEpidemiologicas.csv\"\n",
    "    resultado = pd.read_csv(url)\n",
    "    resultado.to_csv(\"Chile/MinCiencia/Input-minCiencia/InformeEpidemiologico/SemanasEpidemiologicas.csv\")\n",
    "    \n",
    "    url = \"https://raw.githubusercontent.com/MinCiencia/Datos-COVID19/master/input/InformeEpidemiologico/Tasadeincidencia.csv\"\n",
    "    resultado = pd.read_csv(url)\n",
    "    resultado.to_csv(\"Chile/MinCiencia/Input-minCiencia/InformeEpidemiologico/Tasadeincidencia.csv\")\n",
    "    \n",
    "    \n",
    "    url = \"https://raw.githubusercontent.com/MinCiencia/Datos-COVID19/master/input/InformeSituacionCOVID19/HospitalizadosGeneroEtario.csv\"\n",
    "    resultado = pd.read_csv(url)\n",
    "    resultado.to_csv(\"Chile/MinCiencia/Input-minCiencia/InformeSituacionCOVID19/HospitalizadosGeneroEtario.csv\")\n",
    "    \n",
    "    url = \"https://raw.githubusercontent.com/MinCiencia/Datos-COVID19/master/input/InformeSituacionCOVID19/SintomasCasosConfirmados.csv\"\n",
    "    resultado = pd.read_csv(url)\n",
    "    resultado.to_csv(\"Chile/MinCiencia/Input-minCiencia/InformeSituacionCOVID19/SintomasCasosConfirmados.csv\")\n",
    "    \n",
    "    url = \"https://raw.githubusercontent.com/MinCiencia/Datos-COVID19/master/input/InformeSituacionCOVID19/SintomasHospitalizados.csv\"\n",
    "    resultado = pd.read_csv(url)\n",
    "    resultado.to_csv(\"Chile/MinCiencia/Input-minCiencia/InformeSituacionCOVID19/SintomasHospitalizados.csv\")\n",
    "    \n",
    "    \n",
    "    url = \"https://raw.githubusercontent.com/MinCiencia/Datos-COVID19/master/input/ReporteDiario/FallecidosEtario.csv\"\n",
    "    resultado = pd.read_csv(url)\n",
    "    resultado.to_csv(\"Chile/MinCiencia/Input-minCiencia/ReporteDiario/FallecidosEtario.csv\")\n",
    "    \n",
    "    url = \"https://raw.githubusercontent.com/MinCiencia/Datos-COVID19/master/input/ReporteDiario/HospitalizadosUCIEtario.csv\"\n",
    "    resultado = pd.read_csv(url)\n",
    "    resultado.to_csv(\"Chile/MinCiencia/Input-minCiencia/ReporteDiario/HospitalizadosUCIEtario.csv\")\n",
    "    \n",
    "    url = \"https://raw.githubusercontent.com/MinCiencia/Datos-COVID19/master/input/ReporteDiario/NumeroVentiladores.csv\"\n",
    "    resultado = pd.read_csv(url)\n",
    "    resultado.to_csv(\"Chile/MinCiencia/Input-minCiencia/ReporteDiario/NumeroVentiladores.csv\")\n",
    "    \n",
    "    url = \"https://raw.githubusercontent.com/MinCiencia/Datos-COVID19/master/input/ReporteDiario/PCR.csv\"\n",
    "    resultado = pd.read_csv(url)\n",
    "    resultado.to_csv(\"Chile/MinCiencia/Input-minCiencia/ReporteDiario/PCR.csv\")\n",
    "    \n",
    "    url = \"https://raw.githubusercontent.com/MinCiencia/Datos-COVID19/master/input/ReporteDiario/PCREstablecimiento.csv\"\n",
    "    resultado = pd.read_csv(url)\n",
    "    resultado.to_csv(\"Chile/MinCiencia/Input-minCiencia/ReporteDiario/PCREstablecimiento.csv\")\n",
    "    \n",
    "    url = \"https://raw.githubusercontent.com/MinCiencia/Datos-COVID19/master/input/ReporteDiario/PacientesCriticos.csv\"\n",
    "    resultado = pd.read_csv(url)\n",
    "    resultado.to_csv(\"Chile/MinCiencia/Input-minCiencia/ReporteDiario/PacientesCriticos.csv\")\n",
    "    \n",
    "    url = \"https://raw.githubusercontent.com/MinCiencia/Datos-COVID19/master/input/ReporteDiario/UCI.csv\"\n",
    "    resultado = pd.read_csv(url)\n",
    "    resultado.to_csv(\"Chile/MinCiencia/Input-minCiencia/ReporteDiario/UCI.csv\")\n",
    "    \n",
    "    return\n",
    "    "
   ]
  },
  {
   "cell_type": "code",
   "execution_count": 6,
   "metadata": {},
   "outputs": [],
   "source": [
    "organizarMinCienciaInput()"
   ]
  },
  {
   "cell_type": "code",
   "execution_count": null,
   "metadata": {},
   "outputs": [],
   "source": []
  }
 ],
 "metadata": {
  "kernelspec": {
   "display_name": "Python 3",
   "language": "python",
   "name": "python3"
  },
  "language_info": {
   "codemirror_mode": {
    "name": "ipython",
    "version": 3
   },
   "file_extension": ".py",
   "mimetype": "text/x-python",
   "name": "python",
   "nbconvert_exporter": "python",
   "pygments_lexer": "ipython3",
   "version": "3.7.6"
  }
 },
 "nbformat": 4,
 "nbformat_minor": 4
}
